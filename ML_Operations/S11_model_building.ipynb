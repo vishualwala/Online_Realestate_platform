{
 "cells": [
  {
   "cell_type": "code",
   "execution_count": 1,
   "id": "172e87f3-3c84-42c5-be4b-e12ca6926927",
   "metadata": {
    "executionInfo": {
     "elapsed": 7706,
     "status": "ok",
     "timestamp": 1725457819432,
     "user": {
      "displayName": "Dipanjan Pathak",
      "userId": "18105456278807188077"
     },
     "user_tz": -330
    },
    "id": "172e87f3-3c84-42c5-be4b-e12ca6926927"
   },
   "outputs": [],
   "source": [
    "import pandas as pd\n",
    "import numpy as np\n",
    "from sklearn.compose import ColumnTransformer\n",
    "from sklearn.preprocessing import StandardScaler, OrdinalEncoder, OneHotEncoder\n",
    "from sklearn.pipeline import Pipeline\n",
    "from sklearn.model_selection import KFold,cross_val_score, train_test_split\n",
    "from sklearn.metrics import mean_absolute_error, mean_squared_error\n",
    "from xgboost import XGBRegressor\n",
    "import category_encoders as ce\n",
    "import optuna\n",
    "from optuna.integration import OptunaSearchCV\n",
    "from skopt import BayesSearchCV\n",
    "from sklearn.ensemble import ExtraTreesRegressor\n",
    "from skopt.space import Categorical, Integer\n",
    "import warnings\n",
    "import seaborn as sns\n",
    "import matplotlib.pyplot as plt\n",
    "warnings.filterwarnings('ignore')\n"
   ]
  },
  {
   "cell_type": "code",
   "execution_count": 2,
   "id": "168867a9-0973-443f-9e7d-aba86dc0c568",
   "metadata": {
    "executionInfo": {
     "elapsed": 528,
     "status": "ok",
     "timestamp": 1725457850835,
     "user": {
      "displayName": "Dipanjan Pathak",
      "userId": "18105456278807188077"
     },
     "user_tz": -330
    },
    "id": "168867a9-0973-443f-9e7d-aba86dc0c568"
   },
   "outputs": [],
   "source": [
    "df = pd.read_csv('ml_data.csv')"
   ]
  },
  {
   "cell_type": "code",
   "execution_count": 3,
   "id": "1c22e515-3f7e-4696-b09e-c874df14bf69",
   "metadata": {
    "executionInfo": {
     "elapsed": 506,
     "status": "ok",
     "timestamp": 1725457854154,
     "user": {
      "displayName": "Dipanjan Pathak",
      "userId": "18105456278807188077"
     },
     "user_tz": -330
    },
    "id": "1c22e515-3f7e-4696-b09e-c874df14bf69"
   },
   "outputs": [],
   "source": [
    "df.drop(columns=['PROP_ID','PROPERTY_TYPE','Price_per_sqft','TOTAL_FLOOR','SOCIETY_NAME'], inplace=True)"
   ]
  },
  {
   "cell_type": "code",
   "execution_count": 4,
   "id": "41d06210-536b-42c4-82e9-1d89d66243e9",
   "metadata": {
    "colab": {
     "base_uri": "https://localhost:8080/",
     "height": 80
    },
    "executionInfo": {
     "elapsed": 648,
     "status": "ok",
     "timestamp": 1725457857342,
     "user": {
      "displayName": "Dipanjan Pathak",
      "userId": "18105456278807188077"
     },
     "user_tz": -330
    },
    "id": "41d06210-536b-42c4-82e9-1d89d66243e9",
    "outputId": "e036415c-17eb-4ee7-efae-98a149958ee0"
   },
   "outputs": [
    {
     "data": {
      "text/html": [
       "<div>\n",
       "<style scoped>\n",
       "    .dataframe tbody tr th:only-of-type {\n",
       "        vertical-align: middle;\n",
       "    }\n",
       "\n",
       "    .dataframe tbody tr th {\n",
       "        vertical-align: top;\n",
       "    }\n",
       "\n",
       "    .dataframe thead th {\n",
       "        text-align: right;\n",
       "    }\n",
       "</style>\n",
       "<table border=\"1\" class=\"dataframe\">\n",
       "  <thead>\n",
       "    <tr style=\"text-align: right;\">\n",
       "      <th></th>\n",
       "      <th>location</th>\n",
       "      <th>BEDROOM_NUM</th>\n",
       "      <th>BALCONY_NUM</th>\n",
       "      <th>AREA</th>\n",
       "      <th>PRICE</th>\n",
       "      <th>AGE</th>\n",
       "      <th>FURNISH</th>\n",
       "      <th>amenity_luxury</th>\n",
       "      <th>FLOOR_NUM</th>\n",
       "    </tr>\n",
       "  </thead>\n",
       "  <tbody>\n",
       "    <tr>\n",
       "      <th>4209</th>\n",
       "      <td>Rajarhat</td>\n",
       "      <td>2.0</td>\n",
       "      <td>1.0</td>\n",
       "      <td>780</td>\n",
       "      <td>0.32</td>\n",
       "      <td>New Property</td>\n",
       "      <td>Fully furnished</td>\n",
       "      <td>338.0</td>\n",
       "      <td>3</td>\n",
       "    </tr>\n",
       "  </tbody>\n",
       "</table>\n",
       "</div>"
      ],
      "text/plain": [
       "      location  BEDROOM_NUM  BALCONY_NUM  AREA  PRICE           AGE  \\\n",
       "4209  Rajarhat          2.0          1.0   780   0.32  New Property   \n",
       "\n",
       "              FURNISH  amenity_luxury  FLOOR_NUM  \n",
       "4209  Fully furnished           338.0          3  "
      ]
     },
     "execution_count": 4,
     "metadata": {},
     "output_type": "execute_result"
    }
   ],
   "source": [
    "df.sample()"
   ]
  },
  {
   "cell_type": "code",
   "execution_count": 5,
   "id": "4739ce47-5684-4f0a-9989-debfd843b67a",
   "metadata": {},
   "outputs": [],
   "source": [
    "df['amenity_luxury'] = df['amenity_luxury'].apply(lambda x: 'Low' if x <=200 else 'Medium' if x <= 500 else 'High')"
   ]
  },
  {
   "cell_type": "code",
   "execution_count": 6,
   "id": "9a7ee269-5d8c-4b42-8d54-8a7032fb57fe",
   "metadata": {},
   "outputs": [],
   "source": [
    "df['FLOOR_NUM'] = df['FLOOR_NUM'].apply(lambda x : 'Low Floor' if x <= 2 else 'Mid Floor' if x <= 10 else 'High Floor')"
   ]
  },
  {
   "cell_type": "code",
   "execution_count": 8,
   "id": "383053a2-73f7-42bc-af38-69a5956f6dac",
   "metadata": {
    "executionInfo": {
     "elapsed": 4,
     "status": "ok",
     "timestamp": 1725457861170,
     "user": {
      "displayName": "Dipanjan Pathak",
      "userId": "18105456278807188077"
     },
     "user_tz": -330
    },
    "id": "383053a2-73f7-42bc-af38-69a5956f6dac"
   },
   "outputs": [],
   "source": [
    "x = df.drop(columns=['PRICE'])"
   ]
  },
  {
   "cell_type": "code",
   "execution_count": 9,
   "id": "3e909532-095d-44a3-8a2d-6e8ce1383a80",
   "metadata": {},
   "outputs": [
    {
     "data": {
      "text/html": [
       "<div>\n",
       "<style scoped>\n",
       "    .dataframe tbody tr th:only-of-type {\n",
       "        vertical-align: middle;\n",
       "    }\n",
       "\n",
       "    .dataframe tbody tr th {\n",
       "        vertical-align: top;\n",
       "    }\n",
       "\n",
       "    .dataframe thead th {\n",
       "        text-align: right;\n",
       "    }\n",
       "</style>\n",
       "<table border=\"1\" class=\"dataframe\">\n",
       "  <thead>\n",
       "    <tr style=\"text-align: right;\">\n",
       "      <th></th>\n",
       "      <th>location</th>\n",
       "      <th>BEDROOM_NUM</th>\n",
       "      <th>BALCONY_NUM</th>\n",
       "      <th>AREA</th>\n",
       "      <th>AGE</th>\n",
       "      <th>FURNISH</th>\n",
       "      <th>amenity_luxury</th>\n",
       "      <th>FLOOR_NUM</th>\n",
       "    </tr>\n",
       "  </thead>\n",
       "  <tbody>\n",
       "    <tr>\n",
       "      <th>0</th>\n",
       "      <td>Madhyamgram</td>\n",
       "      <td>2.0</td>\n",
       "      <td>1.0</td>\n",
       "      <td>920</td>\n",
       "      <td>Old Property</td>\n",
       "      <td>Unfurnished</td>\n",
       "      <td>Medium</td>\n",
       "      <td>Low Floor</td>\n",
       "    </tr>\n",
       "    <tr>\n",
       "      <th>1</th>\n",
       "      <td>Garia</td>\n",
       "      <td>1.0</td>\n",
       "      <td>1.0</td>\n",
       "      <td>535</td>\n",
       "      <td>Old Property</td>\n",
       "      <td>Unfurnished</td>\n",
       "      <td>Medium</td>\n",
       "      <td>Low Floor</td>\n",
       "    </tr>\n",
       "    <tr>\n",
       "      <th>2</th>\n",
       "      <td>Rajarhat</td>\n",
       "      <td>4.0</td>\n",
       "      <td>2.0</td>\n",
       "      <td>1940</td>\n",
       "      <td>Old Property</td>\n",
       "      <td>Unfurnished</td>\n",
       "      <td>Medium</td>\n",
       "      <td>Low Floor</td>\n",
       "    </tr>\n",
       "    <tr>\n",
       "      <th>3</th>\n",
       "      <td>Rajarhat</td>\n",
       "      <td>2.0</td>\n",
       "      <td>1.0</td>\n",
       "      <td>910</td>\n",
       "      <td>Old Property</td>\n",
       "      <td>Unfurnished</td>\n",
       "      <td>Medium</td>\n",
       "      <td>Low Floor</td>\n",
       "    </tr>\n",
       "    <tr>\n",
       "      <th>4</th>\n",
       "      <td>New Town</td>\n",
       "      <td>3.0</td>\n",
       "      <td>1.0</td>\n",
       "      <td>1163</td>\n",
       "      <td>Old Property</td>\n",
       "      <td>Unfurnished</td>\n",
       "      <td>Medium</td>\n",
       "      <td>Low Floor</td>\n",
       "    </tr>\n",
       "    <tr>\n",
       "      <th>...</th>\n",
       "      <td>...</td>\n",
       "      <td>...</td>\n",
       "      <td>...</td>\n",
       "      <td>...</td>\n",
       "      <td>...</td>\n",
       "      <td>...</td>\n",
       "      <td>...</td>\n",
       "      <td>...</td>\n",
       "    </tr>\n",
       "    <tr>\n",
       "      <th>5143</th>\n",
       "      <td>Behala</td>\n",
       "      <td>2.0</td>\n",
       "      <td>1.0</td>\n",
       "      <td>730</td>\n",
       "      <td>Relatively New Property</td>\n",
       "      <td>Fully furnished</td>\n",
       "      <td>Medium</td>\n",
       "      <td>Low Floor</td>\n",
       "    </tr>\n",
       "    <tr>\n",
       "      <th>5144</th>\n",
       "      <td>New Alipore</td>\n",
       "      <td>3.0</td>\n",
       "      <td>1.0</td>\n",
       "      <td>2000</td>\n",
       "      <td>Moderately Old</td>\n",
       "      <td>Luxury furnished</td>\n",
       "      <td>Low</td>\n",
       "      <td>Low Floor</td>\n",
       "    </tr>\n",
       "    <tr>\n",
       "      <th>5145</th>\n",
       "      <td>Chak Garia</td>\n",
       "      <td>3.0</td>\n",
       "      <td>2.0</td>\n",
       "      <td>1843</td>\n",
       "      <td>New Property</td>\n",
       "      <td>Luxury furnished</td>\n",
       "      <td>Low</td>\n",
       "      <td>High Floor</td>\n",
       "    </tr>\n",
       "    <tr>\n",
       "      <th>5146</th>\n",
       "      <td>Chak Garia</td>\n",
       "      <td>3.0</td>\n",
       "      <td>2.0</td>\n",
       "      <td>2079</td>\n",
       "      <td>New Property</td>\n",
       "      <td>Luxury furnished</td>\n",
       "      <td>Low</td>\n",
       "      <td>Mid Floor</td>\n",
       "    </tr>\n",
       "    <tr>\n",
       "      <th>5147</th>\n",
       "      <td>New Town</td>\n",
       "      <td>2.0</td>\n",
       "      <td>1.0</td>\n",
       "      <td>1257</td>\n",
       "      <td>New Property</td>\n",
       "      <td>Fully furnished</td>\n",
       "      <td>High</td>\n",
       "      <td>Mid Floor</td>\n",
       "    </tr>\n",
       "  </tbody>\n",
       "</table>\n",
       "<p>5148 rows × 8 columns</p>\n",
       "</div>"
      ],
      "text/plain": [
       "         location  BEDROOM_NUM  BALCONY_NUM  AREA                      AGE  \\\n",
       "0     Madhyamgram          2.0          1.0   920             Old Property   \n",
       "1           Garia          1.0          1.0   535             Old Property   \n",
       "2        Rajarhat          4.0          2.0  1940             Old Property   \n",
       "3        Rajarhat          2.0          1.0   910             Old Property   \n",
       "4        New Town          3.0          1.0  1163             Old Property   \n",
       "...           ...          ...          ...   ...                      ...   \n",
       "5143       Behala          2.0          1.0   730  Relatively New Property   \n",
       "5144  New Alipore          3.0          1.0  2000           Moderately Old   \n",
       "5145   Chak Garia          3.0          2.0  1843             New Property   \n",
       "5146   Chak Garia          3.0          2.0  2079             New Property   \n",
       "5147     New Town          2.0          1.0  1257             New Property   \n",
       "\n",
       "               FURNISH amenity_luxury   FLOOR_NUM  \n",
       "0          Unfurnished         Medium   Low Floor  \n",
       "1          Unfurnished         Medium   Low Floor  \n",
       "2          Unfurnished         Medium   Low Floor  \n",
       "3          Unfurnished         Medium   Low Floor  \n",
       "4          Unfurnished         Medium   Low Floor  \n",
       "...                ...            ...         ...  \n",
       "5143   Fully furnished         Medium   Low Floor  \n",
       "5144  Luxury furnished            Low   Low Floor  \n",
       "5145  Luxury furnished            Low  High Floor  \n",
       "5146  Luxury furnished            Low   Mid Floor  \n",
       "5147   Fully furnished           High   Mid Floor  \n",
       "\n",
       "[5148 rows x 8 columns]"
      ]
     },
     "execution_count": 9,
     "metadata": {},
     "output_type": "execute_result"
    }
   ],
   "source": [
    "x"
   ]
  },
  {
   "cell_type": "code",
   "execution_count": null,
   "id": "debfe80f-750d-4758-9d70-b9883d621026",
   "metadata": {},
   "outputs": [],
   "source": []
  },
  {
   "cell_type": "code",
   "execution_count": 12,
   "id": "a15318a9-c860-40dd-b3d8-5e7f6a4381e1",
   "metadata": {},
   "outputs": [
    {
     "data": {
      "text/plain": [
       "Index(['location', 'BEDROOM_NUM', 'BALCONY_NUM', 'AREA', 'PRICE', 'AGE',\n",
       "       'FURNISH', 'amenity_luxury', 'FLOOR_NUM'],\n",
       "      dtype='object')"
      ]
     },
     "execution_count": 12,
     "metadata": {},
     "output_type": "execute_result"
    }
   ],
   "source": [
    "df.columns"
   ]
  },
  {
   "cell_type": "code",
   "execution_count": 24,
   "id": "4f2f05e8-e6e1-4f48-9776-2257712f39c5",
   "metadata": {},
   "outputs": [
    {
     "data": {
      "text/plain": [
       "['High Floor', 'Mid Floor', 'Low Floor']"
      ]
     },
     "execution_count": 24,
     "metadata": {},
     "output_type": "execute_result"
    }
   ],
   "source": [
    "location_suggestion = []\n",
    "for i in x['FLOOR_NUM']:\n",
    "    location_suggestion.append(i)\n",
    "location_suggestion = list(set(location_suggestion))\n",
    "new_list = []\n",
    "for i in location_suggestion:\n",
    "    new_list.append(i)\n",
    "new_list"
   ]
  },
  {
   "cell_type": "code",
   "execution_count": 10,
   "id": "0ba43dad-def7-4be7-8bcc-0159bb17d5e6",
   "metadata": {
    "executionInfo": {
     "elapsed": 520,
     "status": "ok",
     "timestamp": 1725457863575,
     "user": {
      "displayName": "Dipanjan Pathak",
      "userId": "18105456278807188077"
     },
     "user_tz": -330
    },
    "id": "0ba43dad-def7-4be7-8bcc-0159bb17d5e6"
   },
   "outputs": [],
   "source": [
    "y = df['PRICE']"
   ]
  },
  {
   "cell_type": "code",
   "execution_count": 11,
   "id": "f1957194-e094-4e60-ad10-73ef3fde9eae",
   "metadata": {
    "executionInfo": {
     "elapsed": 5,
     "status": "ok",
     "timestamp": 1725457865580,
     "user": {
      "displayName": "Dipanjan Pathak",
      "userId": "18105456278807188077"
     },
     "user_tz": -330
    },
    "id": "f1957194-e094-4e60-ad10-73ef3fde9eae"
   },
   "outputs": [],
   "source": [
    "y_transform = np.log1p(y)"
   ]
  },
  {
   "cell_type": "code",
   "execution_count": 13,
   "id": "0b49d2f5-5251-407e-8e2a-fe9bb43ed15a",
   "metadata": {
    "executionInfo": {
     "elapsed": 4,
     "status": "ok",
     "timestamp": 1725457876103,
     "user": {
      "displayName": "Dipanjan Pathak",
      "userId": "18105456278807188077"
     },
     "user_tz": -330
    },
    "id": "0b49d2f5-5251-407e-8e2a-fe9bb43ed15a"
   },
   "outputs": [],
   "source": [
    "columns_ordinal_encode = ['AGE','FURNISH','amenity_luxury']"
   ]
  },
  {
   "cell_type": "code",
   "execution_count": 14,
   "id": "023c5a32-37f6-4415-9439-ea24768f89ed",
   "metadata": {
    "colab": {
     "base_uri": "https://localhost:8080/",
     "height": 74
    },
    "executionInfo": {
     "elapsed": 624,
     "status": "ok",
     "timestamp": 1725457878623,
     "user": {
      "displayName": "Dipanjan Pathak",
      "userId": "18105456278807188077"
     },
     "user_tz": -330
    },
    "id": "023c5a32-37f6-4415-9439-ea24768f89ed",
    "outputId": "cabbab1d-06ac-4e91-c996-d3a865bbcd2b"
   },
   "outputs": [
    {
     "data": {
      "text/html": [
       "<style>#sk-container-id-1 {color: black;}#sk-container-id-1 pre{padding: 0;}#sk-container-id-1 div.sk-toggleable {background-color: white;}#sk-container-id-1 label.sk-toggleable__label {cursor: pointer;display: block;width: 100%;margin-bottom: 0;padding: 0.3em;box-sizing: border-box;text-align: center;}#sk-container-id-1 label.sk-toggleable__label-arrow:before {content: \"▸\";float: left;margin-right: 0.25em;color: #696969;}#sk-container-id-1 label.sk-toggleable__label-arrow:hover:before {color: black;}#sk-container-id-1 div.sk-estimator:hover label.sk-toggleable__label-arrow:before {color: black;}#sk-container-id-1 div.sk-toggleable__content {max-height: 0;max-width: 0;overflow: hidden;text-align: left;background-color: #f0f8ff;}#sk-container-id-1 div.sk-toggleable__content pre {margin: 0.2em;color: black;border-radius: 0.25em;background-color: #f0f8ff;}#sk-container-id-1 input.sk-toggleable__control:checked~div.sk-toggleable__content {max-height: 200px;max-width: 100%;overflow: auto;}#sk-container-id-1 input.sk-toggleable__control:checked~label.sk-toggleable__label-arrow:before {content: \"▾\";}#sk-container-id-1 div.sk-estimator input.sk-toggleable__control:checked~label.sk-toggleable__label {background-color: #d4ebff;}#sk-container-id-1 div.sk-label input.sk-toggleable__control:checked~label.sk-toggleable__label {background-color: #d4ebff;}#sk-container-id-1 input.sk-hidden--visually {border: 0;clip: rect(1px 1px 1px 1px);clip: rect(1px, 1px, 1px, 1px);height: 1px;margin: -1px;overflow: hidden;padding: 0;position: absolute;width: 1px;}#sk-container-id-1 div.sk-estimator {font-family: monospace;background-color: #f0f8ff;border: 1px dotted black;border-radius: 0.25em;box-sizing: border-box;margin-bottom: 0.5em;}#sk-container-id-1 div.sk-estimator:hover {background-color: #d4ebff;}#sk-container-id-1 div.sk-parallel-item::after {content: \"\";width: 100%;border-bottom: 1px solid gray;flex-grow: 1;}#sk-container-id-1 div.sk-label:hover label.sk-toggleable__label {background-color: #d4ebff;}#sk-container-id-1 div.sk-serial::before {content: \"\";position: absolute;border-left: 1px solid gray;box-sizing: border-box;top: 0;bottom: 0;left: 50%;z-index: 0;}#sk-container-id-1 div.sk-serial {display: flex;flex-direction: column;align-items: center;background-color: white;padding-right: 0.2em;padding-left: 0.2em;position: relative;}#sk-container-id-1 div.sk-item {position: relative;z-index: 1;}#sk-container-id-1 div.sk-parallel {display: flex;align-items: stretch;justify-content: center;background-color: white;position: relative;}#sk-container-id-1 div.sk-item::before, #sk-container-id-1 div.sk-parallel-item::before {content: \"\";position: absolute;border-left: 1px solid gray;box-sizing: border-box;top: 0;bottom: 0;left: 50%;z-index: -1;}#sk-container-id-1 div.sk-parallel-item {display: flex;flex-direction: column;z-index: 1;position: relative;background-color: white;}#sk-container-id-1 div.sk-parallel-item:first-child::after {align-self: flex-end;width: 50%;}#sk-container-id-1 div.sk-parallel-item:last-child::after {align-self: flex-start;width: 50%;}#sk-container-id-1 div.sk-parallel-item:only-child::after {width: 0;}#sk-container-id-1 div.sk-dashed-wrapped {border: 1px dashed gray;margin: 0 0.4em 0.5em 0.4em;box-sizing: border-box;padding-bottom: 0.4em;background-color: white;}#sk-container-id-1 div.sk-label label {font-family: monospace;font-weight: bold;display: inline-block;line-height: 1.2em;}#sk-container-id-1 div.sk-label-container {text-align: center;}#sk-container-id-1 div.sk-container {/* jupyter's `normalize.less` sets `[hidden] { display: none; }` but bootstrap.min.css set `[hidden] { display: none !important; }` so we also need the `!important` here to be able to override the default hidden behavior on the sphinx rendered scikit-learn.org. See: https://github.com/scikit-learn/scikit-learn/issues/21755 */display: inline-block !important;position: relative;}#sk-container-id-1 div.sk-text-repr-fallback {display: none;}</style><div id=\"sk-container-id-1\" class=\"sk-top-container\"><div class=\"sk-text-repr-fallback\"><pre>OrdinalEncoder()</pre><b>In a Jupyter environment, please rerun this cell to show the HTML representation or trust the notebook. <br />On GitHub, the HTML representation is unable to render, please try loading this page with nbviewer.org.</b></div><div class=\"sk-container\" hidden><div class=\"sk-item\"><div class=\"sk-estimator sk-toggleable\"><input class=\"sk-toggleable__control sk-hidden--visually\" id=\"sk-estimator-id-1\" type=\"checkbox\" checked><label for=\"sk-estimator-id-1\" class=\"sk-toggleable__label sk-toggleable__label-arrow\">OrdinalEncoder</label><div class=\"sk-toggleable__content\"><pre>OrdinalEncoder()</pre></div></div></div></div></div>"
      ],
      "text/plain": [
       "OrdinalEncoder()"
      ]
     },
     "execution_count": 14,
     "metadata": {},
     "output_type": "execute_result"
    }
   ],
   "source": [
    "encoder = OrdinalEncoder()\n",
    "encoder.fit(x[columns_ordinal_encode])"
   ]
  },
  {
   "cell_type": "code",
   "execution_count": 15,
   "id": "fc513151-be91-48be-ab63-4f99dc086f92",
   "metadata": {
    "executionInfo": {
     "elapsed": 2553,
     "status": "ok",
     "timestamp": 1725457885019,
     "user": {
      "displayName": "Dipanjan Pathak",
      "userId": "18105456278807188077"
     },
     "user_tz": -330
    },
    "id": "fc513151-be91-48be-ab63-4f99dc086f92"
   },
   "outputs": [],
   "source": [
    "preprocessor = ColumnTransformer(\n",
    "    transformers=[\n",
    "        ('num' ,  StandardScaler(),['BEDROOM_NUM','BALCONY_NUM','AREA']),\n",
    "        ('cat1',OrdinalEncoder(categories=encoder.categories_), columns_ordinal_encode),\n",
    "        ('cat2', OneHotEncoder(drop='first',sparse_output=False,handle_unknown='ignore'),['FLOOR_NUM']),\n",
    "        ('target_enc', ce.TargetEncoder(), ['location'])\n",
    "    ], remainder= 'passthrough'\n",
    ")\n",
    "\n",
    "\n",
    "pipeline = Pipeline([\n",
    "    ('preprocessor' , preprocessor),\n",
    "    ('regressor', XGBRegressor())\n",
    "])\n",
    "\n",
    "\n",
    "kfold = KFold(n_splits=10,shuffle=True,random_state=42)\n",
    "scores = cross_val_score(pipeline,x,y_transform,scoring='r2',cv=kfold)"
   ]
  },
  {
   "cell_type": "code",
   "execution_count": 16,
   "id": "6aba7f39-c5be-4c4b-82d2-5e62ea64fd56",
   "metadata": {
    "colab": {
     "base_uri": "https://localhost:8080/"
    },
    "executionInfo": {
     "elapsed": 9,
     "status": "ok",
     "timestamp": 1725457887101,
     "user": {
      "displayName": "Dipanjan Pathak",
      "userId": "18105456278807188077"
     },
     "user_tz": -330
    },
    "id": "6aba7f39-c5be-4c4b-82d2-5e62ea64fd56",
    "outputId": "64c52921-9c84-4a22-ccb7-6091a5a15617"
   },
   "outputs": [
    {
     "data": {
      "text/plain": [
       "0.8964044064936403"
      ]
     },
     "execution_count": 16,
     "metadata": {},
     "output_type": "execute_result"
    }
   ],
   "source": [
    "scores.mean()"
   ]
  },
  {
   "cell_type": "code",
   "execution_count": 17,
   "id": "cfe046e2-0863-417e-95e7-d3d679eabd2c",
   "metadata": {
    "colab": {
     "base_uri": "https://localhost:8080/"
    },
    "executionInfo": {
     "elapsed": 653,
     "status": "ok",
     "timestamp": 1725457891263,
     "user": {
      "displayName": "Dipanjan Pathak",
      "userId": "18105456278807188077"
     },
     "user_tz": -330
    },
    "id": "cfe046e2-0863-417e-95e7-d3d679eabd2c",
    "outputId": "5f842efa-d529-4a73-8288-4dfa2d9f8458"
   },
   "outputs": [
    {
     "data": {
      "text/plain": [
       "0.0122990822108887"
      ]
     },
     "execution_count": 17,
     "metadata": {},
     "output_type": "execute_result"
    }
   ],
   "source": [
    "scores.std()"
   ]
  },
  {
   "cell_type": "code",
   "execution_count": 19,
   "id": "537d4068-2093-484a-a49e-1accd239b330",
   "metadata": {
    "executionInfo": {
     "elapsed": 1002,
     "status": "ok",
     "timestamp": 1725451514599,
     "user": {
      "displayName": "Dipanjan Pathak",
      "userId": "18105456278807188077"
     },
     "user_tz": -330
    },
    "id": "537d4068-2093-484a-a49e-1accd239b330"
   },
   "outputs": [],
   "source": [
    "def scorer(model):\n",
    "\n",
    "    output = []\n",
    "\n",
    "    pipeline = Pipeline([\n",
    "        ('preprocessor', preprocessor),\n",
    "        ('regressor', model)\n",
    "    ])\n",
    "\n",
    "    # K-fold cross-validation\n",
    "    kfold = KFold(n_splits=10, shuffle=True, random_state=42)\n",
    "    scores = cross_val_score(pipeline, x, y_transform, cv=kfold, scoring='r2')\n",
    "\n",
    "    output.append(scores.mean())\n",
    "\n",
    "    X_train, X_test, y_train, y_test = train_test_split(x,y_transform,test_size=0.2,random_state=42)\n",
    "\n",
    "    pipeline.fit(X_train,y_train)\n",
    "\n",
    "    y_pred = pipeline.predict(X_test)\n",
    "\n",
    "    y_pred = np.expm1(y_pred)\n",
    "\n",
    "    output.append(mean_absolute_error(np.expm1(y_test),y_pred))\n",
    "\n",
    "    return output\n"
   ]
  },
  {
   "cell_type": "code",
   "execution_count": 21,
   "id": "40996f7d-3147-48c3-94e4-a3bf50b9e3c3",
   "metadata": {
    "colab": {
     "base_uri": "https://localhost:8080/"
    },
    "executionInfo": {
     "elapsed": 2492,
     "status": "ok",
     "timestamp": 1725451520542,
     "user": {
      "displayName": "Dipanjan Pathak",
      "userId": "18105456278807188077"
     },
     "user_tz": -330
    },
    "id": "40996f7d-3147-48c3-94e4-a3bf50b9e3c3",
    "outputId": "4c84aaf2-44d7-4695-a7db-badb8927e575"
   },
   "outputs": [
    {
     "data": {
      "text/plain": [
       "[0.8970615226404695, 0.17152880051976863]"
      ]
     },
     "execution_count": 21,
     "metadata": {},
     "output_type": "execute_result"
    }
   ],
   "source": [
    "scorer(ExtraTreesRegressor(n_jobs=-1))"
   ]
  },
  {
   "cell_type": "code",
   "execution_count": 45,
   "id": "7b38db0a-e2a3-4254-a948-bed10022c503",
   "metadata": {
    "colab": {
     "base_uri": "https://localhost:8080/"
    },
    "executionInfo": {
     "elapsed": 3558,
     "status": "ok",
     "timestamp": 1725451995952,
     "user": {
      "displayName": "Dipanjan Pathak",
      "userId": "18105456278807188077"
     },
     "user_tz": -330
    },
    "id": "7b38db0a-e2a3-4254-a948-bed10022c503",
    "outputId": "858e0fea-8631-4251-ad2c-d3f1c4f2506e"
   },
   "outputs": [
    {
     "name": "stdout",
     "output_type": "stream",
     "text": [
      "Cross-Validation Mean R² Score: 0.8726399384654158\n",
      "Train Test split Test Set R² Score on x_test, y_test: 0.9095450480498388\n",
      "Test Set MAE y_test vs y_pred: 0.171856784369471\n"
     ]
    }
   ],
   "source": [
    "\n",
    "x = df.drop(columns=['PRICE'])\n",
    "y = df['PRICE']\n",
    "y_transform = np.log1p(y)\n",
    "\n",
    "encoder = OrdinalEncoder()\n",
    "encoder.fit(x[columns_ordinal_encode])\n",
    "\n",
    "preprocessor = ColumnTransformer(\n",
    "    transformers=[\n",
    "        ('num', StandardScaler(), ['BEDROOM_NUM', 'BALCONY_NUM', 'AREA']),\n",
    "        ('cat1', OrdinalEncoder(categories=encoder.categories_), columns_ordinal_encode),\n",
    "        ('cat2', OneHotEncoder(drop='first', sparse_output=False, handle_unknown='ignore'), ['FLOOR_NUM']),\n",
    "        ('target_enc', ce.TargetEncoder(), ['location'])\n",
    "    ], remainder='passthrough'\n",
    ")\n",
    "\n",
    "Regressor = XGBRegressor()\n",
    "\n",
    "# Define the pipeline\n",
    "pipeline = Pipeline([\n",
    "    ('preprocessor', preprocessor),\n",
    "    ('regressor', Regressor)\n",
    "])\n",
    "\n",
    "# Cross-Validation\n",
    "cv_scores = cross_val_score(pipeline, x, y_transform, scoring='r2', cv=10)\n",
    "print(f\"Cross-Validation Mean R² Score: {np.mean(cv_scores)}\")\n",
    "\n",
    "# Train-Test Split\n",
    "x_train, x_test, y_train, y_test = train_test_split(x, y_transform, test_size=0.2, random_state=42)\n",
    "pipeline.fit(x_train, y_train)\n",
    "\n",
    "# Predict on the test set\n",
    "y_pred = pipeline.predict(x_test)\n",
    "\n",
    "# Calculate the R² score\n",
    "test_score = pipeline.score(x_test, y_test)\n",
    "print(f\"Train Test split Test Set R² Score on x_test, y_test: {test_score}\")\n",
    "\n",
    "# Calculate the Mean Absolute Error (MAE)\n",
    "mae = mean_absolute_error(np.expm1(y_test), np.expm1(y_pred))  # Inverse transform the predictions\n",
    "print(f\"Test Set MAE y_test vs y_pred: {mae}\")\n"
   ]
  },
  {
   "cell_type": "code",
   "execution_count": 46,
   "id": "015e9d2c-8be5-4062-9282-3ebedad59ec2",
   "metadata": {
    "colab": {
     "base_uri": "https://localhost:8080/"
    },
    "executionInfo": {
     "elapsed": 656379,
     "status": "ok",
     "timestamp": 1725452758472,
     "user": {
      "displayName": "Dipanjan Pathak",
      "userId": "18105456278807188077"
     },
     "user_tz": -330
    },
    "id": "015e9d2c-8be5-4062-9282-3ebedad59ec2",
    "outputId": "41a39be0-7f15-4c81-f027-c349fedb0a07"
   },
   "outputs": [
    {
     "name": "stdout",
     "output_type": "stream",
     "text": [
      "Refined Best Hyperparameters: OrderedDict([('regressor__colsample_bytree', 0.7), ('regressor__gamma', 0.01), ('regressor__learning_rate', 0.1), ('regressor__max_depth', 6), ('regressor__n_estimators', 608), ('regressor__subsample', 0.7)])\n",
      "Refined Best Cross-Validation R² Score: 0.892516634997712\n",
      "Refined Test Set R² Score with Best Model: 0.909746193940739\n",
      "Refined Test Set MAE with Best Model: 0.17639804907389056\n"
     ]
    }
   ],
   "source": [
    "\n",
    "\n",
    "# Assuming df is your DataFrame\n",
    "x = df.drop(columns=['PRICE'])\n",
    "y = df['PRICE']\n",
    "y_transform = np.log1p(y)\n",
    "\n",
    "# Fit OrdinalEncoder\n",
    "encoder = OrdinalEncoder()\n",
    "encoder.fit(x[columns_ordinal_encode])\n",
    "\n",
    "# Define the ColumnTransformer\n",
    "preprocessor = ColumnTransformer(\n",
    "    transformers=[\n",
    "        ('num', StandardScaler(), ['BEDROOM_NUM', 'BALCONY_NUM', 'AREA']),\n",
    "        ('cat1', OrdinalEncoder(categories=encoder.categories_), columns_ordinal_encode),\n",
    "        ('cat2', OneHotEncoder(drop='first', sparse_output=False, handle_unknown='ignore'), ['FLOOR_NUM']),\n",
    "        ('target_enc', ce.TargetEncoder(), ['location'])\n",
    "    ], remainder='passthrough'\n",
    ")\n",
    "\n",
    "# Define the base XGBRegressor\n",
    "Regressor = XGBRegressor(verbosity=0, n_jobs=-1)\n",
    "\n",
    "# Define the pipeline\n",
    "pipeline = Pipeline([\n",
    "    ('preprocessor', preprocessor),\n",
    "    ('regressor', Regressor)\n",
    "])\n",
    "\n",
    "# Refined Search Space for Bayesian Optimization\n",
    "param_grid_refined = {\n",
    "    'regressor__n_estimators': (400, 700),  # Narrower range based on past results\n",
    "    'regressor__max_depth': (5, 7),\n",
    "    'regressor__learning_rate': (0.01, 0.1, 'log-uniform'),\n",
    "    'regressor__subsample': (0.7, 1.0),\n",
    "    'regressor__colsample_bytree': (0.7, 0.9),\n",
    "    'regressor__gamma': (0.01, 0.1)  # Narrowed gamma range\n",
    "}\n",
    "\n",
    "# Define the Bayesian Optimization search\n",
    "bayes_search_refined = BayesSearchCV(\n",
    "    estimator=pipeline,\n",
    "    search_spaces=param_grid_refined,\n",
    "    scoring='r2',\n",
    "    cv=10,\n",
    "    n_jobs=-1,\n",
    "    n_iter=100,  # Increased number of iterations for a more thorough search\n",
    "    random_state=42,\n",
    "    verbose=0  # Set to 1 or 2 for more verbose output\n",
    ")\n",
    "\n",
    "# Train-Test Split\n",
    "x_train, x_test, y_train, y_test = train_test_split(x, y_transform, test_size=0.2, random_state=42)\n",
    "\n",
    "# Fit the Bayesian search\n",
    "bayes_search_refined.fit(x_train, y_train)\n",
    "\n",
    "# Print the best hyperparameters\n",
    "print(f\"Refined Best Hyperparameters: {bayes_search_refined.best_params_}\")\n",
    "print(f\"Refined Best Cross-Validation R² Score: {bayes_search_refined.best_score_}\")\n",
    "\n",
    "# Evaluate on the test set using the best model\n",
    "test_score_refined = bayes_search_refined.score(x_test, y_test)\n",
    "print(f\"Refined Test Set R² Score with Best Model: {test_score_refined}\")\n",
    "\n",
    "# Make predictions on the test set\n",
    "y_pred_refined = bayes_search_refined.predict(x_test)\n",
    "\n",
    "# Calculate the Mean Absolute Error (MAE)\n",
    "mae_refined = mean_absolute_error(np.expm1(y_test), np.expm1(y_pred_refined))  # Inverse transform the predictions\n",
    "print(f\"Refined Test Set MAE with Best Model: {mae_refined}\")\n"
   ]
  },
  {
   "cell_type": "code",
   "execution_count": 47,
   "id": "XIxKTr896iTh",
   "metadata": {
    "colab": {
     "base_uri": "https://localhost:8080/"
    },
    "executionInfo": {
     "elapsed": 337150,
     "status": "ok",
     "timestamp": 1725454486357,
     "user": {
      "displayName": "Dipanjan Pathak",
      "userId": "18105456278807188077"
     },
     "user_tz": -330
    },
    "id": "XIxKTr896iTh",
    "outputId": "20e27d10-afcf-42f9-e948-4a58dd576ba6"
   },
   "outputs": [
    {
     "name": "stdout",
     "output_type": "stream",
     "text": [
      "Best Hyperparameters: OrderedDict([('regressor__colsample_bytree', 0.6962269683726227), ('regressor__gamma', 4.974324315087931e-05), ('regressor__learning_rate', 0.062193215647129006), ('regressor__max_depth', 5), ('regressor__n_estimators', 787), ('regressor__subsample', 0.9507304440056652)])\n",
      "Best Cross-Validation R² Score: 0.894921737173412\n",
      "Test Set R² Score with Best Model: 0.91303268868149\n",
      "Test Set MAE with Best Model: 0.16988374096155165\n"
     ]
    }
   ],
   "source": [
    "\n",
    "\n",
    "# Assuming df is your DataFrame\n",
    "x = df.drop(columns=['PRICE'])\n",
    "y = df['PRICE']\n",
    "y_transform = np.log1p(y)\n",
    "\n",
    "# OrdinalEncoder fit\n",
    "encoder = OrdinalEncoder()\n",
    "encoder.fit(x[columns_ordinal_encode])\n",
    "\n",
    "# Define the ColumnTransformer\n",
    "preprocessor = ColumnTransformer(\n",
    "    transformers=[\n",
    "        ('num', StandardScaler(), ['BEDROOM_NUM', 'BALCONY_NUM', 'AREA']),\n",
    "        ('cat1', OrdinalEncoder(categories=encoder.categories_), columns_ordinal_encode),\n",
    "        ('cat2', OneHotEncoder(drop='first', sparse_output=False, handle_unknown='ignore'), ['FLOOR_NUM']),\n",
    "        ('target_enc', ce.TargetEncoder(), ['location'])\n",
    "    ], remainder='passthrough'\n",
    ")\n",
    "\n",
    "# Define the base XGBRegressor\n",
    "Regressor = XGBRegressor(verbosity=0, n_jobs=-1)\n",
    "\n",
    "# Define the pipeline\n",
    "pipeline = Pipeline([\n",
    "    ('preprocessor', preprocessor),\n",
    "    ('regressor', Regressor)\n",
    "])\n",
    "\n",
    "# Define the parameter space for Bayesian Optimization\n",
    "param_grid = {\n",
    "    'regressor__n_estimators': (200, 800),\n",
    "    'regressor__max_depth': (3, 8),\n",
    "    'regressor__learning_rate': (0.01, 0.2, 'log-uniform'),  # log-uniform for learning_rate\n",
    "    'regressor__subsample': (0.6, 1.0),\n",
    "    'regressor__colsample_bytree': (0.6, 1.0),\n",
    "    'regressor__gamma': (0, 0.3)\n",
    "}\n",
    "\n",
    "# Define the Bayesian Optimization search\n",
    "bayes_search = BayesSearchCV(\n",
    "    estimator=pipeline,\n",
    "    search_spaces=param_grid,\n",
    "    scoring='r2',\n",
    "    cv=10,\n",
    "    n_jobs=-1,\n",
    "    n_iter=50,  # Number of parameter settings that are sampled\n",
    "    random_state=42,\n",
    "    verbose=0  # Set to 1 or 2 for more verbose output\n",
    ")\n",
    "\n",
    "# Train-Test Split\n",
    "x_train, x_test, y_train, y_test = train_test_split(x, y_transform, test_size=0.2, random_state=42)\n",
    "\n",
    "# Fit the Bayesian search\n",
    "bayes_search.fit(x_train, y_train)\n",
    "\n",
    "# Print the best hyperparameters\n",
    "print(f\"Best Hyperparameters: {bayes_search.best_params_}\")\n",
    "print(f\"Best Cross-Validation R² Score: {bayes_search.best_score_}\")\n",
    "\n",
    "# Evaluate on the test set using the best model\n",
    "test_score = bayes_search.score(x_test, y_test)\n",
    "print(f\"Test Set R² Score with Best Model: {test_score}\")\n",
    "\n",
    "# Make predictions on the test set\n",
    "y_pred = bayes_search.predict(x_test)\n",
    "\n",
    "# Calculate the Mean Absolute Error (MAE)\n",
    "mae = mean_absolute_error(np.expm1(y_test), np.expm1(y_pred))  # Inverse transform the predictions\n",
    "print(f\"Test Set MAE with Best Model: {mae}\")\n"
   ]
  },
  {
   "cell_type": "code",
   "execution_count": 32,
   "id": "2i28w13JGIOV",
   "metadata": {
    "colab": {
     "base_uri": "https://localhost:8080/"
    },
    "executionInfo": {
     "elapsed": 526,
     "status": "ok",
     "timestamp": 1725455334178,
     "user": {
      "displayName": "Dipanjan Pathak",
      "userId": "18105456278807188077"
     },
     "user_tz": -330
    },
    "id": "2i28w13JGIOV",
    "outputId": "bf8eea8f-087a-4ff4-9da9-c8880d5ea9c2"
   },
   "outputs": [
    {
     "data": {
      "text/plain": [
       "(5148, 9)"
      ]
     },
     "execution_count": 32,
     "metadata": {},
     "output_type": "execute_result"
    }
   ],
   "source": [
    "df.shape"
   ]
  },
  {
   "cell_type": "code",
   "execution_count": 31,
   "id": "ta2qDSaKH5HF",
   "metadata": {
    "executionInfo": {
     "elapsed": 8,
     "status": "ok",
     "timestamp": 1725455337040,
     "user": {
      "displayName": "Dipanjan Pathak",
      "userId": "18105456278807188077"
     },
     "user_tz": -330
    },
    "id": "ta2qDSaKH5HF"
   },
   "outputs": [],
   "source": [
    "# Fit on the entire dataset\n",
    "encoder = OrdinalEncoder()\n",
    "encoder.fit(x[columns_ordinal_encode])\n",
    "\n",
    "# Define the ColumnTransformer\n",
    "preprocessor = ColumnTransformer(\n",
    "    transformers=[\n",
    "        ('num', StandardScaler(), ['BEDROOM_NUM', 'BALCONY_NUM', 'AREA']),\n",
    "        ('cat1', OrdinalEncoder(categories=encoder.categories_), columns_ordinal_encode),\n",
    "        ('cat2', OneHotEncoder(drop='first', sparse_output=False, handle_unknown='ignore'), ['FLOOR_NUM']),\n",
    "        ('target_enc', ce.TargetEncoder(), ['location'])\n",
    "    ], remainder='passthrough'\n",
    ")\n"
   ]
  },
  {
   "cell_type": "code",
   "execution_count": 57,
   "id": "jbEnj592EyKC",
   "metadata": {
    "colab": {
     "base_uri": "https://localhost:8080/",
     "height": 190
    },
    "executionInfo": {
     "elapsed": 2573,
     "status": "ok",
     "timestamp": 1725455342488,
     "user": {
      "displayName": "Dipanjan Pathak",
      "userId": "18105456278807188077"
     },
     "user_tz": -330
    },
    "id": "jbEnj592EyKC",
    "outputId": "6186f2d8-2598-4f97-dfd1-1bd6b68af1dd"
   },
   "outputs": [
    {
     "data": {
      "text/html": [
       "<style>#sk-container-id-5 {color: black;}#sk-container-id-5 pre{padding: 0;}#sk-container-id-5 div.sk-toggleable {background-color: white;}#sk-container-id-5 label.sk-toggleable__label {cursor: pointer;display: block;width: 100%;margin-bottom: 0;padding: 0.3em;box-sizing: border-box;text-align: center;}#sk-container-id-5 label.sk-toggleable__label-arrow:before {content: \"▸\";float: left;margin-right: 0.25em;color: #696969;}#sk-container-id-5 label.sk-toggleable__label-arrow:hover:before {color: black;}#sk-container-id-5 div.sk-estimator:hover label.sk-toggleable__label-arrow:before {color: black;}#sk-container-id-5 div.sk-toggleable__content {max-height: 0;max-width: 0;overflow: hidden;text-align: left;background-color: #f0f8ff;}#sk-container-id-5 div.sk-toggleable__content pre {margin: 0.2em;color: black;border-radius: 0.25em;background-color: #f0f8ff;}#sk-container-id-5 input.sk-toggleable__control:checked~div.sk-toggleable__content {max-height: 200px;max-width: 100%;overflow: auto;}#sk-container-id-5 input.sk-toggleable__control:checked~label.sk-toggleable__label-arrow:before {content: \"▾\";}#sk-container-id-5 div.sk-estimator input.sk-toggleable__control:checked~label.sk-toggleable__label {background-color: #d4ebff;}#sk-container-id-5 div.sk-label input.sk-toggleable__control:checked~label.sk-toggleable__label {background-color: #d4ebff;}#sk-container-id-5 input.sk-hidden--visually {border: 0;clip: rect(1px 1px 1px 1px);clip: rect(1px, 1px, 1px, 1px);height: 1px;margin: -1px;overflow: hidden;padding: 0;position: absolute;width: 1px;}#sk-container-id-5 div.sk-estimator {font-family: monospace;background-color: #f0f8ff;border: 1px dotted black;border-radius: 0.25em;box-sizing: border-box;margin-bottom: 0.5em;}#sk-container-id-5 div.sk-estimator:hover {background-color: #d4ebff;}#sk-container-id-5 div.sk-parallel-item::after {content: \"\";width: 100%;border-bottom: 1px solid gray;flex-grow: 1;}#sk-container-id-5 div.sk-label:hover label.sk-toggleable__label {background-color: #d4ebff;}#sk-container-id-5 div.sk-serial::before {content: \"\";position: absolute;border-left: 1px solid gray;box-sizing: border-box;top: 0;bottom: 0;left: 50%;z-index: 0;}#sk-container-id-5 div.sk-serial {display: flex;flex-direction: column;align-items: center;background-color: white;padding-right: 0.2em;padding-left: 0.2em;position: relative;}#sk-container-id-5 div.sk-item {position: relative;z-index: 1;}#sk-container-id-5 div.sk-parallel {display: flex;align-items: stretch;justify-content: center;background-color: white;position: relative;}#sk-container-id-5 div.sk-item::before, #sk-container-id-5 div.sk-parallel-item::before {content: \"\";position: absolute;border-left: 1px solid gray;box-sizing: border-box;top: 0;bottom: 0;left: 50%;z-index: -1;}#sk-container-id-5 div.sk-parallel-item {display: flex;flex-direction: column;z-index: 1;position: relative;background-color: white;}#sk-container-id-5 div.sk-parallel-item:first-child::after {align-self: flex-end;width: 50%;}#sk-container-id-5 div.sk-parallel-item:last-child::after {align-self: flex-start;width: 50%;}#sk-container-id-5 div.sk-parallel-item:only-child::after {width: 0;}#sk-container-id-5 div.sk-dashed-wrapped {border: 1px dashed gray;margin: 0 0.4em 0.5em 0.4em;box-sizing: border-box;padding-bottom: 0.4em;background-color: white;}#sk-container-id-5 div.sk-label label {font-family: monospace;font-weight: bold;display: inline-block;line-height: 1.2em;}#sk-container-id-5 div.sk-label-container {text-align: center;}#sk-container-id-5 div.sk-container {/* jupyter's `normalize.less` sets `[hidden] { display: none; }` but bootstrap.min.css set `[hidden] { display: none !important; }` so we also need the `!important` here to be able to override the default hidden behavior on the sphinx rendered scikit-learn.org. See: https://github.com/scikit-learn/scikit-learn/issues/21755 */display: inline-block !important;position: relative;}#sk-container-id-5 div.sk-text-repr-fallback {display: none;}</style><div id=\"sk-container-id-5\" class=\"sk-top-container\"><div class=\"sk-text-repr-fallback\"><pre>Pipeline(steps=[(&#x27;preprocessor&#x27;,\n",
       "                 ColumnTransformer(remainder=&#x27;passthrough&#x27;,\n",
       "                                   transformers=[(&#x27;num&#x27;, StandardScaler(),\n",
       "                                                  [&#x27;BEDROOM_NUM&#x27;, &#x27;BALCONY_NUM&#x27;,\n",
       "                                                   &#x27;AREA&#x27;]),\n",
       "                                                 (&#x27;cat1&#x27;,\n",
       "                                                  OrdinalEncoder(categories=[array([&#x27;Moderately Old&#x27;, &#x27;New Property&#x27;, &#x27;Old Property&#x27;,\n",
       "       &#x27;Relatively New Property&#x27;], dtype=object),\n",
       "                                                                             array([&#x27;Fully furnished&#x27;, &#x27;Luxury furnished&#x27;, &#x27;Semi-furnished&#x27;,\n",
       "       &#x27;Unfurnished&#x27;], d...\n",
       "                              grow_policy=None, importance_type=None,\n",
       "                              interaction_constraints=None,\n",
       "                              learning_rate=0.062193215647129006, max_bin=None,\n",
       "                              max_cat_threshold=None, max_cat_to_onehot=None,\n",
       "                              max_delta_step=None, max_depth=5, max_leaves=None,\n",
       "                              min_child_weight=None, missing=nan,\n",
       "                              monotone_constraints=None, multi_strategy=None,\n",
       "                              n_estimators=787, n_jobs=-1,\n",
       "                              num_parallel_tree=None, random_state=None, ...))])</pre><b>In a Jupyter environment, please rerun this cell to show the HTML representation or trust the notebook. <br />On GitHub, the HTML representation is unable to render, please try loading this page with nbviewer.org.</b></div><div class=\"sk-container\" hidden><div class=\"sk-item sk-dashed-wrapped\"><div class=\"sk-label-container\"><div class=\"sk-label sk-toggleable\"><input class=\"sk-toggleable__control sk-hidden--visually\" id=\"sk-estimator-id-29\" type=\"checkbox\" ><label for=\"sk-estimator-id-29\" class=\"sk-toggleable__label sk-toggleable__label-arrow\">Pipeline</label><div class=\"sk-toggleable__content\"><pre>Pipeline(steps=[(&#x27;preprocessor&#x27;,\n",
       "                 ColumnTransformer(remainder=&#x27;passthrough&#x27;,\n",
       "                                   transformers=[(&#x27;num&#x27;, StandardScaler(),\n",
       "                                                  [&#x27;BEDROOM_NUM&#x27;, &#x27;BALCONY_NUM&#x27;,\n",
       "                                                   &#x27;AREA&#x27;]),\n",
       "                                                 (&#x27;cat1&#x27;,\n",
       "                                                  OrdinalEncoder(categories=[array([&#x27;Moderately Old&#x27;, &#x27;New Property&#x27;, &#x27;Old Property&#x27;,\n",
       "       &#x27;Relatively New Property&#x27;], dtype=object),\n",
       "                                                                             array([&#x27;Fully furnished&#x27;, &#x27;Luxury furnished&#x27;, &#x27;Semi-furnished&#x27;,\n",
       "       &#x27;Unfurnished&#x27;], d...\n",
       "                              grow_policy=None, importance_type=None,\n",
       "                              interaction_constraints=None,\n",
       "                              learning_rate=0.062193215647129006, max_bin=None,\n",
       "                              max_cat_threshold=None, max_cat_to_onehot=None,\n",
       "                              max_delta_step=None, max_depth=5, max_leaves=None,\n",
       "                              min_child_weight=None, missing=nan,\n",
       "                              monotone_constraints=None, multi_strategy=None,\n",
       "                              n_estimators=787, n_jobs=-1,\n",
       "                              num_parallel_tree=None, random_state=None, ...))])</pre></div></div></div><div class=\"sk-serial\"><div class=\"sk-item sk-dashed-wrapped\"><div class=\"sk-label-container\"><div class=\"sk-label sk-toggleable\"><input class=\"sk-toggleable__control sk-hidden--visually\" id=\"sk-estimator-id-30\" type=\"checkbox\" ><label for=\"sk-estimator-id-30\" class=\"sk-toggleable__label sk-toggleable__label-arrow\">preprocessor: ColumnTransformer</label><div class=\"sk-toggleable__content\"><pre>ColumnTransformer(remainder=&#x27;passthrough&#x27;,\n",
       "                  transformers=[(&#x27;num&#x27;, StandardScaler(),\n",
       "                                 [&#x27;BEDROOM_NUM&#x27;, &#x27;BALCONY_NUM&#x27;, &#x27;AREA&#x27;]),\n",
       "                                (&#x27;cat1&#x27;,\n",
       "                                 OrdinalEncoder(categories=[array([&#x27;Moderately Old&#x27;, &#x27;New Property&#x27;, &#x27;Old Property&#x27;,\n",
       "       &#x27;Relatively New Property&#x27;], dtype=object),\n",
       "                                                            array([&#x27;Fully furnished&#x27;, &#x27;Luxury furnished&#x27;, &#x27;Semi-furnished&#x27;,\n",
       "       &#x27;Unfurnished&#x27;], dtype=object),\n",
       "                                                            array([&#x27;High&#x27;, &#x27;Low&#x27;, &#x27;Medium&#x27;], dtype=object)]),\n",
       "                                 [&#x27;AGE&#x27;, &#x27;FURNISH&#x27;, &#x27;amenity_luxury&#x27;]),\n",
       "                                (&#x27;cat2&#x27;,\n",
       "                                 OneHotEncoder(drop=&#x27;first&#x27;,\n",
       "                                               handle_unknown=&#x27;ignore&#x27;,\n",
       "                                               sparse_output=False),\n",
       "                                 [&#x27;FLOOR_NUM&#x27;]),\n",
       "                                (&#x27;target_enc&#x27;, TargetEncoder(), [&#x27;location&#x27;])])</pre></div></div></div><div class=\"sk-parallel\"><div class=\"sk-parallel-item\"><div class=\"sk-item\"><div class=\"sk-label-container\"><div class=\"sk-label sk-toggleable\"><input class=\"sk-toggleable__control sk-hidden--visually\" id=\"sk-estimator-id-31\" type=\"checkbox\" ><label for=\"sk-estimator-id-31\" class=\"sk-toggleable__label sk-toggleable__label-arrow\">num</label><div class=\"sk-toggleable__content\"><pre>[&#x27;BEDROOM_NUM&#x27;, &#x27;BALCONY_NUM&#x27;, &#x27;AREA&#x27;]</pre></div></div></div><div class=\"sk-serial\"><div class=\"sk-item\"><div class=\"sk-estimator sk-toggleable\"><input class=\"sk-toggleable__control sk-hidden--visually\" id=\"sk-estimator-id-32\" type=\"checkbox\" ><label for=\"sk-estimator-id-32\" class=\"sk-toggleable__label sk-toggleable__label-arrow\">StandardScaler</label><div class=\"sk-toggleable__content\"><pre>StandardScaler()</pre></div></div></div></div></div></div><div class=\"sk-parallel-item\"><div class=\"sk-item\"><div class=\"sk-label-container\"><div class=\"sk-label sk-toggleable\"><input class=\"sk-toggleable__control sk-hidden--visually\" id=\"sk-estimator-id-33\" type=\"checkbox\" ><label for=\"sk-estimator-id-33\" class=\"sk-toggleable__label sk-toggleable__label-arrow\">cat1</label><div class=\"sk-toggleable__content\"><pre>[&#x27;AGE&#x27;, &#x27;FURNISH&#x27;, &#x27;amenity_luxury&#x27;]</pre></div></div></div><div class=\"sk-serial\"><div class=\"sk-item\"><div class=\"sk-estimator sk-toggleable\"><input class=\"sk-toggleable__control sk-hidden--visually\" id=\"sk-estimator-id-34\" type=\"checkbox\" ><label for=\"sk-estimator-id-34\" class=\"sk-toggleable__label sk-toggleable__label-arrow\">OrdinalEncoder</label><div class=\"sk-toggleable__content\"><pre>OrdinalEncoder(categories=[array([&#x27;Moderately Old&#x27;, &#x27;New Property&#x27;, &#x27;Old Property&#x27;,\n",
       "       &#x27;Relatively New Property&#x27;], dtype=object),\n",
       "                           array([&#x27;Fully furnished&#x27;, &#x27;Luxury furnished&#x27;, &#x27;Semi-furnished&#x27;,\n",
       "       &#x27;Unfurnished&#x27;], dtype=object),\n",
       "                           array([&#x27;High&#x27;, &#x27;Low&#x27;, &#x27;Medium&#x27;], dtype=object)])</pre></div></div></div></div></div></div><div class=\"sk-parallel-item\"><div class=\"sk-item\"><div class=\"sk-label-container\"><div class=\"sk-label sk-toggleable\"><input class=\"sk-toggleable__control sk-hidden--visually\" id=\"sk-estimator-id-35\" type=\"checkbox\" ><label for=\"sk-estimator-id-35\" class=\"sk-toggleable__label sk-toggleable__label-arrow\">cat2</label><div class=\"sk-toggleable__content\"><pre>[&#x27;FLOOR_NUM&#x27;]</pre></div></div></div><div class=\"sk-serial\"><div class=\"sk-item\"><div class=\"sk-estimator sk-toggleable\"><input class=\"sk-toggleable__control sk-hidden--visually\" id=\"sk-estimator-id-36\" type=\"checkbox\" ><label for=\"sk-estimator-id-36\" class=\"sk-toggleable__label sk-toggleable__label-arrow\">OneHotEncoder</label><div class=\"sk-toggleable__content\"><pre>OneHotEncoder(drop=&#x27;first&#x27;, handle_unknown=&#x27;ignore&#x27;, sparse_output=False)</pre></div></div></div></div></div></div><div class=\"sk-parallel-item\"><div class=\"sk-item\"><div class=\"sk-label-container\"><div class=\"sk-label sk-toggleable\"><input class=\"sk-toggleable__control sk-hidden--visually\" id=\"sk-estimator-id-37\" type=\"checkbox\" ><label for=\"sk-estimator-id-37\" class=\"sk-toggleable__label sk-toggleable__label-arrow\">target_enc</label><div class=\"sk-toggleable__content\"><pre>[&#x27;location&#x27;]</pre></div></div></div><div class=\"sk-serial\"><div class=\"sk-item\"><div class=\"sk-estimator sk-toggleable\"><input class=\"sk-toggleable__control sk-hidden--visually\" id=\"sk-estimator-id-38\" type=\"checkbox\" ><label for=\"sk-estimator-id-38\" class=\"sk-toggleable__label sk-toggleable__label-arrow\">TargetEncoder</label><div class=\"sk-toggleable__content\"><pre>TargetEncoder()</pre></div></div></div></div></div></div><div class=\"sk-parallel-item\"><div class=\"sk-item\"><div class=\"sk-label-container\"><div class=\"sk-label sk-toggleable\"><input class=\"sk-toggleable__control sk-hidden--visually\" id=\"sk-estimator-id-39\" type=\"checkbox\" ><label for=\"sk-estimator-id-39\" class=\"sk-toggleable__label sk-toggleable__label-arrow\">remainder</label><div class=\"sk-toggleable__content\"><pre>[]</pre></div></div></div><div class=\"sk-serial\"><div class=\"sk-item\"><div class=\"sk-estimator sk-toggleable\"><input class=\"sk-toggleable__control sk-hidden--visually\" id=\"sk-estimator-id-40\" type=\"checkbox\" ><label for=\"sk-estimator-id-40\" class=\"sk-toggleable__label sk-toggleable__label-arrow\">passthrough</label><div class=\"sk-toggleable__content\"><pre>passthrough</pre></div></div></div></div></div></div></div></div><div class=\"sk-item\"><div class=\"sk-estimator sk-toggleable\"><input class=\"sk-toggleable__control sk-hidden--visually\" id=\"sk-estimator-id-41\" type=\"checkbox\" ><label for=\"sk-estimator-id-41\" class=\"sk-toggleable__label sk-toggleable__label-arrow\">XGBRegressor</label><div class=\"sk-toggleable__content\"><pre>XGBRegressor(base_score=None, booster=None, callbacks=None,\n",
       "             colsample_bylevel=None, colsample_bynode=None,\n",
       "             colsample_bytree=0.6962269683726227, device=None,\n",
       "             early_stopping_rounds=None, enable_categorical=False,\n",
       "             eval_metric=None, feature_types=None, gamma=4.974324315087931e-05,\n",
       "             grow_policy=None, importance_type=None,\n",
       "             interaction_constraints=None, learning_rate=0.062193215647129006,\n",
       "             max_bin=None, max_cat_threshold=None, max_cat_to_onehot=None,\n",
       "             max_delta_step=None, max_depth=5, max_leaves=None,\n",
       "             min_child_weight=None, missing=nan, monotone_constraints=None,\n",
       "             multi_strategy=None, n_estimators=787, n_jobs=-1,\n",
       "             num_parallel_tree=None, random_state=None, ...)</pre></div></div></div></div></div></div></div>"
      ],
      "text/plain": [
       "Pipeline(steps=[('preprocessor',\n",
       "                 ColumnTransformer(remainder='passthrough',\n",
       "                                   transformers=[('num', StandardScaler(),\n",
       "                                                  ['BEDROOM_NUM', 'BALCONY_NUM',\n",
       "                                                   'AREA']),\n",
       "                                                 ('cat1',\n",
       "                                                  OrdinalEncoder(categories=[array(['Moderately Old', 'New Property', 'Old Property',\n",
       "       'Relatively New Property'], dtype=object),\n",
       "                                                                             array(['Fully furnished', 'Luxury furnished', 'Semi-furnished',\n",
       "       'Unfurnished'], d...\n",
       "                              grow_policy=None, importance_type=None,\n",
       "                              interaction_constraints=None,\n",
       "                              learning_rate=0.062193215647129006, max_bin=None,\n",
       "                              max_cat_threshold=None, max_cat_to_onehot=None,\n",
       "                              max_delta_step=None, max_depth=5, max_leaves=None,\n",
       "                              min_child_weight=None, missing=nan,\n",
       "                              monotone_constraints=None, multi_strategy=None,\n",
       "                              n_estimators=787, n_jobs=-1,\n",
       "                              num_parallel_tree=None, random_state=None, ...))])"
      ]
     },
     "execution_count": 57,
     "metadata": {},
     "output_type": "execute_result"
    }
   ],
   "source": [
    "\n",
    "\n",
    "final_pipeline = Pipeline([\n",
    "    ('preprocessor', preprocessor),\n",
    "    ('regressor', XGBRegressor(verbosity=0,\n",
    "                               n_jobs=-1,\n",
    "                               colsample_bytree = 0.6962269683726227,\n",
    "                               gamma=  4.974324315087931e-05,\n",
    "                               learning_rate = 0.062193215647129006,\n",
    "                               max_depth = 5 ,\n",
    "                               n_estimators =787,\n",
    "                               subsample = 0.9507304440056652))\n",
    "])\n",
    "\n",
    "x_train, x_test, y_train, y_test = train_test_split(x, y_transform, test_size=0.01, random_state=42)\n",
    "final_pipeline.fit(x_train,y_train)\n"
   ]
  },
  {
   "cell_type": "code",
   "execution_count": 35,
   "id": "fHWFv8HSD8wj",
   "metadata": {
    "colab": {
     "base_uri": "https://localhost:8080/",
     "height": 1000
    },
    "executionInfo": {
     "elapsed": 820,
     "status": "ok",
     "timestamp": 1725455345797,
     "user": {
      "displayName": "Dipanjan Pathak",
      "userId": "18105456278807188077"
     },
     "user_tz": -330
    },
    "id": "fHWFv8HSD8wj",
    "outputId": "e4bde103-3961-4ad5-d2ff-26e13fc3d8c5"
   },
   "outputs": [
    {
     "data": {
      "text/html": [
       "<div>\n",
       "<style scoped>\n",
       "    .dataframe tbody tr th:only-of-type {\n",
       "        vertical-align: middle;\n",
       "    }\n",
       "\n",
       "    .dataframe tbody tr th {\n",
       "        vertical-align: top;\n",
       "    }\n",
       "\n",
       "    .dataframe thead th {\n",
       "        text-align: right;\n",
       "    }\n",
       "</style>\n",
       "<table border=\"1\" class=\"dataframe\">\n",
       "  <thead>\n",
       "    <tr style=\"text-align: right;\">\n",
       "      <th></th>\n",
       "      <th>location</th>\n",
       "      <th>BEDROOM_NUM</th>\n",
       "      <th>BALCONY_NUM</th>\n",
       "      <th>AREA</th>\n",
       "      <th>AGE</th>\n",
       "      <th>FURNISH</th>\n",
       "      <th>amenity_luxury</th>\n",
       "      <th>FLOOR_NUM</th>\n",
       "    </tr>\n",
       "  </thead>\n",
       "  <tbody>\n",
       "    <tr>\n",
       "      <th>1176</th>\n",
       "      <td>Bansdroni</td>\n",
       "      <td>3.0</td>\n",
       "      <td>1.0</td>\n",
       "      <td>1162</td>\n",
       "      <td>Relatively New Property</td>\n",
       "      <td>Fully furnished</td>\n",
       "      <td>Medium</td>\n",
       "      <td>Mid Floor</td>\n",
       "    </tr>\n",
       "    <tr>\n",
       "      <th>3362</th>\n",
       "      <td>Kestopur</td>\n",
       "      <td>2.0</td>\n",
       "      <td>1.0</td>\n",
       "      <td>711</td>\n",
       "      <td>New Property</td>\n",
       "      <td>Fully furnished</td>\n",
       "      <td>Low</td>\n",
       "      <td>Low Floor</td>\n",
       "    </tr>\n",
       "    <tr>\n",
       "      <th>1090</th>\n",
       "      <td>New Town</td>\n",
       "      <td>4.0</td>\n",
       "      <td>4.0</td>\n",
       "      <td>1925</td>\n",
       "      <td>Old Property</td>\n",
       "      <td>Fully furnished</td>\n",
       "      <td>High</td>\n",
       "      <td>High Floor</td>\n",
       "    </tr>\n",
       "    <tr>\n",
       "      <th>4815</th>\n",
       "      <td>Garia</td>\n",
       "      <td>2.0</td>\n",
       "      <td>2.0</td>\n",
       "      <td>881</td>\n",
       "      <td>Old Property</td>\n",
       "      <td>Fully furnished</td>\n",
       "      <td>Low</td>\n",
       "      <td>Mid Floor</td>\n",
       "    </tr>\n",
       "    <tr>\n",
       "      <th>4373</th>\n",
       "      <td>Joka</td>\n",
       "      <td>3.0</td>\n",
       "      <td>3.0</td>\n",
       "      <td>1129</td>\n",
       "      <td>Relatively New Property</td>\n",
       "      <td>Fully furnished</td>\n",
       "      <td>High</td>\n",
       "      <td>Mid Floor</td>\n",
       "    </tr>\n",
       "    <tr>\n",
       "      <th>279</th>\n",
       "      <td>Lake Town</td>\n",
       "      <td>2.0</td>\n",
       "      <td>1.0</td>\n",
       "      <td>765</td>\n",
       "      <td>Relatively New Property</td>\n",
       "      <td>Semi-furnished</td>\n",
       "      <td>High</td>\n",
       "      <td>Low Floor</td>\n",
       "    </tr>\n",
       "    <tr>\n",
       "      <th>996</th>\n",
       "      <td>Madhyamgram</td>\n",
       "      <td>4.0</td>\n",
       "      <td>2.0</td>\n",
       "      <td>1588</td>\n",
       "      <td>Old Property</td>\n",
       "      <td>Unfurnished</td>\n",
       "      <td>Medium</td>\n",
       "      <td>Low Floor</td>\n",
       "    </tr>\n",
       "    <tr>\n",
       "      <th>584</th>\n",
       "      <td>Majarhati</td>\n",
       "      <td>3.0</td>\n",
       "      <td>1.0</td>\n",
       "      <td>814</td>\n",
       "      <td>Old Property</td>\n",
       "      <td>Fully furnished</td>\n",
       "      <td>Medium</td>\n",
       "      <td>Mid Floor</td>\n",
       "    </tr>\n",
       "    <tr>\n",
       "      <th>1485</th>\n",
       "      <td>Kamalgazi</td>\n",
       "      <td>3.0</td>\n",
       "      <td>1.0</td>\n",
       "      <td>1530</td>\n",
       "      <td>Relatively New Property</td>\n",
       "      <td>Luxury furnished</td>\n",
       "      <td>Medium</td>\n",
       "      <td>Mid Floor</td>\n",
       "    </tr>\n",
       "    <tr>\n",
       "      <th>3922</th>\n",
       "      <td>Minto Park</td>\n",
       "      <td>3.0</td>\n",
       "      <td>0.0</td>\n",
       "      <td>2329</td>\n",
       "      <td>Old Property</td>\n",
       "      <td>Fully furnished</td>\n",
       "      <td>Medium</td>\n",
       "      <td>Mid Floor</td>\n",
       "    </tr>\n",
       "    <tr>\n",
       "      <th>2771</th>\n",
       "      <td>Tollygunge</td>\n",
       "      <td>3.0</td>\n",
       "      <td>1.0</td>\n",
       "      <td>1326</td>\n",
       "      <td>Old Property</td>\n",
       "      <td>Fully furnished</td>\n",
       "      <td>Low</td>\n",
       "      <td>High Floor</td>\n",
       "    </tr>\n",
       "    <tr>\n",
       "      <th>3647</th>\n",
       "      <td>Mahish Bathan</td>\n",
       "      <td>2.0</td>\n",
       "      <td>1.0</td>\n",
       "      <td>780</td>\n",
       "      <td>Old Property</td>\n",
       "      <td>Fully furnished</td>\n",
       "      <td>Medium</td>\n",
       "      <td>Mid Floor</td>\n",
       "    </tr>\n",
       "    <tr>\n",
       "      <th>4414</th>\n",
       "      <td>Salt Lake</td>\n",
       "      <td>3.0</td>\n",
       "      <td>1.0</td>\n",
       "      <td>1657</td>\n",
       "      <td>Relatively New Property</td>\n",
       "      <td>Semi-furnished</td>\n",
       "      <td>High</td>\n",
       "      <td>High Floor</td>\n",
       "    </tr>\n",
       "    <tr>\n",
       "      <th>4006</th>\n",
       "      <td>Rash Behari</td>\n",
       "      <td>2.0</td>\n",
       "      <td>1.0</td>\n",
       "      <td>1294</td>\n",
       "      <td>Relatively New Property</td>\n",
       "      <td>Fully furnished</td>\n",
       "      <td>Low</td>\n",
       "      <td>Mid Floor</td>\n",
       "    </tr>\n",
       "    <tr>\n",
       "      <th>3940</th>\n",
       "      <td>Madhyamgram</td>\n",
       "      <td>2.0</td>\n",
       "      <td>1.0</td>\n",
       "      <td>882</td>\n",
       "      <td>Relatively New Property</td>\n",
       "      <td>Fully furnished</td>\n",
       "      <td>High</td>\n",
       "      <td>Low Floor</td>\n",
       "    </tr>\n",
       "    <tr>\n",
       "      <th>1612</th>\n",
       "      <td>Diamond Park</td>\n",
       "      <td>1.0</td>\n",
       "      <td>1.0</td>\n",
       "      <td>447</td>\n",
       "      <td>Old Property</td>\n",
       "      <td>Fully furnished</td>\n",
       "      <td>Low</td>\n",
       "      <td>Low Floor</td>\n",
       "    </tr>\n",
       "    <tr>\n",
       "      <th>3193</th>\n",
       "      <td>Nayabad</td>\n",
       "      <td>3.0</td>\n",
       "      <td>1.0</td>\n",
       "      <td>1079</td>\n",
       "      <td>Old Property</td>\n",
       "      <td>Fully furnished</td>\n",
       "      <td>High</td>\n",
       "      <td>Low Floor</td>\n",
       "    </tr>\n",
       "    <tr>\n",
       "      <th>472</th>\n",
       "      <td>Rajarhat</td>\n",
       "      <td>1.0</td>\n",
       "      <td>1.0</td>\n",
       "      <td>630</td>\n",
       "      <td>Old Property</td>\n",
       "      <td>Unfurnished</td>\n",
       "      <td>Medium</td>\n",
       "      <td>Low Floor</td>\n",
       "    </tr>\n",
       "    <tr>\n",
       "      <th>4775</th>\n",
       "      <td>Action Area 2</td>\n",
       "      <td>3.0</td>\n",
       "      <td>2.0</td>\n",
       "      <td>1250</td>\n",
       "      <td>Old Property</td>\n",
       "      <td>Fully furnished</td>\n",
       "      <td>Low</td>\n",
       "      <td>Mid Floor</td>\n",
       "    </tr>\n",
       "    <tr>\n",
       "      <th>1580</th>\n",
       "      <td>Em Bypass</td>\n",
       "      <td>2.0</td>\n",
       "      <td>1.0</td>\n",
       "      <td>1152</td>\n",
       "      <td>Old Property</td>\n",
       "      <td>Fully furnished</td>\n",
       "      <td>Low</td>\n",
       "      <td>High Floor</td>\n",
       "    </tr>\n",
       "    <tr>\n",
       "      <th>969</th>\n",
       "      <td>Baruipur</td>\n",
       "      <td>2.0</td>\n",
       "      <td>1.0</td>\n",
       "      <td>650</td>\n",
       "      <td>New Property</td>\n",
       "      <td>Fully furnished</td>\n",
       "      <td>Low</td>\n",
       "      <td>Low Floor</td>\n",
       "    </tr>\n",
       "    <tr>\n",
       "      <th>2224</th>\n",
       "      <td>Chinar Park</td>\n",
       "      <td>2.0</td>\n",
       "      <td>1.0</td>\n",
       "      <td>911</td>\n",
       "      <td>Relatively New Property</td>\n",
       "      <td>Fully furnished</td>\n",
       "      <td>Medium</td>\n",
       "      <td>Low Floor</td>\n",
       "    </tr>\n",
       "    <tr>\n",
       "      <th>3877</th>\n",
       "      <td>New Town</td>\n",
       "      <td>3.0</td>\n",
       "      <td>1.0</td>\n",
       "      <td>1260</td>\n",
       "      <td>Old Property</td>\n",
       "      <td>Fully furnished</td>\n",
       "      <td>Low</td>\n",
       "      <td>Low Floor</td>\n",
       "    </tr>\n",
       "    <tr>\n",
       "      <th>4966</th>\n",
       "      <td>Em Bypass</td>\n",
       "      <td>2.0</td>\n",
       "      <td>1.0</td>\n",
       "      <td>792</td>\n",
       "      <td>Old Property</td>\n",
       "      <td>Fully furnished</td>\n",
       "      <td>High</td>\n",
       "      <td>Mid Floor</td>\n",
       "    </tr>\n",
       "    <tr>\n",
       "      <th>751</th>\n",
       "      <td>Lake Town</td>\n",
       "      <td>2.0</td>\n",
       "      <td>1.0</td>\n",
       "      <td>900</td>\n",
       "      <td>Moderately Old</td>\n",
       "      <td>Luxury furnished</td>\n",
       "      <td>Medium</td>\n",
       "      <td>Mid Floor</td>\n",
       "    </tr>\n",
       "    <tr>\n",
       "      <th>4409</th>\n",
       "      <td>New Town</td>\n",
       "      <td>4.0</td>\n",
       "      <td>4.0</td>\n",
       "      <td>3114</td>\n",
       "      <td>Relatively New Property</td>\n",
       "      <td>Fully furnished</td>\n",
       "      <td>High</td>\n",
       "      <td>High Floor</td>\n",
       "    </tr>\n",
       "    <tr>\n",
       "      <th>734</th>\n",
       "      <td>New Town</td>\n",
       "      <td>2.0</td>\n",
       "      <td>1.0</td>\n",
       "      <td>957</td>\n",
       "      <td>Old Property</td>\n",
       "      <td>Unfurnished</td>\n",
       "      <td>Medium</td>\n",
       "      <td>Low Floor</td>\n",
       "    </tr>\n",
       "    <tr>\n",
       "      <th>763</th>\n",
       "      <td>Narendrapur</td>\n",
       "      <td>5.0</td>\n",
       "      <td>2.0</td>\n",
       "      <td>2848</td>\n",
       "      <td>Old Property</td>\n",
       "      <td>Unfurnished</td>\n",
       "      <td>Medium</td>\n",
       "      <td>Low Floor</td>\n",
       "    </tr>\n",
       "    <tr>\n",
       "      <th>3931</th>\n",
       "      <td>Ballygunge</td>\n",
       "      <td>4.0</td>\n",
       "      <td>1.0</td>\n",
       "      <td>3160</td>\n",
       "      <td>Old Property</td>\n",
       "      <td>Fully furnished</td>\n",
       "      <td>Medium</td>\n",
       "      <td>Mid Floor</td>\n",
       "    </tr>\n",
       "    <tr>\n",
       "      <th>4945</th>\n",
       "      <td>New Alipore</td>\n",
       "      <td>4.0</td>\n",
       "      <td>1.0</td>\n",
       "      <td>1974</td>\n",
       "      <td>Old Property</td>\n",
       "      <td>Fully furnished</td>\n",
       "      <td>Medium</td>\n",
       "      <td>Mid Floor</td>\n",
       "    </tr>\n",
       "    <tr>\n",
       "      <th>1126</th>\n",
       "      <td>Khardah</td>\n",
       "      <td>2.0</td>\n",
       "      <td>1.0</td>\n",
       "      <td>870</td>\n",
       "      <td>Relatively New Property</td>\n",
       "      <td>Fully furnished</td>\n",
       "      <td>Medium</td>\n",
       "      <td>Mid Floor</td>\n",
       "    </tr>\n",
       "    <tr>\n",
       "      <th>4129</th>\n",
       "      <td>Rabindra Sarova Metro</td>\n",
       "      <td>2.0</td>\n",
       "      <td>1.0</td>\n",
       "      <td>960</td>\n",
       "      <td>New Property</td>\n",
       "      <td>Fully furnished</td>\n",
       "      <td>Low</td>\n",
       "      <td>Low Floor</td>\n",
       "    </tr>\n",
       "    <tr>\n",
       "      <th>3976</th>\n",
       "      <td>Baguiati</td>\n",
       "      <td>2.0</td>\n",
       "      <td>1.0</td>\n",
       "      <td>851</td>\n",
       "      <td>Old Property</td>\n",
       "      <td>Fully furnished</td>\n",
       "      <td>Low</td>\n",
       "      <td>Mid Floor</td>\n",
       "    </tr>\n",
       "    <tr>\n",
       "      <th>3484</th>\n",
       "      <td>Baguiati</td>\n",
       "      <td>2.0</td>\n",
       "      <td>1.0</td>\n",
       "      <td>800</td>\n",
       "      <td>Relatively New Property</td>\n",
       "      <td>Fully furnished</td>\n",
       "      <td>Low</td>\n",
       "      <td>Low Floor</td>\n",
       "    </tr>\n",
       "    <tr>\n",
       "      <th>3285</th>\n",
       "      <td>New Town</td>\n",
       "      <td>3.0</td>\n",
       "      <td>1.0</td>\n",
       "      <td>996</td>\n",
       "      <td>Old Property</td>\n",
       "      <td>Fully furnished</td>\n",
       "      <td>High</td>\n",
       "      <td>High Floor</td>\n",
       "    </tr>\n",
       "    <tr>\n",
       "      <th>944</th>\n",
       "      <td>Thakurpukur Bazar</td>\n",
       "      <td>5.0</td>\n",
       "      <td>2.0</td>\n",
       "      <td>1800</td>\n",
       "      <td>Moderately Old</td>\n",
       "      <td>Fully furnished</td>\n",
       "      <td>Medium</td>\n",
       "      <td>Low Floor</td>\n",
       "    </tr>\n",
       "    <tr>\n",
       "      <th>4196</th>\n",
       "      <td>Rajpur</td>\n",
       "      <td>2.0</td>\n",
       "      <td>1.0</td>\n",
       "      <td>764</td>\n",
       "      <td>Relatively New Property</td>\n",
       "      <td>Fully furnished</td>\n",
       "      <td>Low</td>\n",
       "      <td>Mid Floor</td>\n",
       "    </tr>\n",
       "    <tr>\n",
       "      <th>2406</th>\n",
       "      <td>Garia</td>\n",
       "      <td>2.0</td>\n",
       "      <td>1.0</td>\n",
       "      <td>725</td>\n",
       "      <td>Relatively New Property</td>\n",
       "      <td>Fully furnished</td>\n",
       "      <td>Medium</td>\n",
       "      <td>Low Floor</td>\n",
       "    </tr>\n",
       "    <tr>\n",
       "      <th>2718</th>\n",
       "      <td>Rajarhat</td>\n",
       "      <td>3.0</td>\n",
       "      <td>1.0</td>\n",
       "      <td>1285</td>\n",
       "      <td>Old Property</td>\n",
       "      <td>Fully furnished</td>\n",
       "      <td>High</td>\n",
       "      <td>Mid Floor</td>\n",
       "    </tr>\n",
       "    <tr>\n",
       "      <th>4347</th>\n",
       "      <td>Action Area 3</td>\n",
       "      <td>1.0</td>\n",
       "      <td>1.0</td>\n",
       "      <td>437</td>\n",
       "      <td>Relatively New Property</td>\n",
       "      <td>Fully furnished</td>\n",
       "      <td>Medium</td>\n",
       "      <td>Low Floor</td>\n",
       "    </tr>\n",
       "    <tr>\n",
       "      <th>346</th>\n",
       "      <td>Rajarhat</td>\n",
       "      <td>3.0</td>\n",
       "      <td>1.0</td>\n",
       "      <td>1030</td>\n",
       "      <td>Old Property</td>\n",
       "      <td>Unfurnished</td>\n",
       "      <td>Medium</td>\n",
       "      <td>Low Floor</td>\n",
       "    </tr>\n",
       "    <tr>\n",
       "      <th>1420</th>\n",
       "      <td>Lake Gardens</td>\n",
       "      <td>2.0</td>\n",
       "      <td>1.0</td>\n",
       "      <td>770</td>\n",
       "      <td>Relatively New Property</td>\n",
       "      <td>Fully furnished</td>\n",
       "      <td>High</td>\n",
       "      <td>Low Floor</td>\n",
       "    </tr>\n",
       "    <tr>\n",
       "      <th>471</th>\n",
       "      <td>Rajarhat</td>\n",
       "      <td>2.0</td>\n",
       "      <td>1.0</td>\n",
       "      <td>910</td>\n",
       "      <td>Old Property</td>\n",
       "      <td>Unfurnished</td>\n",
       "      <td>Medium</td>\n",
       "      <td>Low Floor</td>\n",
       "    </tr>\n",
       "    <tr>\n",
       "      <th>1261</th>\n",
       "      <td>Em Bypass</td>\n",
       "      <td>3.0</td>\n",
       "      <td>2.0</td>\n",
       "      <td>1350</td>\n",
       "      <td>Moderately Old</td>\n",
       "      <td>Fully furnished</td>\n",
       "      <td>Medium</td>\n",
       "      <td>Low Floor</td>\n",
       "    </tr>\n",
       "    <tr>\n",
       "      <th>3805</th>\n",
       "      <td>Airport</td>\n",
       "      <td>3.0</td>\n",
       "      <td>1.0</td>\n",
       "      <td>1052</td>\n",
       "      <td>Relatively New Property</td>\n",
       "      <td>Fully furnished</td>\n",
       "      <td>Low</td>\n",
       "      <td>Mid Floor</td>\n",
       "    </tr>\n",
       "    <tr>\n",
       "      <th>3878</th>\n",
       "      <td>New Town</td>\n",
       "      <td>3.0</td>\n",
       "      <td>2.0</td>\n",
       "      <td>1250</td>\n",
       "      <td>Relatively New Property</td>\n",
       "      <td>Fully furnished</td>\n",
       "      <td>Low</td>\n",
       "      <td>Low Floor</td>\n",
       "    </tr>\n",
       "    <tr>\n",
       "      <th>2346</th>\n",
       "      <td>Action Area 1</td>\n",
       "      <td>3.0</td>\n",
       "      <td>1.0</td>\n",
       "      <td>1100</td>\n",
       "      <td>Relatively New Property</td>\n",
       "      <td>Fully furnished</td>\n",
       "      <td>Low</td>\n",
       "      <td>Low Floor</td>\n",
       "    </tr>\n",
       "    <tr>\n",
       "      <th>2002</th>\n",
       "      <td>Durganagar</td>\n",
       "      <td>3.0</td>\n",
       "      <td>1.0</td>\n",
       "      <td>1079</td>\n",
       "      <td>Relatively New Property</td>\n",
       "      <td>Fully furnished</td>\n",
       "      <td>Medium</td>\n",
       "      <td>Mid Floor</td>\n",
       "    </tr>\n",
       "    <tr>\n",
       "      <th>4829</th>\n",
       "      <td>Rajarhat</td>\n",
       "      <td>3.0</td>\n",
       "      <td>1.0</td>\n",
       "      <td>1227</td>\n",
       "      <td>Relatively New Property</td>\n",
       "      <td>Fully furnished</td>\n",
       "      <td>Medium</td>\n",
       "      <td>Mid Floor</td>\n",
       "    </tr>\n",
       "    <tr>\n",
       "      <th>4005</th>\n",
       "      <td>Dover Terrace</td>\n",
       "      <td>2.0</td>\n",
       "      <td>1.0</td>\n",
       "      <td>1356</td>\n",
       "      <td>Relatively New Property</td>\n",
       "      <td>Fully furnished</td>\n",
       "      <td>Low</td>\n",
       "      <td>Mid Floor</td>\n",
       "    </tr>\n",
       "    <tr>\n",
       "      <th>4894</th>\n",
       "      <td>New Town Action Area 2B</td>\n",
       "      <td>3.0</td>\n",
       "      <td>2.0</td>\n",
       "      <td>1480</td>\n",
       "      <td>Old Property</td>\n",
       "      <td>Fully furnished</td>\n",
       "      <td>Medium</td>\n",
       "      <td>Low Floor</td>\n",
       "    </tr>\n",
       "    <tr>\n",
       "      <th>1049</th>\n",
       "      <td>Narendrapur</td>\n",
       "      <td>3.0</td>\n",
       "      <td>1.0</td>\n",
       "      <td>1100</td>\n",
       "      <td>Moderately Old</td>\n",
       "      <td>Luxury furnished</td>\n",
       "      <td>Medium</td>\n",
       "      <td>Low Floor</td>\n",
       "    </tr>\n",
       "  </tbody>\n",
       "</table>\n",
       "</div>"
      ],
      "text/plain": [
       "                     location  BEDROOM_NUM  BALCONY_NUM  AREA  \\\n",
       "1176                Bansdroni          3.0          1.0  1162   \n",
       "3362                 Kestopur          2.0          1.0   711   \n",
       "1090                 New Town          4.0          4.0  1925   \n",
       "4815                    Garia          2.0          2.0   881   \n",
       "4373                     Joka          3.0          3.0  1129   \n",
       "279                 Lake Town          2.0          1.0   765   \n",
       "996               Madhyamgram          4.0          2.0  1588   \n",
       "584                 Majarhati          3.0          1.0   814   \n",
       "1485                Kamalgazi          3.0          1.0  1530   \n",
       "3922               Minto Park          3.0          0.0  2329   \n",
       "2771               Tollygunge          3.0          1.0  1326   \n",
       "3647            Mahish Bathan          2.0          1.0   780   \n",
       "4414                Salt Lake          3.0          1.0  1657   \n",
       "4006              Rash Behari          2.0          1.0  1294   \n",
       "3940              Madhyamgram          2.0          1.0   882   \n",
       "1612             Diamond Park          1.0          1.0   447   \n",
       "3193                  Nayabad          3.0          1.0  1079   \n",
       "472                  Rajarhat          1.0          1.0   630   \n",
       "4775            Action Area 2          3.0          2.0  1250   \n",
       "1580                Em Bypass          2.0          1.0  1152   \n",
       "969                  Baruipur          2.0          1.0   650   \n",
       "2224              Chinar Park          2.0          1.0   911   \n",
       "3877                 New Town          3.0          1.0  1260   \n",
       "4966                Em Bypass          2.0          1.0   792   \n",
       "751                 Lake Town          2.0          1.0   900   \n",
       "4409                 New Town          4.0          4.0  3114   \n",
       "734                  New Town          2.0          1.0   957   \n",
       "763               Narendrapur          5.0          2.0  2848   \n",
       "3931               Ballygunge          4.0          1.0  3160   \n",
       "4945              New Alipore          4.0          1.0  1974   \n",
       "1126                  Khardah          2.0          1.0   870   \n",
       "4129    Rabindra Sarova Metro          2.0          1.0   960   \n",
       "3976                 Baguiati          2.0          1.0   851   \n",
       "3484                 Baguiati          2.0          1.0   800   \n",
       "3285                 New Town          3.0          1.0   996   \n",
       "944         Thakurpukur Bazar          5.0          2.0  1800   \n",
       "4196                   Rajpur          2.0          1.0   764   \n",
       "2406                    Garia          2.0          1.0   725   \n",
       "2718                 Rajarhat          3.0          1.0  1285   \n",
       "4347            Action Area 3          1.0          1.0   437   \n",
       "346                  Rajarhat          3.0          1.0  1030   \n",
       "1420             Lake Gardens          2.0          1.0   770   \n",
       "471                  Rajarhat          2.0          1.0   910   \n",
       "1261                Em Bypass          3.0          2.0  1350   \n",
       "3805                  Airport          3.0          1.0  1052   \n",
       "3878                 New Town          3.0          2.0  1250   \n",
       "2346            Action Area 1          3.0          1.0  1100   \n",
       "2002               Durganagar          3.0          1.0  1079   \n",
       "4829                 Rajarhat          3.0          1.0  1227   \n",
       "4005            Dover Terrace          2.0          1.0  1356   \n",
       "4894  New Town Action Area 2B          3.0          2.0  1480   \n",
       "1049              Narendrapur          3.0          1.0  1100   \n",
       "\n",
       "                          AGE           FURNISH amenity_luxury   FLOOR_NUM  \n",
       "1176  Relatively New Property   Fully furnished         Medium   Mid Floor  \n",
       "3362             New Property   Fully furnished            Low   Low Floor  \n",
       "1090             Old Property   Fully furnished           High  High Floor  \n",
       "4815             Old Property   Fully furnished            Low   Mid Floor  \n",
       "4373  Relatively New Property   Fully furnished           High   Mid Floor  \n",
       "279   Relatively New Property    Semi-furnished           High   Low Floor  \n",
       "996              Old Property       Unfurnished         Medium   Low Floor  \n",
       "584              Old Property   Fully furnished         Medium   Mid Floor  \n",
       "1485  Relatively New Property  Luxury furnished         Medium   Mid Floor  \n",
       "3922             Old Property   Fully furnished         Medium   Mid Floor  \n",
       "2771             Old Property   Fully furnished            Low  High Floor  \n",
       "3647             Old Property   Fully furnished         Medium   Mid Floor  \n",
       "4414  Relatively New Property    Semi-furnished           High  High Floor  \n",
       "4006  Relatively New Property   Fully furnished            Low   Mid Floor  \n",
       "3940  Relatively New Property   Fully furnished           High   Low Floor  \n",
       "1612             Old Property   Fully furnished            Low   Low Floor  \n",
       "3193             Old Property   Fully furnished           High   Low Floor  \n",
       "472              Old Property       Unfurnished         Medium   Low Floor  \n",
       "4775             Old Property   Fully furnished            Low   Mid Floor  \n",
       "1580             Old Property   Fully furnished            Low  High Floor  \n",
       "969              New Property   Fully furnished            Low   Low Floor  \n",
       "2224  Relatively New Property   Fully furnished         Medium   Low Floor  \n",
       "3877             Old Property   Fully furnished            Low   Low Floor  \n",
       "4966             Old Property   Fully furnished           High   Mid Floor  \n",
       "751            Moderately Old  Luxury furnished         Medium   Mid Floor  \n",
       "4409  Relatively New Property   Fully furnished           High  High Floor  \n",
       "734              Old Property       Unfurnished         Medium   Low Floor  \n",
       "763              Old Property       Unfurnished         Medium   Low Floor  \n",
       "3931             Old Property   Fully furnished         Medium   Mid Floor  \n",
       "4945             Old Property   Fully furnished         Medium   Mid Floor  \n",
       "1126  Relatively New Property   Fully furnished         Medium   Mid Floor  \n",
       "4129             New Property   Fully furnished            Low   Low Floor  \n",
       "3976             Old Property   Fully furnished            Low   Mid Floor  \n",
       "3484  Relatively New Property   Fully furnished            Low   Low Floor  \n",
       "3285             Old Property   Fully furnished           High  High Floor  \n",
       "944            Moderately Old   Fully furnished         Medium   Low Floor  \n",
       "4196  Relatively New Property   Fully furnished            Low   Mid Floor  \n",
       "2406  Relatively New Property   Fully furnished         Medium   Low Floor  \n",
       "2718             Old Property   Fully furnished           High   Mid Floor  \n",
       "4347  Relatively New Property   Fully furnished         Medium   Low Floor  \n",
       "346              Old Property       Unfurnished         Medium   Low Floor  \n",
       "1420  Relatively New Property   Fully furnished           High   Low Floor  \n",
       "471              Old Property       Unfurnished         Medium   Low Floor  \n",
       "1261           Moderately Old   Fully furnished         Medium   Low Floor  \n",
       "3805  Relatively New Property   Fully furnished            Low   Mid Floor  \n",
       "3878  Relatively New Property   Fully furnished            Low   Low Floor  \n",
       "2346  Relatively New Property   Fully furnished            Low   Low Floor  \n",
       "2002  Relatively New Property   Fully furnished         Medium   Mid Floor  \n",
       "4829  Relatively New Property   Fully furnished         Medium   Mid Floor  \n",
       "4005  Relatively New Property   Fully furnished            Low   Mid Floor  \n",
       "4894             Old Property   Fully furnished         Medium   Low Floor  \n",
       "1049           Moderately Old  Luxury furnished         Medium   Low Floor  "
      ]
     },
     "execution_count": 35,
     "metadata": {},
     "output_type": "execute_result"
    }
   ],
   "source": [
    "x_test"
   ]
  },
  {
   "cell_type": "code",
   "execution_count": 59,
   "id": "4JCP1kdc_2d7",
   "metadata": {
    "colab": {
     "base_uri": "https://localhost:8080/",
     "height": 80
    },
    "executionInfo": {
     "elapsed": 18,
     "status": "ok",
     "timestamp": 1725455351539,
     "user": {
      "displayName": "Dipanjan Pathak",
      "userId": "18105456278807188077"
     },
     "user_tz": -330
    },
    "id": "4JCP1kdc_2d7",
    "outputId": "ef564407-7a4f-4e91-cf59-abda91a79ee0"
   },
   "outputs": [
    {
     "data": {
      "text/html": [
       "<div>\n",
       "<style scoped>\n",
       "    .dataframe tbody tr th:only-of-type {\n",
       "        vertical-align: middle;\n",
       "    }\n",
       "\n",
       "    .dataframe tbody tr th {\n",
       "        vertical-align: top;\n",
       "    }\n",
       "\n",
       "    .dataframe thead th {\n",
       "        text-align: right;\n",
       "    }\n",
       "</style>\n",
       "<table border=\"1\" class=\"dataframe\">\n",
       "  <thead>\n",
       "    <tr style=\"text-align: right;\">\n",
       "      <th></th>\n",
       "      <th>location</th>\n",
       "      <th>BEDROOM_NUM</th>\n",
       "      <th>BALCONY_NUM</th>\n",
       "      <th>AREA</th>\n",
       "      <th>PRICE</th>\n",
       "      <th>AGE</th>\n",
       "      <th>FURNISH</th>\n",
       "      <th>amenity_luxury</th>\n",
       "      <th>FLOOR_NUM</th>\n",
       "    </tr>\n",
       "  </thead>\n",
       "  <tbody>\n",
       "    <tr>\n",
       "      <th>4005</th>\n",
       "      <td>Dover Terrace</td>\n",
       "      <td>2.0</td>\n",
       "      <td>1.0</td>\n",
       "      <td>1356</td>\n",
       "      <td>1.42</td>\n",
       "      <td>Relatively New Property</td>\n",
       "      <td>Fully furnished</td>\n",
       "      <td>Low</td>\n",
       "      <td>Mid Floor</td>\n",
       "    </tr>\n",
       "  </tbody>\n",
       "</table>\n",
       "</div>"
      ],
      "text/plain": [
       "           location  BEDROOM_NUM  BALCONY_NUM  AREA  PRICE  \\\n",
       "4005  Dover Terrace          2.0          1.0  1356   1.42   \n",
       "\n",
       "                          AGE          FURNISH amenity_luxury  FLOOR_NUM  \n",
       "4005  Relatively New Property  Fully furnished            Low  Mid Floor  "
      ]
     },
     "execution_count": 59,
     "metadata": {},
     "output_type": "execute_result"
    }
   ],
   "source": [
    "# Access row with index 1176\n",
    "df.loc[[4005]]\n"
   ]
  },
  {
   "cell_type": "code",
   "execution_count": 60,
   "id": "xq0892OoCQO9",
   "metadata": {
    "colab": {
     "base_uri": "https://localhost:8080/"
    },
    "executionInfo": {
     "elapsed": 522,
     "status": "ok",
     "timestamp": 1725455355860,
     "user": {
      "displayName": "Dipanjan Pathak",
      "userId": "18105456278807188077"
     },
     "user_tz": -330
    },
    "id": "xq0892OoCQO9",
    "outputId": "f104f2c8-5930-4650-9435-133c0d54e4e0"
   },
   "outputs": [
    {
     "data": {
      "text/plain": [
       "array([1.1723874], dtype=float32)"
      ]
     },
     "execution_count": 60,
     "metadata": {},
     "output_type": "execute_result"
    }
   ],
   "source": [
    "# Assuming `x_test` has fewer rows, use the first row or a valid index\n",
    "np.expm1(final_pipeline.predict(x_test.loc[[4005]]))\n"
   ]
  },
  {
   "cell_type": "code",
   "execution_count": 18,
   "id": "3TvbgQlNEFHK",
   "metadata": {
    "colab": {
     "base_uri": "https://localhost:8080/"
    },
    "executionInfo": {
     "elapsed": 526,
     "status": "ok",
     "timestamp": 1725455361392,
     "user": {
      "displayName": "Dipanjan Pathak",
      "userId": "18105456278807188077"
     },
     "user_tz": -330
    },
    "id": "3TvbgQlNEFHK",
    "outputId": "a19b9c16-a5db-4f4a-e914-6eb58b86eecd"
   },
   "outputs": [
    {
     "name": "stdout",
     "output_type": "stream",
     "text": [
      "Actual Price: 0.72,Predicted Price: 0.43, Predicted Price: 0.33 to 0.53, Residual: 0.29\n",
      "Actual Price: 0.24,Predicted Price: 0.25, Predicted Price: 0.15 to 0.35, Residual: -0.01\n",
      "Actual Price: 1.48,Predicted Price: 1.69, Predicted Price: 1.59 to 1.79, Residual: -0.21\n",
      "Actual Price: 0.55,Predicted Price: 0.41, Predicted Price: 0.31 to 0.51, Residual: 0.14\n",
      "Actual Price: 0.64,Predicted Price: 0.66, Predicted Price: 0.56 to 0.76, Residual: -0.02\n",
      "Actual Price: 0.38,Predicted Price: 0.45, Predicted Price: 0.35 to 0.55, Residual: -0.07\n",
      "Actual Price: 0.70,Predicted Price: 0.75, Predicted Price: 0.65 to 0.85, Residual: -0.05\n",
      "Actual Price: 0.76,Predicted Price: 0.67, Predicted Price: 0.57 to 0.77, Residual: 0.09\n",
      "Actual Price: 0.84,Predicted Price: 0.75, Predicted Price: 0.65 to 0.85, Residual: 0.09\n",
      "Actual Price: 3.20,Predicted Price: 3.69, Predicted Price: 3.59 to 3.79, Residual: -0.49\n",
      "Actual Price: 1.32,Predicted Price: 1.31, Predicted Price: 1.21 to 1.41, Residual: 0.01\n",
      "Actual Price: 0.33,Predicted Price: 0.35, Predicted Price: 0.25 to 0.45, Residual: -0.02\n",
      "Actual Price: 2.50,Predicted Price: 1.89, Predicted Price: 1.79 to 1.99, Residual: 0.61\n",
      "Actual Price: 1.27,Predicted Price: 0.90, Predicted Price: 0.80 to 1.00, Residual: 0.37\n",
      "Actual Price: 0.27,Predicted Price: 0.31, Predicted Price: 0.21 to 0.41, Residual: -0.04\n",
      "Actual Price: 0.14,Predicted Price: 0.14, Predicted Price: 0.04 to 0.24, Residual: 0.00\n",
      "Actual Price: 0.45,Predicted Price: 0.41, Predicted Price: 0.31 to 0.51, Residual: 0.04\n",
      "Actual Price: 0.26,Predicted Price: 0.28, Predicted Price: 0.18 to 0.38, Residual: -0.02\n",
      "Actual Price: 0.71,Predicted Price: 0.76, Predicted Price: 0.66 to 0.86, Residual: -0.05\n",
      "Actual Price: 1.05,Predicted Price: 1.11, Predicted Price: 1.01 to 1.21, Residual: -0.06\n",
      "Actual Price: 0.13,Predicted Price: 0.20, Predicted Price: 0.10 to 0.30, Residual: -0.07\n",
      "Actual Price: 0.34,Predicted Price: 0.45, Predicted Price: 0.35 to 0.55, Residual: -0.11\n",
      "Actual Price: 0.65,Predicted Price: 0.79, Predicted Price: 0.69 to 0.89, Residual: -0.14\n",
      "Actual Price: 0.30,Predicted Price: 0.38, Predicted Price: 0.28 to 0.48, Residual: -0.08\n",
      "Actual Price: 0.55,Predicted Price: 0.51, Predicted Price: 0.41 to 0.61, Residual: 0.04\n",
      "Actual Price: 3.20,Predicted Price: 3.05, Predicted Price: 2.95 to 3.15, Residual: 0.15\n",
      "Actual Price: 0.65,Predicted Price: 0.67, Predicted Price: 0.57 to 0.77, Residual: -0.02\n",
      "Actual Price: 1.42,Predicted Price: 2.02, Predicted Price: 1.92 to 2.12, Residual: -0.60\n",
      "Actual Price: 9.50,Predicted Price: 5.72, Predicted Price: 5.62 to 5.82, Residual: 3.78\n",
      "Actual Price: 1.75,Predicted Price: 2.86, Predicted Price: 2.76 to 2.96, Residual: -1.11\n",
      "Actual Price: 0.28,Predicted Price: 0.26, Predicted Price: 0.16 to 0.36, Residual: 0.02\n",
      "Actual Price: 0.68,Predicted Price: 0.52, Predicted Price: 0.42 to 0.62, Residual: 0.16\n",
      "Actual Price: 0.25,Predicted Price: 0.29, Predicted Price: 0.19 to 0.39, Residual: -0.04\n",
      "Actual Price: 0.32,Predicted Price: 0.28, Predicted Price: 0.18 to 0.38, Residual: 0.04\n",
      "Actual Price: 1.40,Predicted Price: 1.08, Predicted Price: 0.98 to 1.18, Residual: 0.32\n",
      "Actual Price: 0.66,Predicted Price: 0.70, Predicted Price: 0.60 to 0.80, Residual: -0.04\n",
      "Actual Price: 0.33,Predicted Price: 0.24, Predicted Price: 0.14 to 0.34, Residual: 0.09\n",
      "Actual Price: 0.22,Predicted Price: 0.30, Predicted Price: 0.20 to 0.40, Residual: -0.08\n",
      "Actual Price: 0.95,Predicted Price: 0.79, Predicted Price: 0.69 to 0.89, Residual: 0.16\n",
      "Actual Price: 0.22,Predicted Price: 0.21, Predicted Price: 0.11 to 0.31, Residual: 0.01\n",
      "Actual Price: 0.48,Predicted Price: 0.52, Predicted Price: 0.42 to 0.62, Residual: -0.04\n",
      "Actual Price: 0.50,Predicted Price: 0.56, Predicted Price: 0.46 to 0.66, Residual: -0.06\n",
      "Actual Price: 0.42,Predicted Price: 0.43, Predicted Price: 0.33 to 0.53, Residual: -0.01\n",
      "Actual Price: 1.00,Predicted Price: 0.89, Predicted Price: 0.79 to 0.99, Residual: 0.11\n",
      "Actual Price: 0.37,Predicted Price: 0.40, Predicted Price: 0.30 to 0.50, Residual: -0.03\n",
      "Actual Price: 0.87,Predicted Price: 0.69, Predicted Price: 0.59 to 0.79, Residual: 0.18\n",
      "Actual Price: 0.68,Predicted Price: 0.68, Predicted Price: 0.58 to 0.78, Residual: 0.00\n",
      "Actual Price: 0.39,Predicted Price: 0.36, Predicted Price: 0.26 to 0.46, Residual: 0.03\n",
      "Actual Price: 0.37,Predicted Price: 0.57, Predicted Price: 0.47 to 0.67, Residual: -0.20\n",
      "Actual Price: 1.42,Predicted Price: 1.17, Predicted Price: 1.07 to 1.27, Residual: 0.25\n",
      "Actual Price: 0.80,Predicted Price: 0.68, Predicted Price: 0.58 to 0.78, Residual: 0.12\n",
      "Actual Price: 0.55,Predicted Price: 0.45, Predicted Price: 0.35 to 0.55, Residual: 0.10\n",
      "Total number of operations: 52\n"
     ]
    }
   ],
   "source": [
    "final_pipeline = Pipeline([\n",
    "    ('preprocessor', preprocessor),\n",
    "    ('regressor', XGBRegressor(verbosity=0,\n",
    "                               n_jobs=-1,\n",
    "                               colsample_bytree = 0.6962269683726227,\n",
    "                               gamma=  4.974324315087931e-05,\n",
    "                               learning_rate = 0.062193215647129006,\n",
    "                               max_depth = 5 ,\n",
    "                               n_estimators =787,\n",
    "                               subsample = 0.9507304440056652))\n",
    "])\n",
    "\n",
    "# Train-Test Split\n",
    "x_train, x_test, y_train, y_test = train_test_split(x, y_transform, test_size=0.01, random_state=42)\n",
    "final_pipeline.fit(x_train, y_train)\n",
    "\n",
    "# Initialize a counter\n",
    "operation_count = 0\n",
    "\n",
    "# Iterate over the indices of x_test\n",
    "for idx in x_test.index:\n",
    "    actual_price = np.expm1(y_test.loc[idx])\n",
    "    predicted_price = np.expm1(final_pipeline.predict(x_test.loc[[idx]]))[0]\n",
    "    residual = actual_price - predicted_price\n",
    "\n",
    "    # Print the details\n",
    "    print(f\"Actual Price: {actual_price:.2f},Predicted Price: {predicted_price:.2f}, Predicted Price: {predicted_price - 0.10:.2f} to {predicted_price + 0.10:.2f}, Residual: {residual:.2f}\")\n",
    "\n",
    "    # Increment the counter\n",
    "    operation_count += 1\n",
    "\n",
    "# Print the total number of operations\n",
    "print(f\"Total number of operations: {operation_count}\")\n"
   ]
  },
  {
   "cell_type": "markdown",
   "id": "Tkr0UD1pNZKv",
   "metadata": {
    "id": "Tkr0UD1pNZKv"
   },
   "source": [
    "# Extra Trees:"
   ]
  },
  {
   "cell_type": "code",
   "execution_count": 19,
   "id": "1a8bd630-d666-42c7-a3b2-dce22c5d20a3",
   "metadata": {},
   "outputs": [
    {
     "ename": "KeyboardInterrupt",
     "evalue": "",
     "output_type": "error",
     "traceback": [
      "\u001b[1;31m---------------------------------------------------------------------------\u001b[0m",
      "\u001b[1;31mKeyboardInterrupt\u001b[0m                         Traceback (most recent call last)",
      "Cell \u001b[1;32mIn[19], line 30\u001b[0m\n\u001b[0;32m     24\u001b[0m pipeline_etratrees \u001b[38;5;241m=\u001b[39m Pipeline([\n\u001b[0;32m     25\u001b[0m     (\u001b[38;5;124m'\u001b[39m\u001b[38;5;124mpreprocessor\u001b[39m\u001b[38;5;124m'\u001b[39m, preprocessor),\n\u001b[0;32m     26\u001b[0m     (\u001b[38;5;124m'\u001b[39m\u001b[38;5;124mregressor\u001b[39m\u001b[38;5;124m'\u001b[39m, Regressor)\n\u001b[0;32m     27\u001b[0m ])\n\u001b[0;32m     29\u001b[0m \u001b[38;5;66;03m# Cross-Validation\u001b[39;00m\n\u001b[1;32m---> 30\u001b[0m cv_scores \u001b[38;5;241m=\u001b[39m \u001b[43mcross_val_score\u001b[49m\u001b[43m(\u001b[49m\u001b[43mpipeline_etratrees\u001b[49m\u001b[43m,\u001b[49m\u001b[43m \u001b[49m\u001b[43mx\u001b[49m\u001b[43m,\u001b[49m\u001b[43m \u001b[49m\u001b[43my_transform\u001b[49m\u001b[43m,\u001b[49m\u001b[43m \u001b[49m\u001b[43mscoring\u001b[49m\u001b[38;5;241;43m=\u001b[39;49m\u001b[38;5;124;43m'\u001b[39;49m\u001b[38;5;124;43mr2\u001b[39;49m\u001b[38;5;124;43m'\u001b[39;49m\u001b[43m,\u001b[49m\u001b[43m \u001b[49m\u001b[43mcv\u001b[49m\u001b[38;5;241;43m=\u001b[39;49m\u001b[38;5;241;43m10\u001b[39;49m\u001b[43m)\u001b[49m\n\u001b[0;32m     31\u001b[0m \u001b[38;5;28mprint\u001b[39m(\u001b[38;5;124mf\u001b[39m\u001b[38;5;124m\"\u001b[39m\u001b[38;5;124mCross-Validation Mean R² Score: \u001b[39m\u001b[38;5;132;01m{\u001b[39;00mnp\u001b[38;5;241m.\u001b[39mmean(cv_scores)\u001b[38;5;132;01m}\u001b[39;00m\u001b[38;5;124m\"\u001b[39m)\n\u001b[0;32m     33\u001b[0m \u001b[38;5;66;03m# Train-Test Split\u001b[39;00m\n",
      "File \u001b[1;32m~\\AppData\\Local\\Packages\\PythonSoftwareFoundation.Python.3.11_qbz5n2kfra8p0\\LocalCache\\local-packages\\Python311\\site-packages\\sklearn\\model_selection\\_validation.py:562\u001b[0m, in \u001b[0;36mcross_val_score\u001b[1;34m(estimator, X, y, groups, scoring, cv, n_jobs, verbose, fit_params, pre_dispatch, error_score)\u001b[0m\n\u001b[0;32m    559\u001b[0m \u001b[38;5;66;03m# To ensure multimetric format is not supported\u001b[39;00m\n\u001b[0;32m    560\u001b[0m scorer \u001b[38;5;241m=\u001b[39m check_scoring(estimator, scoring\u001b[38;5;241m=\u001b[39mscoring)\n\u001b[1;32m--> 562\u001b[0m cv_results \u001b[38;5;241m=\u001b[39m \u001b[43mcross_validate\u001b[49m\u001b[43m(\u001b[49m\n\u001b[0;32m    563\u001b[0m \u001b[43m    \u001b[49m\u001b[43mestimator\u001b[49m\u001b[38;5;241;43m=\u001b[39;49m\u001b[43mestimator\u001b[49m\u001b[43m,\u001b[49m\n\u001b[0;32m    564\u001b[0m \u001b[43m    \u001b[49m\u001b[43mX\u001b[49m\u001b[38;5;241;43m=\u001b[39;49m\u001b[43mX\u001b[49m\u001b[43m,\u001b[49m\n\u001b[0;32m    565\u001b[0m \u001b[43m    \u001b[49m\u001b[43my\u001b[49m\u001b[38;5;241;43m=\u001b[39;49m\u001b[43my\u001b[49m\u001b[43m,\u001b[49m\n\u001b[0;32m    566\u001b[0m \u001b[43m    \u001b[49m\u001b[43mgroups\u001b[49m\u001b[38;5;241;43m=\u001b[39;49m\u001b[43mgroups\u001b[49m\u001b[43m,\u001b[49m\n\u001b[0;32m    567\u001b[0m \u001b[43m    \u001b[49m\u001b[43mscoring\u001b[49m\u001b[38;5;241;43m=\u001b[39;49m\u001b[43m{\u001b[49m\u001b[38;5;124;43m\"\u001b[39;49m\u001b[38;5;124;43mscore\u001b[39;49m\u001b[38;5;124;43m\"\u001b[39;49m\u001b[43m:\u001b[49m\u001b[43m \u001b[49m\u001b[43mscorer\u001b[49m\u001b[43m}\u001b[49m\u001b[43m,\u001b[49m\n\u001b[0;32m    568\u001b[0m \u001b[43m    \u001b[49m\u001b[43mcv\u001b[49m\u001b[38;5;241;43m=\u001b[39;49m\u001b[43mcv\u001b[49m\u001b[43m,\u001b[49m\n\u001b[0;32m    569\u001b[0m \u001b[43m    \u001b[49m\u001b[43mn_jobs\u001b[49m\u001b[38;5;241;43m=\u001b[39;49m\u001b[43mn_jobs\u001b[49m\u001b[43m,\u001b[49m\n\u001b[0;32m    570\u001b[0m \u001b[43m    \u001b[49m\u001b[43mverbose\u001b[49m\u001b[38;5;241;43m=\u001b[39;49m\u001b[43mverbose\u001b[49m\u001b[43m,\u001b[49m\n\u001b[0;32m    571\u001b[0m \u001b[43m    \u001b[49m\u001b[43mfit_params\u001b[49m\u001b[38;5;241;43m=\u001b[39;49m\u001b[43mfit_params\u001b[49m\u001b[43m,\u001b[49m\n\u001b[0;32m    572\u001b[0m \u001b[43m    \u001b[49m\u001b[43mpre_dispatch\u001b[49m\u001b[38;5;241;43m=\u001b[39;49m\u001b[43mpre_dispatch\u001b[49m\u001b[43m,\u001b[49m\n\u001b[0;32m    573\u001b[0m \u001b[43m    \u001b[49m\u001b[43merror_score\u001b[49m\u001b[38;5;241;43m=\u001b[39;49m\u001b[43merror_score\u001b[49m\u001b[43m,\u001b[49m\n\u001b[0;32m    574\u001b[0m \u001b[43m\u001b[49m\u001b[43m)\u001b[49m\n\u001b[0;32m    575\u001b[0m \u001b[38;5;28;01mreturn\u001b[39;00m cv_results[\u001b[38;5;124m\"\u001b[39m\u001b[38;5;124mtest_score\u001b[39m\u001b[38;5;124m\"\u001b[39m]\n",
      "File \u001b[1;32m~\\AppData\\Local\\Packages\\PythonSoftwareFoundation.Python.3.11_qbz5n2kfra8p0\\LocalCache\\local-packages\\Python311\\site-packages\\sklearn\\utils\\_param_validation.py:211\u001b[0m, in \u001b[0;36mvalidate_params.<locals>.decorator.<locals>.wrapper\u001b[1;34m(*args, **kwargs)\u001b[0m\n\u001b[0;32m    205\u001b[0m \u001b[38;5;28;01mtry\u001b[39;00m:\n\u001b[0;32m    206\u001b[0m     \u001b[38;5;28;01mwith\u001b[39;00m config_context(\n\u001b[0;32m    207\u001b[0m         skip_parameter_validation\u001b[38;5;241m=\u001b[39m(\n\u001b[0;32m    208\u001b[0m             prefer_skip_nested_validation \u001b[38;5;129;01mor\u001b[39;00m global_skip_validation\n\u001b[0;32m    209\u001b[0m         )\n\u001b[0;32m    210\u001b[0m     ):\n\u001b[1;32m--> 211\u001b[0m         \u001b[38;5;28;01mreturn\u001b[39;00m \u001b[43mfunc\u001b[49m\u001b[43m(\u001b[49m\u001b[38;5;241;43m*\u001b[39;49m\u001b[43margs\u001b[49m\u001b[43m,\u001b[49m\u001b[43m \u001b[49m\u001b[38;5;241;43m*\u001b[39;49m\u001b[38;5;241;43m*\u001b[39;49m\u001b[43mkwargs\u001b[49m\u001b[43m)\u001b[49m\n\u001b[0;32m    212\u001b[0m \u001b[38;5;28;01mexcept\u001b[39;00m InvalidParameterError \u001b[38;5;28;01mas\u001b[39;00m e:\n\u001b[0;32m    213\u001b[0m     \u001b[38;5;66;03m# When the function is just a wrapper around an estimator, we allow\u001b[39;00m\n\u001b[0;32m    214\u001b[0m     \u001b[38;5;66;03m# the function to delegate validation to the estimator, but we replace\u001b[39;00m\n\u001b[0;32m    215\u001b[0m     \u001b[38;5;66;03m# the name of the estimator by the name of the function in the error\u001b[39;00m\n\u001b[0;32m    216\u001b[0m     \u001b[38;5;66;03m# message to avoid confusion.\u001b[39;00m\n\u001b[0;32m    217\u001b[0m     msg \u001b[38;5;241m=\u001b[39m re\u001b[38;5;241m.\u001b[39msub(\n\u001b[0;32m    218\u001b[0m         \u001b[38;5;124mr\u001b[39m\u001b[38;5;124m\"\u001b[39m\u001b[38;5;124mparameter of \u001b[39m\u001b[38;5;124m\\\u001b[39m\u001b[38;5;124mw+ must be\u001b[39m\u001b[38;5;124m\"\u001b[39m,\n\u001b[0;32m    219\u001b[0m         \u001b[38;5;124mf\u001b[39m\u001b[38;5;124m\"\u001b[39m\u001b[38;5;124mparameter of \u001b[39m\u001b[38;5;132;01m{\u001b[39;00mfunc\u001b[38;5;241m.\u001b[39m\u001b[38;5;18m__qualname__\u001b[39m\u001b[38;5;132;01m}\u001b[39;00m\u001b[38;5;124m must be\u001b[39m\u001b[38;5;124m\"\u001b[39m,\n\u001b[0;32m    220\u001b[0m         \u001b[38;5;28mstr\u001b[39m(e),\n\u001b[0;32m    221\u001b[0m     )\n",
      "File \u001b[1;32m~\\AppData\\Local\\Packages\\PythonSoftwareFoundation.Python.3.11_qbz5n2kfra8p0\\LocalCache\\local-packages\\Python311\\site-packages\\sklearn\\model_selection\\_validation.py:309\u001b[0m, in \u001b[0;36mcross_validate\u001b[1;34m(estimator, X, y, groups, scoring, cv, n_jobs, verbose, fit_params, pre_dispatch, return_train_score, return_estimator, return_indices, error_score)\u001b[0m\n\u001b[0;32m    306\u001b[0m \u001b[38;5;66;03m# We clone the estimator to make sure that all the folds are\u001b[39;00m\n\u001b[0;32m    307\u001b[0m \u001b[38;5;66;03m# independent, and that it is pickle-able.\u001b[39;00m\n\u001b[0;32m    308\u001b[0m parallel \u001b[38;5;241m=\u001b[39m Parallel(n_jobs\u001b[38;5;241m=\u001b[39mn_jobs, verbose\u001b[38;5;241m=\u001b[39mverbose, pre_dispatch\u001b[38;5;241m=\u001b[39mpre_dispatch)\n\u001b[1;32m--> 309\u001b[0m results \u001b[38;5;241m=\u001b[39m \u001b[43mparallel\u001b[49m\u001b[43m(\u001b[49m\n\u001b[0;32m    310\u001b[0m \u001b[43m    \u001b[49m\u001b[43mdelayed\u001b[49m\u001b[43m(\u001b[49m\u001b[43m_fit_and_score\u001b[49m\u001b[43m)\u001b[49m\u001b[43m(\u001b[49m\n\u001b[0;32m    311\u001b[0m \u001b[43m        \u001b[49m\u001b[43mclone\u001b[49m\u001b[43m(\u001b[49m\u001b[43mestimator\u001b[49m\u001b[43m)\u001b[49m\u001b[43m,\u001b[49m\n\u001b[0;32m    312\u001b[0m \u001b[43m        \u001b[49m\u001b[43mX\u001b[49m\u001b[43m,\u001b[49m\n\u001b[0;32m    313\u001b[0m \u001b[43m        \u001b[49m\u001b[43my\u001b[49m\u001b[43m,\u001b[49m\n\u001b[0;32m    314\u001b[0m \u001b[43m        \u001b[49m\u001b[43mscorers\u001b[49m\u001b[43m,\u001b[49m\n\u001b[0;32m    315\u001b[0m \u001b[43m        \u001b[49m\u001b[43mtrain\u001b[49m\u001b[43m,\u001b[49m\n\u001b[0;32m    316\u001b[0m \u001b[43m        \u001b[49m\u001b[43mtest\u001b[49m\u001b[43m,\u001b[49m\n\u001b[0;32m    317\u001b[0m \u001b[43m        \u001b[49m\u001b[43mverbose\u001b[49m\u001b[43m,\u001b[49m\n\u001b[0;32m    318\u001b[0m \u001b[43m        \u001b[49m\u001b[38;5;28;43;01mNone\u001b[39;49;00m\u001b[43m,\u001b[49m\n\u001b[0;32m    319\u001b[0m \u001b[43m        \u001b[49m\u001b[43mfit_params\u001b[49m\u001b[43m,\u001b[49m\n\u001b[0;32m    320\u001b[0m \u001b[43m        \u001b[49m\u001b[43mreturn_train_score\u001b[49m\u001b[38;5;241;43m=\u001b[39;49m\u001b[43mreturn_train_score\u001b[49m\u001b[43m,\u001b[49m\n\u001b[0;32m    321\u001b[0m \u001b[43m        \u001b[49m\u001b[43mreturn_times\u001b[49m\u001b[38;5;241;43m=\u001b[39;49m\u001b[38;5;28;43;01mTrue\u001b[39;49;00m\u001b[43m,\u001b[49m\n\u001b[0;32m    322\u001b[0m \u001b[43m        \u001b[49m\u001b[43mreturn_estimator\u001b[49m\u001b[38;5;241;43m=\u001b[39;49m\u001b[43mreturn_estimator\u001b[49m\u001b[43m,\u001b[49m\n\u001b[0;32m    323\u001b[0m \u001b[43m        \u001b[49m\u001b[43merror_score\u001b[49m\u001b[38;5;241;43m=\u001b[39;49m\u001b[43merror_score\u001b[49m\u001b[43m,\u001b[49m\n\u001b[0;32m    324\u001b[0m \u001b[43m    \u001b[49m\u001b[43m)\u001b[49m\n\u001b[0;32m    325\u001b[0m \u001b[43m    \u001b[49m\u001b[38;5;28;43;01mfor\u001b[39;49;00m\u001b[43m \u001b[49m\u001b[43mtrain\u001b[49m\u001b[43m,\u001b[49m\u001b[43m \u001b[49m\u001b[43mtest\u001b[49m\u001b[43m \u001b[49m\u001b[38;5;129;43;01min\u001b[39;49;00m\u001b[43m \u001b[49m\u001b[43mindices\u001b[49m\n\u001b[0;32m    326\u001b[0m \u001b[43m\u001b[49m\u001b[43m)\u001b[49m\n\u001b[0;32m    328\u001b[0m _warn_or_raise_about_fit_failures(results, error_score)\n\u001b[0;32m    330\u001b[0m \u001b[38;5;66;03m# For callable scoring, the return type is only know after calling. If the\u001b[39;00m\n\u001b[0;32m    331\u001b[0m \u001b[38;5;66;03m# return type is a dictionary, the error scores can now be inserted with\u001b[39;00m\n\u001b[0;32m    332\u001b[0m \u001b[38;5;66;03m# the correct key.\u001b[39;00m\n",
      "File \u001b[1;32m~\\AppData\\Local\\Packages\\PythonSoftwareFoundation.Python.3.11_qbz5n2kfra8p0\\LocalCache\\local-packages\\Python311\\site-packages\\sklearn\\utils\\parallel.py:65\u001b[0m, in \u001b[0;36mParallel.__call__\u001b[1;34m(self, iterable)\u001b[0m\n\u001b[0;32m     60\u001b[0m config \u001b[38;5;241m=\u001b[39m get_config()\n\u001b[0;32m     61\u001b[0m iterable_with_config \u001b[38;5;241m=\u001b[39m (\n\u001b[0;32m     62\u001b[0m     (_with_config(delayed_func, config), args, kwargs)\n\u001b[0;32m     63\u001b[0m     \u001b[38;5;28;01mfor\u001b[39;00m delayed_func, args, kwargs \u001b[38;5;129;01min\u001b[39;00m iterable\n\u001b[0;32m     64\u001b[0m )\n\u001b[1;32m---> 65\u001b[0m \u001b[38;5;28;01mreturn\u001b[39;00m \u001b[38;5;28;43msuper\u001b[39;49m\u001b[43m(\u001b[49m\u001b[43m)\u001b[49m\u001b[38;5;241;43m.\u001b[39;49m\u001b[38;5;21;43m__call__\u001b[39;49m\u001b[43m(\u001b[49m\u001b[43miterable_with_config\u001b[49m\u001b[43m)\u001b[49m\n",
      "File \u001b[1;32m~\\AppData\\Local\\Packages\\PythonSoftwareFoundation.Python.3.11_qbz5n2kfra8p0\\LocalCache\\local-packages\\Python311\\site-packages\\joblib\\parallel.py:1051\u001b[0m, in \u001b[0;36mParallel.__call__\u001b[1;34m(self, iterable)\u001b[0m\n\u001b[0;32m   1048\u001b[0m \u001b[38;5;28;01mif\u001b[39;00m \u001b[38;5;28mself\u001b[39m\u001b[38;5;241m.\u001b[39mdispatch_one_batch(iterator):\n\u001b[0;32m   1049\u001b[0m     \u001b[38;5;28mself\u001b[39m\u001b[38;5;241m.\u001b[39m_iterating \u001b[38;5;241m=\u001b[39m \u001b[38;5;28mself\u001b[39m\u001b[38;5;241m.\u001b[39m_original_iterator \u001b[38;5;129;01mis\u001b[39;00m \u001b[38;5;129;01mnot\u001b[39;00m \u001b[38;5;28;01mNone\u001b[39;00m\n\u001b[1;32m-> 1051\u001b[0m \u001b[38;5;28;01mwhile\u001b[39;00m \u001b[38;5;28;43mself\u001b[39;49m\u001b[38;5;241;43m.\u001b[39;49m\u001b[43mdispatch_one_batch\u001b[49m\u001b[43m(\u001b[49m\u001b[43miterator\u001b[49m\u001b[43m)\u001b[49m:\n\u001b[0;32m   1052\u001b[0m     \u001b[38;5;28;01mpass\u001b[39;00m\n\u001b[0;32m   1054\u001b[0m \u001b[38;5;28;01mif\u001b[39;00m pre_dispatch \u001b[38;5;241m==\u001b[39m \u001b[38;5;124m\"\u001b[39m\u001b[38;5;124mall\u001b[39m\u001b[38;5;124m\"\u001b[39m \u001b[38;5;129;01mor\u001b[39;00m n_jobs \u001b[38;5;241m==\u001b[39m \u001b[38;5;241m1\u001b[39m:\n\u001b[0;32m   1055\u001b[0m     \u001b[38;5;66;03m# The iterable was consumed all at once by the above for loop.\u001b[39;00m\n\u001b[0;32m   1056\u001b[0m     \u001b[38;5;66;03m# No need to wait for async callbacks to trigger to\u001b[39;00m\n\u001b[0;32m   1057\u001b[0m     \u001b[38;5;66;03m# consumption.\u001b[39;00m\n",
      "File \u001b[1;32m~\\AppData\\Local\\Packages\\PythonSoftwareFoundation.Python.3.11_qbz5n2kfra8p0\\LocalCache\\local-packages\\Python311\\site-packages\\joblib\\parallel.py:864\u001b[0m, in \u001b[0;36mParallel.dispatch_one_batch\u001b[1;34m(self, iterator)\u001b[0m\n\u001b[0;32m    862\u001b[0m     \u001b[38;5;28;01mreturn\u001b[39;00m \u001b[38;5;28;01mFalse\u001b[39;00m\n\u001b[0;32m    863\u001b[0m \u001b[38;5;28;01melse\u001b[39;00m:\n\u001b[1;32m--> 864\u001b[0m     \u001b[38;5;28;43mself\u001b[39;49m\u001b[38;5;241;43m.\u001b[39;49m\u001b[43m_dispatch\u001b[49m\u001b[43m(\u001b[49m\u001b[43mtasks\u001b[49m\u001b[43m)\u001b[49m\n\u001b[0;32m    865\u001b[0m     \u001b[38;5;28;01mreturn\u001b[39;00m \u001b[38;5;28;01mTrue\u001b[39;00m\n",
      "File \u001b[1;32m~\\AppData\\Local\\Packages\\PythonSoftwareFoundation.Python.3.11_qbz5n2kfra8p0\\LocalCache\\local-packages\\Python311\\site-packages\\joblib\\parallel.py:782\u001b[0m, in \u001b[0;36mParallel._dispatch\u001b[1;34m(self, batch)\u001b[0m\n\u001b[0;32m    780\u001b[0m \u001b[38;5;28;01mwith\u001b[39;00m \u001b[38;5;28mself\u001b[39m\u001b[38;5;241m.\u001b[39m_lock:\n\u001b[0;32m    781\u001b[0m     job_idx \u001b[38;5;241m=\u001b[39m \u001b[38;5;28mlen\u001b[39m(\u001b[38;5;28mself\u001b[39m\u001b[38;5;241m.\u001b[39m_jobs)\n\u001b[1;32m--> 782\u001b[0m     job \u001b[38;5;241m=\u001b[39m \u001b[38;5;28;43mself\u001b[39;49m\u001b[38;5;241;43m.\u001b[39;49m\u001b[43m_backend\u001b[49m\u001b[38;5;241;43m.\u001b[39;49m\u001b[43mapply_async\u001b[49m\u001b[43m(\u001b[49m\u001b[43mbatch\u001b[49m\u001b[43m,\u001b[49m\u001b[43m \u001b[49m\u001b[43mcallback\u001b[49m\u001b[38;5;241;43m=\u001b[39;49m\u001b[43mcb\u001b[49m\u001b[43m)\u001b[49m\n\u001b[0;32m    783\u001b[0m     \u001b[38;5;66;03m# A job can complete so quickly than its callback is\u001b[39;00m\n\u001b[0;32m    784\u001b[0m     \u001b[38;5;66;03m# called before we get here, causing self._jobs to\u001b[39;00m\n\u001b[0;32m    785\u001b[0m     \u001b[38;5;66;03m# grow. To ensure correct results ordering, .insert is\u001b[39;00m\n\u001b[0;32m    786\u001b[0m     \u001b[38;5;66;03m# used (rather than .append) in the following line\u001b[39;00m\n\u001b[0;32m    787\u001b[0m     \u001b[38;5;28mself\u001b[39m\u001b[38;5;241m.\u001b[39m_jobs\u001b[38;5;241m.\u001b[39minsert(job_idx, job)\n",
      "File \u001b[1;32m~\\AppData\\Local\\Packages\\PythonSoftwareFoundation.Python.3.11_qbz5n2kfra8p0\\LocalCache\\local-packages\\Python311\\site-packages\\joblib\\_parallel_backends.py:208\u001b[0m, in \u001b[0;36mSequentialBackend.apply_async\u001b[1;34m(self, func, callback)\u001b[0m\n\u001b[0;32m    206\u001b[0m \u001b[38;5;28;01mdef\u001b[39;00m \u001b[38;5;21mapply_async\u001b[39m(\u001b[38;5;28mself\u001b[39m, func, callback\u001b[38;5;241m=\u001b[39m\u001b[38;5;28;01mNone\u001b[39;00m):\n\u001b[0;32m    207\u001b[0m \u001b[38;5;250m    \u001b[39m\u001b[38;5;124;03m\"\"\"Schedule a func to be run\"\"\"\u001b[39;00m\n\u001b[1;32m--> 208\u001b[0m     result \u001b[38;5;241m=\u001b[39m \u001b[43mImmediateResult\u001b[49m\u001b[43m(\u001b[49m\u001b[43mfunc\u001b[49m\u001b[43m)\u001b[49m\n\u001b[0;32m    209\u001b[0m     \u001b[38;5;28;01mif\u001b[39;00m callback:\n\u001b[0;32m    210\u001b[0m         callback(result)\n",
      "File \u001b[1;32m~\\AppData\\Local\\Packages\\PythonSoftwareFoundation.Python.3.11_qbz5n2kfra8p0\\LocalCache\\local-packages\\Python311\\site-packages\\joblib\\_parallel_backends.py:572\u001b[0m, in \u001b[0;36mImmediateResult.__init__\u001b[1;34m(self, batch)\u001b[0m\n\u001b[0;32m    569\u001b[0m \u001b[38;5;28;01mdef\u001b[39;00m \u001b[38;5;21m__init__\u001b[39m(\u001b[38;5;28mself\u001b[39m, batch):\n\u001b[0;32m    570\u001b[0m     \u001b[38;5;66;03m# Don't delay the application, to avoid keeping the input\u001b[39;00m\n\u001b[0;32m    571\u001b[0m     \u001b[38;5;66;03m# arguments in memory\u001b[39;00m\n\u001b[1;32m--> 572\u001b[0m     \u001b[38;5;28mself\u001b[39m\u001b[38;5;241m.\u001b[39mresults \u001b[38;5;241m=\u001b[39m \u001b[43mbatch\u001b[49m\u001b[43m(\u001b[49m\u001b[43m)\u001b[49m\n",
      "File \u001b[1;32m~\\AppData\\Local\\Packages\\PythonSoftwareFoundation.Python.3.11_qbz5n2kfra8p0\\LocalCache\\local-packages\\Python311\\site-packages\\joblib\\parallel.py:263\u001b[0m, in \u001b[0;36mBatchedCalls.__call__\u001b[1;34m(self)\u001b[0m\n\u001b[0;32m    259\u001b[0m \u001b[38;5;28;01mdef\u001b[39;00m \u001b[38;5;21m__call__\u001b[39m(\u001b[38;5;28mself\u001b[39m):\n\u001b[0;32m    260\u001b[0m     \u001b[38;5;66;03m# Set the default nested backend to self._backend but do not set the\u001b[39;00m\n\u001b[0;32m    261\u001b[0m     \u001b[38;5;66;03m# change the default number of processes to -1\u001b[39;00m\n\u001b[0;32m    262\u001b[0m     \u001b[38;5;28;01mwith\u001b[39;00m parallel_backend(\u001b[38;5;28mself\u001b[39m\u001b[38;5;241m.\u001b[39m_backend, n_jobs\u001b[38;5;241m=\u001b[39m\u001b[38;5;28mself\u001b[39m\u001b[38;5;241m.\u001b[39m_n_jobs):\n\u001b[1;32m--> 263\u001b[0m         \u001b[38;5;28;01mreturn\u001b[39;00m \u001b[43m[\u001b[49m\u001b[43mfunc\u001b[49m\u001b[43m(\u001b[49m\u001b[38;5;241;43m*\u001b[39;49m\u001b[43margs\u001b[49m\u001b[43m,\u001b[49m\u001b[43m \u001b[49m\u001b[38;5;241;43m*\u001b[39;49m\u001b[38;5;241;43m*\u001b[39;49m\u001b[43mkwargs\u001b[49m\u001b[43m)\u001b[49m\n\u001b[0;32m    264\u001b[0m \u001b[43m                \u001b[49m\u001b[38;5;28;43;01mfor\u001b[39;49;00m\u001b[43m \u001b[49m\u001b[43mfunc\u001b[49m\u001b[43m,\u001b[49m\u001b[43m \u001b[49m\u001b[43margs\u001b[49m\u001b[43m,\u001b[49m\u001b[43m \u001b[49m\u001b[43mkwargs\u001b[49m\u001b[43m \u001b[49m\u001b[38;5;129;43;01min\u001b[39;49;00m\u001b[43m \u001b[49m\u001b[38;5;28;43mself\u001b[39;49m\u001b[38;5;241;43m.\u001b[39;49m\u001b[43mitems\u001b[49m\u001b[43m]\u001b[49m\n",
      "File \u001b[1;32m~\\AppData\\Local\\Packages\\PythonSoftwareFoundation.Python.3.11_qbz5n2kfra8p0\\LocalCache\\local-packages\\Python311\\site-packages\\joblib\\parallel.py:263\u001b[0m, in \u001b[0;36m<listcomp>\u001b[1;34m(.0)\u001b[0m\n\u001b[0;32m    259\u001b[0m \u001b[38;5;28;01mdef\u001b[39;00m \u001b[38;5;21m__call__\u001b[39m(\u001b[38;5;28mself\u001b[39m):\n\u001b[0;32m    260\u001b[0m     \u001b[38;5;66;03m# Set the default nested backend to self._backend but do not set the\u001b[39;00m\n\u001b[0;32m    261\u001b[0m     \u001b[38;5;66;03m# change the default number of processes to -1\u001b[39;00m\n\u001b[0;32m    262\u001b[0m     \u001b[38;5;28;01mwith\u001b[39;00m parallel_backend(\u001b[38;5;28mself\u001b[39m\u001b[38;5;241m.\u001b[39m_backend, n_jobs\u001b[38;5;241m=\u001b[39m\u001b[38;5;28mself\u001b[39m\u001b[38;5;241m.\u001b[39m_n_jobs):\n\u001b[1;32m--> 263\u001b[0m         \u001b[38;5;28;01mreturn\u001b[39;00m [\u001b[43mfunc\u001b[49m\u001b[43m(\u001b[49m\u001b[38;5;241;43m*\u001b[39;49m\u001b[43margs\u001b[49m\u001b[43m,\u001b[49m\u001b[43m \u001b[49m\u001b[38;5;241;43m*\u001b[39;49m\u001b[38;5;241;43m*\u001b[39;49m\u001b[43mkwargs\u001b[49m\u001b[43m)\u001b[49m\n\u001b[0;32m    264\u001b[0m                 \u001b[38;5;28;01mfor\u001b[39;00m func, args, kwargs \u001b[38;5;129;01min\u001b[39;00m \u001b[38;5;28mself\u001b[39m\u001b[38;5;241m.\u001b[39mitems]\n",
      "File \u001b[1;32m~\\AppData\\Local\\Packages\\PythonSoftwareFoundation.Python.3.11_qbz5n2kfra8p0\\LocalCache\\local-packages\\Python311\\site-packages\\sklearn\\utils\\parallel.py:127\u001b[0m, in \u001b[0;36m_FuncWrapper.__call__\u001b[1;34m(self, *args, **kwargs)\u001b[0m\n\u001b[0;32m    125\u001b[0m     config \u001b[38;5;241m=\u001b[39m {}\n\u001b[0;32m    126\u001b[0m \u001b[38;5;28;01mwith\u001b[39;00m config_context(\u001b[38;5;241m*\u001b[39m\u001b[38;5;241m*\u001b[39mconfig):\n\u001b[1;32m--> 127\u001b[0m     \u001b[38;5;28;01mreturn\u001b[39;00m \u001b[38;5;28;43mself\u001b[39;49m\u001b[38;5;241;43m.\u001b[39;49m\u001b[43mfunction\u001b[49m\u001b[43m(\u001b[49m\u001b[38;5;241;43m*\u001b[39;49m\u001b[43margs\u001b[49m\u001b[43m,\u001b[49m\u001b[43m \u001b[49m\u001b[38;5;241;43m*\u001b[39;49m\u001b[38;5;241;43m*\u001b[39;49m\u001b[43mkwargs\u001b[49m\u001b[43m)\u001b[49m\n",
      "File \u001b[1;32m~\\AppData\\Local\\Packages\\PythonSoftwareFoundation.Python.3.11_qbz5n2kfra8p0\\LocalCache\\local-packages\\Python311\\site-packages\\sklearn\\model_selection\\_validation.py:732\u001b[0m, in \u001b[0;36m_fit_and_score\u001b[1;34m(estimator, X, y, scorer, train, test, verbose, parameters, fit_params, return_train_score, return_parameters, return_n_test_samples, return_times, return_estimator, split_progress, candidate_progress, error_score)\u001b[0m\n\u001b[0;32m    730\u001b[0m         estimator\u001b[38;5;241m.\u001b[39mfit(X_train, \u001b[38;5;241m*\u001b[39m\u001b[38;5;241m*\u001b[39mfit_params)\n\u001b[0;32m    731\u001b[0m     \u001b[38;5;28;01melse\u001b[39;00m:\n\u001b[1;32m--> 732\u001b[0m         \u001b[43mestimator\u001b[49m\u001b[38;5;241;43m.\u001b[39;49m\u001b[43mfit\u001b[49m\u001b[43m(\u001b[49m\u001b[43mX_train\u001b[49m\u001b[43m,\u001b[49m\u001b[43m \u001b[49m\u001b[43my_train\u001b[49m\u001b[43m,\u001b[49m\u001b[43m \u001b[49m\u001b[38;5;241;43m*\u001b[39;49m\u001b[38;5;241;43m*\u001b[39;49m\u001b[43mfit_params\u001b[49m\u001b[43m)\u001b[49m\n\u001b[0;32m    734\u001b[0m \u001b[38;5;28;01mexcept\u001b[39;00m \u001b[38;5;167;01mException\u001b[39;00m:\n\u001b[0;32m    735\u001b[0m     \u001b[38;5;66;03m# Note fit time as time until error\u001b[39;00m\n\u001b[0;32m    736\u001b[0m     fit_time \u001b[38;5;241m=\u001b[39m time\u001b[38;5;241m.\u001b[39mtime() \u001b[38;5;241m-\u001b[39m start_time\n",
      "File \u001b[1;32m~\\AppData\\Local\\Packages\\PythonSoftwareFoundation.Python.3.11_qbz5n2kfra8p0\\LocalCache\\local-packages\\Python311\\site-packages\\sklearn\\base.py:1151\u001b[0m, in \u001b[0;36m_fit_context.<locals>.decorator.<locals>.wrapper\u001b[1;34m(estimator, *args, **kwargs)\u001b[0m\n\u001b[0;32m   1144\u001b[0m     estimator\u001b[38;5;241m.\u001b[39m_validate_params()\n\u001b[0;32m   1146\u001b[0m \u001b[38;5;28;01mwith\u001b[39;00m config_context(\n\u001b[0;32m   1147\u001b[0m     skip_parameter_validation\u001b[38;5;241m=\u001b[39m(\n\u001b[0;32m   1148\u001b[0m         prefer_skip_nested_validation \u001b[38;5;129;01mor\u001b[39;00m global_skip_validation\n\u001b[0;32m   1149\u001b[0m     )\n\u001b[0;32m   1150\u001b[0m ):\n\u001b[1;32m-> 1151\u001b[0m     \u001b[38;5;28;01mreturn\u001b[39;00m \u001b[43mfit_method\u001b[49m\u001b[43m(\u001b[49m\u001b[43mestimator\u001b[49m\u001b[43m,\u001b[49m\u001b[43m \u001b[49m\u001b[38;5;241;43m*\u001b[39;49m\u001b[43margs\u001b[49m\u001b[43m,\u001b[49m\u001b[43m \u001b[49m\u001b[38;5;241;43m*\u001b[39;49m\u001b[38;5;241;43m*\u001b[39;49m\u001b[43mkwargs\u001b[49m\u001b[43m)\u001b[49m\n",
      "File \u001b[1;32m~\\AppData\\Local\\Packages\\PythonSoftwareFoundation.Python.3.11_qbz5n2kfra8p0\\LocalCache\\local-packages\\Python311\\site-packages\\sklearn\\pipeline.py:420\u001b[0m, in \u001b[0;36mPipeline.fit\u001b[1;34m(self, X, y, **fit_params)\u001b[0m\n\u001b[0;32m    418\u001b[0m     \u001b[38;5;28;01mif\u001b[39;00m \u001b[38;5;28mself\u001b[39m\u001b[38;5;241m.\u001b[39m_final_estimator \u001b[38;5;241m!=\u001b[39m \u001b[38;5;124m\"\u001b[39m\u001b[38;5;124mpassthrough\u001b[39m\u001b[38;5;124m\"\u001b[39m:\n\u001b[0;32m    419\u001b[0m         fit_params_last_step \u001b[38;5;241m=\u001b[39m fit_params_steps[\u001b[38;5;28mself\u001b[39m\u001b[38;5;241m.\u001b[39msteps[\u001b[38;5;241m-\u001b[39m\u001b[38;5;241m1\u001b[39m][\u001b[38;5;241m0\u001b[39m]]\n\u001b[1;32m--> 420\u001b[0m         \u001b[38;5;28;43mself\u001b[39;49m\u001b[38;5;241;43m.\u001b[39;49m\u001b[43m_final_estimator\u001b[49m\u001b[38;5;241;43m.\u001b[39;49m\u001b[43mfit\u001b[49m\u001b[43m(\u001b[49m\u001b[43mXt\u001b[49m\u001b[43m,\u001b[49m\u001b[43m \u001b[49m\u001b[43my\u001b[49m\u001b[43m,\u001b[49m\u001b[43m \u001b[49m\u001b[38;5;241;43m*\u001b[39;49m\u001b[38;5;241;43m*\u001b[39;49m\u001b[43mfit_params_last_step\u001b[49m\u001b[43m)\u001b[49m\n\u001b[0;32m    422\u001b[0m \u001b[38;5;28;01mreturn\u001b[39;00m \u001b[38;5;28mself\u001b[39m\n",
      "File \u001b[1;32m~\\AppData\\Local\\Packages\\PythonSoftwareFoundation.Python.3.11_qbz5n2kfra8p0\\LocalCache\\local-packages\\Python311\\site-packages\\sklearn\\base.py:1151\u001b[0m, in \u001b[0;36m_fit_context.<locals>.decorator.<locals>.wrapper\u001b[1;34m(estimator, *args, **kwargs)\u001b[0m\n\u001b[0;32m   1144\u001b[0m     estimator\u001b[38;5;241m.\u001b[39m_validate_params()\n\u001b[0;32m   1146\u001b[0m \u001b[38;5;28;01mwith\u001b[39;00m config_context(\n\u001b[0;32m   1147\u001b[0m     skip_parameter_validation\u001b[38;5;241m=\u001b[39m(\n\u001b[0;32m   1148\u001b[0m         prefer_skip_nested_validation \u001b[38;5;129;01mor\u001b[39;00m global_skip_validation\n\u001b[0;32m   1149\u001b[0m     )\n\u001b[0;32m   1150\u001b[0m ):\n\u001b[1;32m-> 1151\u001b[0m     \u001b[38;5;28;01mreturn\u001b[39;00m \u001b[43mfit_method\u001b[49m\u001b[43m(\u001b[49m\u001b[43mestimator\u001b[49m\u001b[43m,\u001b[49m\u001b[43m \u001b[49m\u001b[38;5;241;43m*\u001b[39;49m\u001b[43margs\u001b[49m\u001b[43m,\u001b[49m\u001b[43m \u001b[49m\u001b[38;5;241;43m*\u001b[39;49m\u001b[38;5;241;43m*\u001b[39;49m\u001b[43mkwargs\u001b[49m\u001b[43m)\u001b[49m\n",
      "File \u001b[1;32m~\\AppData\\Local\\Packages\\PythonSoftwareFoundation.Python.3.11_qbz5n2kfra8p0\\LocalCache\\local-packages\\Python311\\site-packages\\sklearn\\ensemble\\_forest.py:456\u001b[0m, in \u001b[0;36mBaseForest.fit\u001b[1;34m(self, X, y, sample_weight)\u001b[0m\n\u001b[0;32m    445\u001b[0m trees \u001b[38;5;241m=\u001b[39m [\n\u001b[0;32m    446\u001b[0m     \u001b[38;5;28mself\u001b[39m\u001b[38;5;241m.\u001b[39m_make_estimator(append\u001b[38;5;241m=\u001b[39m\u001b[38;5;28;01mFalse\u001b[39;00m, random_state\u001b[38;5;241m=\u001b[39mrandom_state)\n\u001b[0;32m    447\u001b[0m     \u001b[38;5;28;01mfor\u001b[39;00m i \u001b[38;5;129;01min\u001b[39;00m \u001b[38;5;28mrange\u001b[39m(n_more_estimators)\n\u001b[0;32m    448\u001b[0m ]\n\u001b[0;32m    450\u001b[0m \u001b[38;5;66;03m# Parallel loop: we prefer the threading backend as the Cython code\u001b[39;00m\n\u001b[0;32m    451\u001b[0m \u001b[38;5;66;03m# for fitting the trees is internally releasing the Python GIL\u001b[39;00m\n\u001b[0;32m    452\u001b[0m \u001b[38;5;66;03m# making threading more efficient than multiprocessing in\u001b[39;00m\n\u001b[0;32m    453\u001b[0m \u001b[38;5;66;03m# that case. However, for joblib 0.12+ we respect any\u001b[39;00m\n\u001b[0;32m    454\u001b[0m \u001b[38;5;66;03m# parallel_backend contexts set at a higher level,\u001b[39;00m\n\u001b[0;32m    455\u001b[0m \u001b[38;5;66;03m# since correctness does not rely on using threads.\u001b[39;00m\n\u001b[1;32m--> 456\u001b[0m trees \u001b[38;5;241m=\u001b[39m \u001b[43mParallel\u001b[49m\u001b[43m(\u001b[49m\n\u001b[0;32m    457\u001b[0m \u001b[43m    \u001b[49m\u001b[43mn_jobs\u001b[49m\u001b[38;5;241;43m=\u001b[39;49m\u001b[38;5;28;43mself\u001b[39;49m\u001b[38;5;241;43m.\u001b[39;49m\u001b[43mn_jobs\u001b[49m\u001b[43m,\u001b[49m\n\u001b[0;32m    458\u001b[0m \u001b[43m    \u001b[49m\u001b[43mverbose\u001b[49m\u001b[38;5;241;43m=\u001b[39;49m\u001b[38;5;28;43mself\u001b[39;49m\u001b[38;5;241;43m.\u001b[39;49m\u001b[43mverbose\u001b[49m\u001b[43m,\u001b[49m\n\u001b[0;32m    459\u001b[0m \u001b[43m    \u001b[49m\u001b[43mprefer\u001b[49m\u001b[38;5;241;43m=\u001b[39;49m\u001b[38;5;124;43m\"\u001b[39;49m\u001b[38;5;124;43mthreads\u001b[39;49m\u001b[38;5;124;43m\"\u001b[39;49m\u001b[43m,\u001b[49m\n\u001b[0;32m    460\u001b[0m \u001b[43m\u001b[49m\u001b[43m)\u001b[49m\u001b[43m(\u001b[49m\n\u001b[0;32m    461\u001b[0m \u001b[43m    \u001b[49m\u001b[43mdelayed\u001b[49m\u001b[43m(\u001b[49m\u001b[43m_parallel_build_trees\u001b[49m\u001b[43m)\u001b[49m\u001b[43m(\u001b[49m\n\u001b[0;32m    462\u001b[0m \u001b[43m        \u001b[49m\u001b[43mt\u001b[49m\u001b[43m,\u001b[49m\n\u001b[0;32m    463\u001b[0m \u001b[43m        \u001b[49m\u001b[38;5;28;43mself\u001b[39;49m\u001b[38;5;241;43m.\u001b[39;49m\u001b[43mbootstrap\u001b[49m\u001b[43m,\u001b[49m\n\u001b[0;32m    464\u001b[0m \u001b[43m        \u001b[49m\u001b[43mX\u001b[49m\u001b[43m,\u001b[49m\n\u001b[0;32m    465\u001b[0m \u001b[43m        \u001b[49m\u001b[43my\u001b[49m\u001b[43m,\u001b[49m\n\u001b[0;32m    466\u001b[0m \u001b[43m        \u001b[49m\u001b[43msample_weight\u001b[49m\u001b[43m,\u001b[49m\n\u001b[0;32m    467\u001b[0m \u001b[43m        \u001b[49m\u001b[43mi\u001b[49m\u001b[43m,\u001b[49m\n\u001b[0;32m    468\u001b[0m \u001b[43m        \u001b[49m\u001b[38;5;28;43mlen\u001b[39;49m\u001b[43m(\u001b[49m\u001b[43mtrees\u001b[49m\u001b[43m)\u001b[49m\u001b[43m,\u001b[49m\n\u001b[0;32m    469\u001b[0m \u001b[43m        \u001b[49m\u001b[43mverbose\u001b[49m\u001b[38;5;241;43m=\u001b[39;49m\u001b[38;5;28;43mself\u001b[39;49m\u001b[38;5;241;43m.\u001b[39;49m\u001b[43mverbose\u001b[49m\u001b[43m,\u001b[49m\n\u001b[0;32m    470\u001b[0m \u001b[43m        \u001b[49m\u001b[43mclass_weight\u001b[49m\u001b[38;5;241;43m=\u001b[39;49m\u001b[38;5;28;43mself\u001b[39;49m\u001b[38;5;241;43m.\u001b[39;49m\u001b[43mclass_weight\u001b[49m\u001b[43m,\u001b[49m\n\u001b[0;32m    471\u001b[0m \u001b[43m        \u001b[49m\u001b[43mn_samples_bootstrap\u001b[49m\u001b[38;5;241;43m=\u001b[39;49m\u001b[43mn_samples_bootstrap\u001b[49m\u001b[43m,\u001b[49m\n\u001b[0;32m    472\u001b[0m \u001b[43m    \u001b[49m\u001b[43m)\u001b[49m\n\u001b[0;32m    473\u001b[0m \u001b[43m    \u001b[49m\u001b[38;5;28;43;01mfor\u001b[39;49;00m\u001b[43m \u001b[49m\u001b[43mi\u001b[49m\u001b[43m,\u001b[49m\u001b[43m \u001b[49m\u001b[43mt\u001b[49m\u001b[43m \u001b[49m\u001b[38;5;129;43;01min\u001b[39;49;00m\u001b[43m \u001b[49m\u001b[38;5;28;43menumerate\u001b[39;49m\u001b[43m(\u001b[49m\u001b[43mtrees\u001b[49m\u001b[43m)\u001b[49m\n\u001b[0;32m    474\u001b[0m \u001b[43m\u001b[49m\u001b[43m)\u001b[49m\n\u001b[0;32m    476\u001b[0m \u001b[38;5;66;03m# Collect newly grown trees\u001b[39;00m\n\u001b[0;32m    477\u001b[0m \u001b[38;5;28mself\u001b[39m\u001b[38;5;241m.\u001b[39mestimators_\u001b[38;5;241m.\u001b[39mextend(trees)\n",
      "File \u001b[1;32m~\\AppData\\Local\\Packages\\PythonSoftwareFoundation.Python.3.11_qbz5n2kfra8p0\\LocalCache\\local-packages\\Python311\\site-packages\\sklearn\\utils\\parallel.py:65\u001b[0m, in \u001b[0;36mParallel.__call__\u001b[1;34m(self, iterable)\u001b[0m\n\u001b[0;32m     60\u001b[0m config \u001b[38;5;241m=\u001b[39m get_config()\n\u001b[0;32m     61\u001b[0m iterable_with_config \u001b[38;5;241m=\u001b[39m (\n\u001b[0;32m     62\u001b[0m     (_with_config(delayed_func, config), args, kwargs)\n\u001b[0;32m     63\u001b[0m     \u001b[38;5;28;01mfor\u001b[39;00m delayed_func, args, kwargs \u001b[38;5;129;01min\u001b[39;00m iterable\n\u001b[0;32m     64\u001b[0m )\n\u001b[1;32m---> 65\u001b[0m \u001b[38;5;28;01mreturn\u001b[39;00m \u001b[38;5;28;43msuper\u001b[39;49m\u001b[43m(\u001b[49m\u001b[43m)\u001b[49m\u001b[38;5;241;43m.\u001b[39;49m\u001b[38;5;21;43m__call__\u001b[39;49m\u001b[43m(\u001b[49m\u001b[43miterable_with_config\u001b[49m\u001b[43m)\u001b[49m\n",
      "File \u001b[1;32m~\\AppData\\Local\\Packages\\PythonSoftwareFoundation.Python.3.11_qbz5n2kfra8p0\\LocalCache\\local-packages\\Python311\\site-packages\\joblib\\parallel.py:1051\u001b[0m, in \u001b[0;36mParallel.__call__\u001b[1;34m(self, iterable)\u001b[0m\n\u001b[0;32m   1048\u001b[0m \u001b[38;5;28;01mif\u001b[39;00m \u001b[38;5;28mself\u001b[39m\u001b[38;5;241m.\u001b[39mdispatch_one_batch(iterator):\n\u001b[0;32m   1049\u001b[0m     \u001b[38;5;28mself\u001b[39m\u001b[38;5;241m.\u001b[39m_iterating \u001b[38;5;241m=\u001b[39m \u001b[38;5;28mself\u001b[39m\u001b[38;5;241m.\u001b[39m_original_iterator \u001b[38;5;129;01mis\u001b[39;00m \u001b[38;5;129;01mnot\u001b[39;00m \u001b[38;5;28;01mNone\u001b[39;00m\n\u001b[1;32m-> 1051\u001b[0m \u001b[38;5;28;01mwhile\u001b[39;00m \u001b[38;5;28;43mself\u001b[39;49m\u001b[38;5;241;43m.\u001b[39;49m\u001b[43mdispatch_one_batch\u001b[49m\u001b[43m(\u001b[49m\u001b[43miterator\u001b[49m\u001b[43m)\u001b[49m:\n\u001b[0;32m   1052\u001b[0m     \u001b[38;5;28;01mpass\u001b[39;00m\n\u001b[0;32m   1054\u001b[0m \u001b[38;5;28;01mif\u001b[39;00m pre_dispatch \u001b[38;5;241m==\u001b[39m \u001b[38;5;124m\"\u001b[39m\u001b[38;5;124mall\u001b[39m\u001b[38;5;124m\"\u001b[39m \u001b[38;5;129;01mor\u001b[39;00m n_jobs \u001b[38;5;241m==\u001b[39m \u001b[38;5;241m1\u001b[39m:\n\u001b[0;32m   1055\u001b[0m     \u001b[38;5;66;03m# The iterable was consumed all at once by the above for loop.\u001b[39;00m\n\u001b[0;32m   1056\u001b[0m     \u001b[38;5;66;03m# No need to wait for async callbacks to trigger to\u001b[39;00m\n\u001b[0;32m   1057\u001b[0m     \u001b[38;5;66;03m# consumption.\u001b[39;00m\n",
      "File \u001b[1;32m~\\AppData\\Local\\Packages\\PythonSoftwareFoundation.Python.3.11_qbz5n2kfra8p0\\LocalCache\\local-packages\\Python311\\site-packages\\joblib\\parallel.py:864\u001b[0m, in \u001b[0;36mParallel.dispatch_one_batch\u001b[1;34m(self, iterator)\u001b[0m\n\u001b[0;32m    862\u001b[0m     \u001b[38;5;28;01mreturn\u001b[39;00m \u001b[38;5;28;01mFalse\u001b[39;00m\n\u001b[0;32m    863\u001b[0m \u001b[38;5;28;01melse\u001b[39;00m:\n\u001b[1;32m--> 864\u001b[0m     \u001b[38;5;28;43mself\u001b[39;49m\u001b[38;5;241;43m.\u001b[39;49m\u001b[43m_dispatch\u001b[49m\u001b[43m(\u001b[49m\u001b[43mtasks\u001b[49m\u001b[43m)\u001b[49m\n\u001b[0;32m    865\u001b[0m     \u001b[38;5;28;01mreturn\u001b[39;00m \u001b[38;5;28;01mTrue\u001b[39;00m\n",
      "File \u001b[1;32m~\\AppData\\Local\\Packages\\PythonSoftwareFoundation.Python.3.11_qbz5n2kfra8p0\\LocalCache\\local-packages\\Python311\\site-packages\\joblib\\parallel.py:782\u001b[0m, in \u001b[0;36mParallel._dispatch\u001b[1;34m(self, batch)\u001b[0m\n\u001b[0;32m    780\u001b[0m \u001b[38;5;28;01mwith\u001b[39;00m \u001b[38;5;28mself\u001b[39m\u001b[38;5;241m.\u001b[39m_lock:\n\u001b[0;32m    781\u001b[0m     job_idx \u001b[38;5;241m=\u001b[39m \u001b[38;5;28mlen\u001b[39m(\u001b[38;5;28mself\u001b[39m\u001b[38;5;241m.\u001b[39m_jobs)\n\u001b[1;32m--> 782\u001b[0m     job \u001b[38;5;241m=\u001b[39m \u001b[38;5;28;43mself\u001b[39;49m\u001b[38;5;241;43m.\u001b[39;49m\u001b[43m_backend\u001b[49m\u001b[38;5;241;43m.\u001b[39;49m\u001b[43mapply_async\u001b[49m\u001b[43m(\u001b[49m\u001b[43mbatch\u001b[49m\u001b[43m,\u001b[49m\u001b[43m \u001b[49m\u001b[43mcallback\u001b[49m\u001b[38;5;241;43m=\u001b[39;49m\u001b[43mcb\u001b[49m\u001b[43m)\u001b[49m\n\u001b[0;32m    783\u001b[0m     \u001b[38;5;66;03m# A job can complete so quickly than its callback is\u001b[39;00m\n\u001b[0;32m    784\u001b[0m     \u001b[38;5;66;03m# called before we get here, causing self._jobs to\u001b[39;00m\n\u001b[0;32m    785\u001b[0m     \u001b[38;5;66;03m# grow. To ensure correct results ordering, .insert is\u001b[39;00m\n\u001b[0;32m    786\u001b[0m     \u001b[38;5;66;03m# used (rather than .append) in the following line\u001b[39;00m\n\u001b[0;32m    787\u001b[0m     \u001b[38;5;28mself\u001b[39m\u001b[38;5;241m.\u001b[39m_jobs\u001b[38;5;241m.\u001b[39minsert(job_idx, job)\n",
      "File \u001b[1;32m~\\AppData\\Local\\Packages\\PythonSoftwareFoundation.Python.3.11_qbz5n2kfra8p0\\LocalCache\\local-packages\\Python311\\site-packages\\joblib\\_parallel_backends.py:208\u001b[0m, in \u001b[0;36mSequentialBackend.apply_async\u001b[1;34m(self, func, callback)\u001b[0m\n\u001b[0;32m    206\u001b[0m \u001b[38;5;28;01mdef\u001b[39;00m \u001b[38;5;21mapply_async\u001b[39m(\u001b[38;5;28mself\u001b[39m, func, callback\u001b[38;5;241m=\u001b[39m\u001b[38;5;28;01mNone\u001b[39;00m):\n\u001b[0;32m    207\u001b[0m \u001b[38;5;250m    \u001b[39m\u001b[38;5;124;03m\"\"\"Schedule a func to be run\"\"\"\u001b[39;00m\n\u001b[1;32m--> 208\u001b[0m     result \u001b[38;5;241m=\u001b[39m \u001b[43mImmediateResult\u001b[49m\u001b[43m(\u001b[49m\u001b[43mfunc\u001b[49m\u001b[43m)\u001b[49m\n\u001b[0;32m    209\u001b[0m     \u001b[38;5;28;01mif\u001b[39;00m callback:\n\u001b[0;32m    210\u001b[0m         callback(result)\n",
      "File \u001b[1;32m~\\AppData\\Local\\Packages\\PythonSoftwareFoundation.Python.3.11_qbz5n2kfra8p0\\LocalCache\\local-packages\\Python311\\site-packages\\joblib\\_parallel_backends.py:572\u001b[0m, in \u001b[0;36mImmediateResult.__init__\u001b[1;34m(self, batch)\u001b[0m\n\u001b[0;32m    569\u001b[0m \u001b[38;5;28;01mdef\u001b[39;00m \u001b[38;5;21m__init__\u001b[39m(\u001b[38;5;28mself\u001b[39m, batch):\n\u001b[0;32m    570\u001b[0m     \u001b[38;5;66;03m# Don't delay the application, to avoid keeping the input\u001b[39;00m\n\u001b[0;32m    571\u001b[0m     \u001b[38;5;66;03m# arguments in memory\u001b[39;00m\n\u001b[1;32m--> 572\u001b[0m     \u001b[38;5;28mself\u001b[39m\u001b[38;5;241m.\u001b[39mresults \u001b[38;5;241m=\u001b[39m \u001b[43mbatch\u001b[49m\u001b[43m(\u001b[49m\u001b[43m)\u001b[49m\n",
      "File \u001b[1;32m~\\AppData\\Local\\Packages\\PythonSoftwareFoundation.Python.3.11_qbz5n2kfra8p0\\LocalCache\\local-packages\\Python311\\site-packages\\joblib\\parallel.py:263\u001b[0m, in \u001b[0;36mBatchedCalls.__call__\u001b[1;34m(self)\u001b[0m\n\u001b[0;32m    259\u001b[0m \u001b[38;5;28;01mdef\u001b[39;00m \u001b[38;5;21m__call__\u001b[39m(\u001b[38;5;28mself\u001b[39m):\n\u001b[0;32m    260\u001b[0m     \u001b[38;5;66;03m# Set the default nested backend to self._backend but do not set the\u001b[39;00m\n\u001b[0;32m    261\u001b[0m     \u001b[38;5;66;03m# change the default number of processes to -1\u001b[39;00m\n\u001b[0;32m    262\u001b[0m     \u001b[38;5;28;01mwith\u001b[39;00m parallel_backend(\u001b[38;5;28mself\u001b[39m\u001b[38;5;241m.\u001b[39m_backend, n_jobs\u001b[38;5;241m=\u001b[39m\u001b[38;5;28mself\u001b[39m\u001b[38;5;241m.\u001b[39m_n_jobs):\n\u001b[1;32m--> 263\u001b[0m         \u001b[38;5;28;01mreturn\u001b[39;00m \u001b[43m[\u001b[49m\u001b[43mfunc\u001b[49m\u001b[43m(\u001b[49m\u001b[38;5;241;43m*\u001b[39;49m\u001b[43margs\u001b[49m\u001b[43m,\u001b[49m\u001b[43m \u001b[49m\u001b[38;5;241;43m*\u001b[39;49m\u001b[38;5;241;43m*\u001b[39;49m\u001b[43mkwargs\u001b[49m\u001b[43m)\u001b[49m\n\u001b[0;32m    264\u001b[0m \u001b[43m                \u001b[49m\u001b[38;5;28;43;01mfor\u001b[39;49;00m\u001b[43m \u001b[49m\u001b[43mfunc\u001b[49m\u001b[43m,\u001b[49m\u001b[43m \u001b[49m\u001b[43margs\u001b[49m\u001b[43m,\u001b[49m\u001b[43m \u001b[49m\u001b[43mkwargs\u001b[49m\u001b[43m \u001b[49m\u001b[38;5;129;43;01min\u001b[39;49;00m\u001b[43m \u001b[49m\u001b[38;5;28;43mself\u001b[39;49m\u001b[38;5;241;43m.\u001b[39;49m\u001b[43mitems\u001b[49m\u001b[43m]\u001b[49m\n",
      "File \u001b[1;32m~\\AppData\\Local\\Packages\\PythonSoftwareFoundation.Python.3.11_qbz5n2kfra8p0\\LocalCache\\local-packages\\Python311\\site-packages\\joblib\\parallel.py:263\u001b[0m, in \u001b[0;36m<listcomp>\u001b[1;34m(.0)\u001b[0m\n\u001b[0;32m    259\u001b[0m \u001b[38;5;28;01mdef\u001b[39;00m \u001b[38;5;21m__call__\u001b[39m(\u001b[38;5;28mself\u001b[39m):\n\u001b[0;32m    260\u001b[0m     \u001b[38;5;66;03m# Set the default nested backend to self._backend but do not set the\u001b[39;00m\n\u001b[0;32m    261\u001b[0m     \u001b[38;5;66;03m# change the default number of processes to -1\u001b[39;00m\n\u001b[0;32m    262\u001b[0m     \u001b[38;5;28;01mwith\u001b[39;00m parallel_backend(\u001b[38;5;28mself\u001b[39m\u001b[38;5;241m.\u001b[39m_backend, n_jobs\u001b[38;5;241m=\u001b[39m\u001b[38;5;28mself\u001b[39m\u001b[38;5;241m.\u001b[39m_n_jobs):\n\u001b[1;32m--> 263\u001b[0m         \u001b[38;5;28;01mreturn\u001b[39;00m [\u001b[43mfunc\u001b[49m\u001b[43m(\u001b[49m\u001b[38;5;241;43m*\u001b[39;49m\u001b[43margs\u001b[49m\u001b[43m,\u001b[49m\u001b[43m \u001b[49m\u001b[38;5;241;43m*\u001b[39;49m\u001b[38;5;241;43m*\u001b[39;49m\u001b[43mkwargs\u001b[49m\u001b[43m)\u001b[49m\n\u001b[0;32m    264\u001b[0m                 \u001b[38;5;28;01mfor\u001b[39;00m func, args, kwargs \u001b[38;5;129;01min\u001b[39;00m \u001b[38;5;28mself\u001b[39m\u001b[38;5;241m.\u001b[39mitems]\n",
      "File \u001b[1;32m~\\AppData\\Local\\Packages\\PythonSoftwareFoundation.Python.3.11_qbz5n2kfra8p0\\LocalCache\\local-packages\\Python311\\site-packages\\sklearn\\utils\\parallel.py:127\u001b[0m, in \u001b[0;36m_FuncWrapper.__call__\u001b[1;34m(self, *args, **kwargs)\u001b[0m\n\u001b[0;32m    125\u001b[0m     config \u001b[38;5;241m=\u001b[39m {}\n\u001b[0;32m    126\u001b[0m \u001b[38;5;28;01mwith\u001b[39;00m config_context(\u001b[38;5;241m*\u001b[39m\u001b[38;5;241m*\u001b[39mconfig):\n\u001b[1;32m--> 127\u001b[0m     \u001b[38;5;28;01mreturn\u001b[39;00m \u001b[38;5;28;43mself\u001b[39;49m\u001b[38;5;241;43m.\u001b[39;49m\u001b[43mfunction\u001b[49m\u001b[43m(\u001b[49m\u001b[38;5;241;43m*\u001b[39;49m\u001b[43margs\u001b[49m\u001b[43m,\u001b[49m\u001b[43m \u001b[49m\u001b[38;5;241;43m*\u001b[39;49m\u001b[38;5;241;43m*\u001b[39;49m\u001b[43mkwargs\u001b[49m\u001b[43m)\u001b[49m\n",
      "File \u001b[1;32m~\\AppData\\Local\\Packages\\PythonSoftwareFoundation.Python.3.11_qbz5n2kfra8p0\\LocalCache\\local-packages\\Python311\\site-packages\\sklearn\\ensemble\\_forest.py:190\u001b[0m, in \u001b[0;36m_parallel_build_trees\u001b[1;34m(tree, bootstrap, X, y, sample_weight, tree_idx, n_trees, verbose, class_weight, n_samples_bootstrap)\u001b[0m\n\u001b[0;32m    188\u001b[0m     tree\u001b[38;5;241m.\u001b[39mfit(X, y, sample_weight\u001b[38;5;241m=\u001b[39mcurr_sample_weight, check_input\u001b[38;5;241m=\u001b[39m\u001b[38;5;28;01mFalse\u001b[39;00m)\n\u001b[0;32m    189\u001b[0m \u001b[38;5;28;01melse\u001b[39;00m:\n\u001b[1;32m--> 190\u001b[0m     \u001b[43mtree\u001b[49m\u001b[38;5;241;43m.\u001b[39;49m\u001b[43mfit\u001b[49m\u001b[43m(\u001b[49m\u001b[43mX\u001b[49m\u001b[43m,\u001b[49m\u001b[43m \u001b[49m\u001b[43my\u001b[49m\u001b[43m,\u001b[49m\u001b[43m \u001b[49m\u001b[43msample_weight\u001b[49m\u001b[38;5;241;43m=\u001b[39;49m\u001b[43msample_weight\u001b[49m\u001b[43m,\u001b[49m\u001b[43m \u001b[49m\u001b[43mcheck_input\u001b[49m\u001b[38;5;241;43m=\u001b[39;49m\u001b[38;5;28;43;01mFalse\u001b[39;49;00m\u001b[43m)\u001b[49m\n\u001b[0;32m    192\u001b[0m \u001b[38;5;28;01mreturn\u001b[39;00m tree\n",
      "File \u001b[1;32m~\\AppData\\Local\\Packages\\PythonSoftwareFoundation.Python.3.11_qbz5n2kfra8p0\\LocalCache\\local-packages\\Python311\\site-packages\\sklearn\\base.py:1151\u001b[0m, in \u001b[0;36m_fit_context.<locals>.decorator.<locals>.wrapper\u001b[1;34m(estimator, *args, **kwargs)\u001b[0m\n\u001b[0;32m   1144\u001b[0m     estimator\u001b[38;5;241m.\u001b[39m_validate_params()\n\u001b[0;32m   1146\u001b[0m \u001b[38;5;28;01mwith\u001b[39;00m config_context(\n\u001b[0;32m   1147\u001b[0m     skip_parameter_validation\u001b[38;5;241m=\u001b[39m(\n\u001b[0;32m   1148\u001b[0m         prefer_skip_nested_validation \u001b[38;5;129;01mor\u001b[39;00m global_skip_validation\n\u001b[0;32m   1149\u001b[0m     )\n\u001b[0;32m   1150\u001b[0m ):\n\u001b[1;32m-> 1151\u001b[0m     \u001b[38;5;28;01mreturn\u001b[39;00m \u001b[43mfit_method\u001b[49m\u001b[43m(\u001b[49m\u001b[43mestimator\u001b[49m\u001b[43m,\u001b[49m\u001b[43m \u001b[49m\u001b[38;5;241;43m*\u001b[39;49m\u001b[43margs\u001b[49m\u001b[43m,\u001b[49m\u001b[43m \u001b[49m\u001b[38;5;241;43m*\u001b[39;49m\u001b[38;5;241;43m*\u001b[39;49m\u001b[43mkwargs\u001b[49m\u001b[43m)\u001b[49m\n",
      "File \u001b[1;32m~\\AppData\\Local\\Packages\\PythonSoftwareFoundation.Python.3.11_qbz5n2kfra8p0\\LocalCache\\local-packages\\Python311\\site-packages\\sklearn\\tree\\_classes.py:1320\u001b[0m, in \u001b[0;36mDecisionTreeRegressor.fit\u001b[1;34m(self, X, y, sample_weight, check_input)\u001b[0m\n\u001b[0;32m   1290\u001b[0m \u001b[38;5;129m@_fit_context\u001b[39m(prefer_skip_nested_validation\u001b[38;5;241m=\u001b[39m\u001b[38;5;28;01mTrue\u001b[39;00m)\n\u001b[0;32m   1291\u001b[0m \u001b[38;5;28;01mdef\u001b[39;00m \u001b[38;5;21mfit\u001b[39m(\u001b[38;5;28mself\u001b[39m, X, y, sample_weight\u001b[38;5;241m=\u001b[39m\u001b[38;5;28;01mNone\u001b[39;00m, check_input\u001b[38;5;241m=\u001b[39m\u001b[38;5;28;01mTrue\u001b[39;00m):\n\u001b[0;32m   1292\u001b[0m \u001b[38;5;250m    \u001b[39m\u001b[38;5;124;03m\"\"\"Build a decision tree regressor from the training set (X, y).\u001b[39;00m\n\u001b[0;32m   1293\u001b[0m \n\u001b[0;32m   1294\u001b[0m \u001b[38;5;124;03m    Parameters\u001b[39;00m\n\u001b[1;32m   (...)\u001b[0m\n\u001b[0;32m   1317\u001b[0m \u001b[38;5;124;03m        Fitted estimator.\u001b[39;00m\n\u001b[0;32m   1318\u001b[0m \u001b[38;5;124;03m    \"\"\"\u001b[39;00m\n\u001b[1;32m-> 1320\u001b[0m     \u001b[38;5;28;43msuper\u001b[39;49m\u001b[43m(\u001b[49m\u001b[43m)\u001b[49m\u001b[38;5;241;43m.\u001b[39;49m\u001b[43m_fit\u001b[49m\u001b[43m(\u001b[49m\n\u001b[0;32m   1321\u001b[0m \u001b[43m        \u001b[49m\u001b[43mX\u001b[49m\u001b[43m,\u001b[49m\n\u001b[0;32m   1322\u001b[0m \u001b[43m        \u001b[49m\u001b[43my\u001b[49m\u001b[43m,\u001b[49m\n\u001b[0;32m   1323\u001b[0m \u001b[43m        \u001b[49m\u001b[43msample_weight\u001b[49m\u001b[38;5;241;43m=\u001b[39;49m\u001b[43msample_weight\u001b[49m\u001b[43m,\u001b[49m\n\u001b[0;32m   1324\u001b[0m \u001b[43m        \u001b[49m\u001b[43mcheck_input\u001b[49m\u001b[38;5;241;43m=\u001b[39;49m\u001b[43mcheck_input\u001b[49m\u001b[43m,\u001b[49m\n\u001b[0;32m   1325\u001b[0m \u001b[43m    \u001b[49m\u001b[43m)\u001b[49m\n\u001b[0;32m   1326\u001b[0m     \u001b[38;5;28;01mreturn\u001b[39;00m \u001b[38;5;28mself\u001b[39m\n",
      "File \u001b[1;32m~\\AppData\\Local\\Packages\\PythonSoftwareFoundation.Python.3.11_qbz5n2kfra8p0\\LocalCache\\local-packages\\Python311\\site-packages\\sklearn\\tree\\_classes.py:443\u001b[0m, in \u001b[0;36mBaseDecisionTree._fit\u001b[1;34m(self, X, y, sample_weight, check_input, missing_values_in_feature_mask)\u001b[0m\n\u001b[0;32m    432\u001b[0m \u001b[38;5;28;01melse\u001b[39;00m:\n\u001b[0;32m    433\u001b[0m     builder \u001b[38;5;241m=\u001b[39m BestFirstTreeBuilder(\n\u001b[0;32m    434\u001b[0m         splitter,\n\u001b[0;32m    435\u001b[0m         min_samples_split,\n\u001b[1;32m   (...)\u001b[0m\n\u001b[0;32m    440\u001b[0m         \u001b[38;5;28mself\u001b[39m\u001b[38;5;241m.\u001b[39mmin_impurity_decrease,\n\u001b[0;32m    441\u001b[0m     )\n\u001b[1;32m--> 443\u001b[0m \u001b[43mbuilder\u001b[49m\u001b[38;5;241;43m.\u001b[39;49m\u001b[43mbuild\u001b[49m\u001b[43m(\u001b[49m\u001b[38;5;28;43mself\u001b[39;49m\u001b[38;5;241;43m.\u001b[39;49m\u001b[43mtree_\u001b[49m\u001b[43m,\u001b[49m\u001b[43m \u001b[49m\u001b[43mX\u001b[49m\u001b[43m,\u001b[49m\u001b[43m \u001b[49m\u001b[43my\u001b[49m\u001b[43m,\u001b[49m\u001b[43m \u001b[49m\u001b[43msample_weight\u001b[49m\u001b[43m,\u001b[49m\u001b[43m \u001b[49m\u001b[43mmissing_values_in_feature_mask\u001b[49m\u001b[43m)\u001b[49m\n\u001b[0;32m    445\u001b[0m \u001b[38;5;28;01mif\u001b[39;00m \u001b[38;5;28mself\u001b[39m\u001b[38;5;241m.\u001b[39mn_outputs_ \u001b[38;5;241m==\u001b[39m \u001b[38;5;241m1\u001b[39m \u001b[38;5;129;01mand\u001b[39;00m is_classifier(\u001b[38;5;28mself\u001b[39m):\n\u001b[0;32m    446\u001b[0m     \u001b[38;5;28mself\u001b[39m\u001b[38;5;241m.\u001b[39mn_classes_ \u001b[38;5;241m=\u001b[39m \u001b[38;5;28mself\u001b[39m\u001b[38;5;241m.\u001b[39mn_classes_[\u001b[38;5;241m0\u001b[39m]\n",
      "\u001b[1;31mKeyboardInterrupt\u001b[0m: "
     ]
    }
   ],
   "source": [
    "\n",
    "\n",
    "# Assuming df is your DataFrame\n",
    "x = df.drop(columns=['PRICE'])\n",
    "y = df['PRICE']\n",
    "y_transform = np.log1p(y)\n",
    "\n",
    "\n",
    "\n",
    "encoder = OrdinalEncoder()\n",
    "encoder.fit(x[columns_ordinal_encode])\n",
    "\n",
    "preprocessor = ColumnTransformer(\n",
    "    transformers=[\n",
    "        ('num', StandardScaler(), ['BEDROOM_NUM', 'BALCONY_NUM', 'AREA']),\n",
    "        ('cat1', OrdinalEncoder(categories=encoder.categories_), columns_ordinal_encode),\n",
    "        ('cat2', OneHotEncoder(drop='first', sparse_output=False, handle_unknown='ignore'), ['FLOOR_NUM']),\n",
    "        ('target_enc', ce.TargetEncoder(), ['location'])\n",
    "    ], remainder='passthrough'\n",
    ")\n",
    "\n",
    "# Initialize ExtraTreesRegressor\n",
    "Regressor = ExtraTreesRegressor()\n",
    "\n",
    "# Define the pipeline\n",
    "pipeline_etratrees = Pipeline([\n",
    "    ('preprocessor', preprocessor),\n",
    "    ('regressor', Regressor)\n",
    "])\n",
    "\n",
    "# Cross-Validation\n",
    "cv_scores = cross_val_score(pipeline_etratrees, x, y_transform, scoring='r2', cv=10)\n",
    "print(f\"Cross-Validation Mean R² Score: {np.mean(cv_scores)}\")\n",
    "\n",
    "# Train-Test Split\n",
    "x_train, x_test, y_train, y_test = train_test_split(x, y_transform, test_size=0.2, random_state=42)\n",
    "pipeline_etratrees.fit(x_train, y_train)\n",
    "\n",
    "# Predict on the test set\n",
    "y_pred = pipeline_etratrees.predict(x_test)\n",
    "\n",
    "# Calculate the R² score\n",
    "test_score = pipeline_etratrees.score(x_test, y_test)\n",
    "print(f\"Train-Test Split Test Set R² Score: {test_score}\")\n",
    "\n",
    "# Calculate the Mean Absolute Error (MAE)\n",
    "mae = mean_absolute_error(np.expm1(y_test), np.expm1(y_pred))  # Inverse transform the predictions\n",
    "print(f\"Test Set MAE: {mae}\")\n",
    "\n",
    "# Define the parameter space for Bayesian Optimization\n",
    "param_space = {\n",
    "    'regressor__n_estimators': Integer(100, 500),\n",
    "    'regressor__max_depth': Categorical([None] + list(range(1, 31))),\n",
    "    'regressor__min_samples_split': Integer(2, 10),\n",
    "    'regressor__min_samples_leaf': Integer(1, 4),\n",
    "    'regressor__max_features': Categorical(['sqrt', 'log2', None])\n",
    "}\n",
    "\n",
    "# Initialize BayesSearchCV\n",
    "bayes_search = BayesSearchCV(\n",
    "    estimator=pipeline_etratrees,\n",
    "    search_spaces=param_space,\n",
    "    scoring='r2',\n",
    "    cv=10,\n",
    "    n_jobs=-1,\n",
    "    n_iter=100,  # Adjust the number of iterations as needed\n",
    "    random_state=42\n",
    ")\n",
    "\n",
    "# Fit Bayesian Search\n",
    "bayes_search.fit(x_train, y_train)\n",
    "\n",
    "# Print the best hyperparameters\n",
    "print(f\"Best Hyperparameters: {bayes_search.best_params_}\")\n",
    "print(f\"Best Cross-Validation R² Score: {bayes_search.best_score_}\")\n",
    "\n",
    "# Evaluate on the test set using the best model\n",
    "best_pipeline = bayes_search.best_estimator_\n",
    "test_score = best_pipeline.score(x_test, y_test)\n",
    "print(f\"Test Set R² Score with Best Model: {test_score}\")\n",
    "\n",
    "# Make predictions and calculate MAE\n",
    "y_pred = best_pipeline.predict(x_test)\n",
    "mae = mean_absolute_error(np.expm1(y_test), np.expm1(y_pred))\n",
    "print(f\"Test Set MAE with Best Model: {mae}\")\n"
   ]
  },
  {
   "cell_type": "code",
   "execution_count": 62,
   "id": "AeghsS_lOQnu",
   "metadata": {
    "colab": {
     "base_uri": "https://localhost:8080/",
     "height": 356
    },
    "executionInfo": {
     "elapsed": 24596,
     "status": "error",
     "timestamp": 1725460335291,
     "user": {
      "displayName": "Dipanjan Pathak",
      "userId": "18105456278807188077"
     },
     "user_tz": -330
    },
    "id": "AeghsS_lOQnu",
    "outputId": "14b2952a-ad5b-40ba-9c32-b5f654236331"
   },
   "outputs": [
    {
     "name": "stdout",
     "output_type": "stream",
     "text": [
      "Cross-Validation Mean R² Score: 0.8729169141466192\n",
      "Train Test split Test Set R² Score: 0.8996186873873011\n",
      "Test Set MAE: 0.17232182902719734\n",
      "Best Hyperparameters: OrderedDict([('regressor__max_depth', 20), ('regressor__max_features', None), ('regressor__min_samples_leaf', 1), ('regressor__min_samples_split', 5), ('regressor__n_estimators', 500)])\n",
      "Best Cross-Validation R² Score: 0.8891749820753942\n",
      "Test Set R² Score with Best Model: 0.9023337688582411\n",
      "Test Set MAE with Best Model: 0.17242704175436296\n"
     ]
    }
   ],
   "source": [
    "# Best Score\n",
    "\n",
    "# Assuming df is your DataFrame\n",
    "x = df.drop(columns=['PRICE'])\n",
    "y = df['PRICE']\n",
    "y_transform = np.log1p(y)\n",
    "\n",
    "encoder = OrdinalEncoder()\n",
    "encoder.fit(x[columns_ordinal_encode])\n",
    "\n",
    "preprocessor = ColumnTransformer(\n",
    "    transformers=[\n",
    "        ('num', StandardScaler(), ['BEDROOM_NUM', 'BALCONY_NUM', 'AREA']),\n",
    "        ('cat1', OrdinalEncoder(categories=encoder.categories_), columns_ordinal_encode),\n",
    "        ('cat2', OneHotEncoder(drop='first', sparse_output=False, handle_unknown='ignore'), ['FLOOR_NUM']),\n",
    "        ('target_enc', ce.TargetEncoder(), ['location'])\n",
    "    ], remainder='passthrough'\n",
    ")\n",
    "\n",
    "# Initialize ExtraTreesRegressor\n",
    "Regressor = ExtraTreesRegressor()\n",
    "\n",
    "# Define the pipeline\n",
    "pipeline_etratrees = Pipeline([\n",
    "    ('preprocessor', preprocessor),\n",
    "    ('regressor', Regressor)\n",
    "])\n",
    "\n",
    "# Cross-Validation\n",
    "cv_scores = cross_val_score(pipeline_etratrees, x, y_transform, scoring='r2', cv=10)\n",
    "print(f\"Cross-Validation Mean R² Score: {np.mean(cv_scores)}\")\n",
    "\n",
    "# Train-Test Split\n",
    "x_train, x_test, y_train, y_test = train_test_split(x, y_transform, test_size=0.2, random_state=42)\n",
    "pipeline_etratrees.fit(x_train, y_train)\n",
    "\n",
    "# Predict on the test set\n",
    "y_pred = pipeline_etratrees.predict(x_test)\n",
    "\n",
    "# Calculate the R² score\n",
    "test_score = pipeline_etratrees.score(x_test, y_test)\n",
    "print(f\"Train Test split Test Set R² Score: {test_score}\")\n",
    "\n",
    "# Calculate the Mean Absolute Error (MAE)\n",
    "mae = mean_absolute_error(np.expm1(y_test), np.expm1(y_pred))  # Inverse transform the predictions\n",
    "print(f\"Test Set MAE: {mae}\")\n",
    "\n",
    "# Define the parameter space for Bayesian Optimization\n",
    "param_space = {\n",
    "    'regressor__n_estimators': (100, 500),  # Number of trees\n",
    "    'regressor__max_depth': (None, 10, 20, 30),\n",
    "    'regressor__min_samples_split': (2, 10),\n",
    "    'regressor__min_samples_leaf': (1, 4),\n",
    "    'regressor__max_features': ['sqrt', 'log2', None]  # Options for max_features\n",
    "}\n",
    "\n",
    "# Initialize BayesSearchCV\n",
    "bayes_search = BayesSearchCV(\n",
    "    estimator=pipeline_etratrees,\n",
    "    search_spaces=param_space,\n",
    "    scoring='r2',\n",
    "    cv=10,\n",
    "    n_jobs=-1,\n",
    "    n_iter=50,\n",
    "    random_state=42\n",
    ")\n",
    "\n",
    "# Fit Bayesian Search\n",
    "bayes_search.fit(x_train, y_train)\n",
    "\n",
    "# Print the best hyperparameters\n",
    "print(f\"Best Hyperparameters: {bayes_search.best_params_}\")\n",
    "print(f\"Best Cross-Validation R² Score: {bayes_search.best_score_}\")\n",
    "\n",
    "# Evaluate on the test set using the best model\n",
    "best_pipeline = bayes_search.best_estimator_\n",
    "test_score = best_pipeline.score(x_test, y_test)\n",
    "print(f\"Test Set R² Score with Best Model: {test_score}\")\n",
    "\n",
    "# Make predictions and calculate MAE\n",
    "y_pred = best_pipeline.predict(x_test)\n",
    "mae = mean_absolute_error(np.expm1(y_test), np.expm1(y_pred))\n",
    "print(f\"Test Set MAE with Best Model: {mae}\")\n"
   ]
  },
  {
   "cell_type": "code",
   "execution_count": 22,
   "id": "KdRW9IcWO11H",
   "metadata": {
    "id": "KdRW9IcWO11H"
   },
   "outputs": [
    {
     "name": "stdout",
     "output_type": "stream",
     "text": [
      "Actual Price: 0.72, Rage: 0.32 to 0.58, Predicted Price: 0.45,  Residual: 0.27\n",
      "Actual Price: 0.24, Rage: 0.12 to 0.38, Predicted Price: 0.25,  Residual: -0.01\n",
      "Actual Price: 1.48, Rage: 1.45 to 1.71, Predicted Price: 1.58,  Residual: -0.10\n",
      "Actual Price: 0.55, Rage: 0.30 to 0.56, Predicted Price: 0.43,  Residual: 0.12\n",
      "Actual Price: 0.64, Rage: 0.51 to 0.77, Predicted Price: 0.64,  Residual: -0.00\n",
      "Actual Price: 0.38, Rage: 0.32 to 0.58, Predicted Price: 0.45,  Residual: -0.07\n",
      "Actual Price: 0.70, Rage: 0.62 to 0.88, Predicted Price: 0.75,  Residual: -0.05\n",
      "Actual Price: 0.76, Rage: 0.54 to 0.80, Predicted Price: 0.67,  Residual: 0.09\n",
      "Actual Price: 0.84, Rage: 0.54 to 0.80, Predicted Price: 0.67,  Residual: 0.17\n",
      "Actual Price: 3.20, Rage: 3.22 to 3.48, Predicted Price: 3.35,  Residual: -0.15\n",
      "Actual Price: 1.32, Rage: 1.12 to 1.38, Predicted Price: 1.25,  Residual: 0.07\n",
      "Actual Price: 0.33, Rage: 0.20 to 0.46, Predicted Price: 0.33,  Residual: -0.00\n",
      "Actual Price: 2.50, Rage: 1.76 to 2.02, Predicted Price: 1.89,  Residual: 0.61\n",
      "Actual Price: 1.27, Rage: 0.76 to 1.02, Predicted Price: 0.89,  Residual: 0.38\n",
      "Actual Price: 0.27, Rage: 0.17 to 0.43, Predicted Price: 0.30,  Residual: -0.03\n",
      "Actual Price: 0.14, Rage: 0.04 to 0.30, Predicted Price: 0.17,  Residual: -0.03\n",
      "Actual Price: 0.45, Rage: 0.32 to 0.58, Predicted Price: 0.45,  Residual: -0.00\n",
      "Actual Price: 0.26, Rage: 0.13 to 0.39, Predicted Price: 0.26,  Residual: 0.00\n",
      "Actual Price: 0.71, Rage: 0.65 to 0.91, Predicted Price: 0.78,  Residual: -0.07\n",
      "Actual Price: 1.05, Rage: 0.80 to 1.06, Predicted Price: 0.93,  Residual: 0.12\n",
      "Actual Price: 0.13, Rage: 0.12 to 0.38, Predicted Price: 0.25,  Residual: -0.12\n",
      "Actual Price: 0.34, Rage: 0.40 to 0.66, Predicted Price: 0.53,  Residual: -0.19\n",
      "Actual Price: 0.65, Rage: 0.74 to 1.00, Predicted Price: 0.87,  Residual: -0.22\n",
      "Actual Price: 0.30, Rage: 0.30 to 0.56, Predicted Price: 0.43,  Residual: -0.13\n",
      "Actual Price: 0.55, Rage: 0.51 to 0.77, Predicted Price: 0.64,  Residual: -0.09\n",
      "Actual Price: 3.20, Rage: 2.72 to 2.98, Predicted Price: 2.85,  Residual: 0.35\n",
      "Actual Price: 0.65, Rage: 0.45 to 0.71, Predicted Price: 0.58,  Residual: 0.07\n",
      "Actual Price: 1.42, Rage: 1.84 to 2.10, Predicted Price: 1.97,  Residual: -0.55\n",
      "Actual Price: 9.50, Rage: 5.43 to 5.69, Predicted Price: 5.56,  Residual: 3.94\n",
      "Actual Price: 1.75, Rage: 2.22 to 2.48, Predicted Price: 2.35,  Residual: -0.60\n",
      "Actual Price: 0.28, Rage: 0.21 to 0.47, Predicted Price: 0.34,  Residual: -0.06\n",
      "Actual Price: 0.68, Rage: 0.40 to 0.66, Predicted Price: 0.53,  Residual: 0.15\n",
      "Actual Price: 0.25, Rage: 0.13 to 0.39, Predicted Price: 0.26,  Residual: -0.01\n",
      "Actual Price: 0.32, Rage: 0.19 to 0.45, Predicted Price: 0.32,  Residual: -0.00\n",
      "Actual Price: 1.40, Rage: 1.01 to 1.27, Predicted Price: 1.14,  Residual: 0.26\n",
      "Actual Price: 0.66, Rage: 0.73 to 0.99, Predicted Price: 0.86,  Residual: -0.20\n",
      "Actual Price: 0.33, Rage: 0.15 to 0.41, Predicted Price: 0.28,  Residual: 0.05\n",
      "Actual Price: 0.22, Rage: 0.14 to 0.40, Predicted Price: 0.27,  Residual: -0.05\n",
      "Actual Price: 0.95, Rage: 0.70 to 0.96, Predicted Price: 0.83,  Residual: 0.12\n",
      "Actual Price: 0.22, Rage: 0.09 to 0.35, Predicted Price: 0.22,  Residual: -0.00\n",
      "Actual Price: 0.48, Rage: 0.34 to 0.60, Predicted Price: 0.47,  Residual: 0.01\n",
      "Actual Price: 0.50, Rage: 0.25 to 0.51, Predicted Price: 0.38,  Residual: 0.12\n",
      "Actual Price: 0.42, Rage: 0.29 to 0.55, Predicted Price: 0.42,  Residual: 0.00\n",
      "Actual Price: 1.00, Rage: 0.93 to 1.19, Predicted Price: 1.06,  Residual: -0.06\n",
      "Actual Price: 0.37, Rage: 0.27 to 0.53, Predicted Price: 0.40,  Residual: -0.03\n",
      "Actual Price: 0.87, Rage: 0.51 to 0.77, Predicted Price: 0.64,  Residual: 0.23\n",
      "Actual Price: 0.68, Rage: 0.55 to 0.81, Predicted Price: 0.68,  Residual: 0.00\n",
      "Actual Price: 0.39, Rage: 0.36 to 0.62, Predicted Price: 0.49,  Residual: -0.10\n",
      "Actual Price: 0.37, Rage: 0.55 to 0.81, Predicted Price: 0.68,  Residual: -0.31\n",
      "Actual Price: 1.42, Rage: 1.01 to 1.27, Predicted Price: 1.14,  Residual: 0.28\n",
      "Actual Price: 0.80, Rage: 0.63 to 0.89, Predicted Price: 0.76,  Residual: 0.04\n",
      "Actual Price: 0.55, Rage: 0.35 to 0.61, Predicted Price: 0.48,  Residual: 0.07\n",
      "Total number of operations: 52\n"
     ]
    }
   ],
   "source": [
    "Extratrees_pipeline = Pipeline([\n",
    "    ('preprocessor', preprocessor),\n",
    "    ('regressor', ExtraTreesRegressor(\n",
    "        max_depth=20,\n",
    "        max_features=None,\n",
    "        min_samples_leaf=1,\n",
    "        min_samples_split=5,\n",
    "        n_estimators=500\n",
    "    ))\n",
    "])\n",
    "\n",
    "# Train-Test Split\n",
    "x_train, x_test, y_train, y_test = train_test_split(x, y_transform, test_size=0.01, random_state=42)\n",
    "Extratrees_pipeline.fit(x_train, y_train)\n",
    "\n",
    "# Initialize a counter\n",
    "operation_count = 0\n",
    "\n",
    "# Iterate over the indices of x_test\n",
    "for idx in x_test.index:\n",
    "    actual_price = np.expm1(y_test.loc[idx])\n",
    "    predicted_price = np.expm1(Extratrees_pipeline.predict(x_test.loc[[idx]]))[0]\n",
    "    residual = actual_price - predicted_price\n",
    "\n",
    "    # Print the details\n",
    "    print(f\"Actual Price: {actual_price:.2f}, Rage: {predicted_price-.13:.2f} to {predicted_price+.13:.2f}, Predicted Price: {predicted_price:.2f},  Residual: {residual:.2f}\")\n",
    "\n",
    "    # Increment the counter\n",
    "    operation_count += 1\n",
    "\n",
    "# Print the total number of operations\n",
    "print(f\"Total number of operations: {operation_count}\")\n"
   ]
  },
  {
   "cell_type": "code",
   "execution_count": 66,
   "id": "d6aeb48b-001e-42aa-aee2-4ae2d5782366",
   "metadata": {},
   "outputs": [],
   "source": [
    "import pickle\n",
    "\n",
    "with open('pipeline.pkl', 'wb') as file:\n",
    "    pickle.dump(Extratrees_pipeline, file)"
   ]
  },
  {
   "cell_type": "code",
   "execution_count": 23,
   "id": "2148dc2c-e280-4a81-8228-4f1c2f9e7202",
   "metadata": {},
   "outputs": [
    {
     "data": {
      "text/html": [
       "<div>\n",
       "<style scoped>\n",
       "    .dataframe tbody tr th:only-of-type {\n",
       "        vertical-align: middle;\n",
       "    }\n",
       "\n",
       "    .dataframe tbody tr th {\n",
       "        vertical-align: top;\n",
       "    }\n",
       "\n",
       "    .dataframe thead th {\n",
       "        text-align: right;\n",
       "    }\n",
       "</style>\n",
       "<table border=\"1\" class=\"dataframe\">\n",
       "  <thead>\n",
       "    <tr style=\"text-align: right;\">\n",
       "      <th></th>\n",
       "      <th>location</th>\n",
       "      <th>BEDROOM_NUM</th>\n",
       "      <th>BALCONY_NUM</th>\n",
       "      <th>AREA</th>\n",
       "      <th>AGE</th>\n",
       "      <th>FURNISH</th>\n",
       "      <th>amenity_luxury</th>\n",
       "      <th>FLOOR_NUM</th>\n",
       "    </tr>\n",
       "  </thead>\n",
       "  <tbody>\n",
       "    <tr>\n",
       "      <th>1176</th>\n",
       "      <td>Bansdroni</td>\n",
       "      <td>3.0</td>\n",
       "      <td>1.0</td>\n",
       "      <td>1162</td>\n",
       "      <td>Relatively New Property</td>\n",
       "      <td>Fully furnished</td>\n",
       "      <td>Medium</td>\n",
       "      <td>Mid Floor</td>\n",
       "    </tr>\n",
       "    <tr>\n",
       "      <th>3362</th>\n",
       "      <td>Kestopur</td>\n",
       "      <td>2.0</td>\n",
       "      <td>1.0</td>\n",
       "      <td>711</td>\n",
       "      <td>New Property</td>\n",
       "      <td>Fully furnished</td>\n",
       "      <td>Low</td>\n",
       "      <td>Low Floor</td>\n",
       "    </tr>\n",
       "    <tr>\n",
       "      <th>1090</th>\n",
       "      <td>New Town</td>\n",
       "      <td>4.0</td>\n",
       "      <td>4.0</td>\n",
       "      <td>1925</td>\n",
       "      <td>Old Property</td>\n",
       "      <td>Fully furnished</td>\n",
       "      <td>High</td>\n",
       "      <td>High Floor</td>\n",
       "    </tr>\n",
       "    <tr>\n",
       "      <th>4815</th>\n",
       "      <td>Garia</td>\n",
       "      <td>2.0</td>\n",
       "      <td>2.0</td>\n",
       "      <td>881</td>\n",
       "      <td>Old Property</td>\n",
       "      <td>Fully furnished</td>\n",
       "      <td>Low</td>\n",
       "      <td>Mid Floor</td>\n",
       "    </tr>\n",
       "    <tr>\n",
       "      <th>4373</th>\n",
       "      <td>Joka</td>\n",
       "      <td>3.0</td>\n",
       "      <td>3.0</td>\n",
       "      <td>1129</td>\n",
       "      <td>Relatively New Property</td>\n",
       "      <td>Fully furnished</td>\n",
       "      <td>High</td>\n",
       "      <td>Mid Floor</td>\n",
       "    </tr>\n",
       "    <tr>\n",
       "      <th>279</th>\n",
       "      <td>Lake Town</td>\n",
       "      <td>2.0</td>\n",
       "      <td>1.0</td>\n",
       "      <td>765</td>\n",
       "      <td>Relatively New Property</td>\n",
       "      <td>Semi-furnished</td>\n",
       "      <td>High</td>\n",
       "      <td>Low Floor</td>\n",
       "    </tr>\n",
       "    <tr>\n",
       "      <th>996</th>\n",
       "      <td>Madhyamgram</td>\n",
       "      <td>4.0</td>\n",
       "      <td>2.0</td>\n",
       "      <td>1588</td>\n",
       "      <td>Old Property</td>\n",
       "      <td>Unfurnished</td>\n",
       "      <td>Medium</td>\n",
       "      <td>Low Floor</td>\n",
       "    </tr>\n",
       "    <tr>\n",
       "      <th>584</th>\n",
       "      <td>Majarhati</td>\n",
       "      <td>3.0</td>\n",
       "      <td>1.0</td>\n",
       "      <td>814</td>\n",
       "      <td>Old Property</td>\n",
       "      <td>Fully furnished</td>\n",
       "      <td>Medium</td>\n",
       "      <td>Mid Floor</td>\n",
       "    </tr>\n",
       "    <tr>\n",
       "      <th>1485</th>\n",
       "      <td>Kamalgazi</td>\n",
       "      <td>3.0</td>\n",
       "      <td>1.0</td>\n",
       "      <td>1530</td>\n",
       "      <td>Relatively New Property</td>\n",
       "      <td>Luxury furnished</td>\n",
       "      <td>Medium</td>\n",
       "      <td>Mid Floor</td>\n",
       "    </tr>\n",
       "    <tr>\n",
       "      <th>3922</th>\n",
       "      <td>Minto Park</td>\n",
       "      <td>3.0</td>\n",
       "      <td>0.0</td>\n",
       "      <td>2329</td>\n",
       "      <td>Old Property</td>\n",
       "      <td>Fully furnished</td>\n",
       "      <td>Medium</td>\n",
       "      <td>Mid Floor</td>\n",
       "    </tr>\n",
       "    <tr>\n",
       "      <th>2771</th>\n",
       "      <td>Tollygunge</td>\n",
       "      <td>3.0</td>\n",
       "      <td>1.0</td>\n",
       "      <td>1326</td>\n",
       "      <td>Old Property</td>\n",
       "      <td>Fully furnished</td>\n",
       "      <td>Low</td>\n",
       "      <td>High Floor</td>\n",
       "    </tr>\n",
       "    <tr>\n",
       "      <th>3647</th>\n",
       "      <td>Mahish Bathan</td>\n",
       "      <td>2.0</td>\n",
       "      <td>1.0</td>\n",
       "      <td>780</td>\n",
       "      <td>Old Property</td>\n",
       "      <td>Fully furnished</td>\n",
       "      <td>Medium</td>\n",
       "      <td>Mid Floor</td>\n",
       "    </tr>\n",
       "    <tr>\n",
       "      <th>4414</th>\n",
       "      <td>Salt Lake</td>\n",
       "      <td>3.0</td>\n",
       "      <td>1.0</td>\n",
       "      <td>1657</td>\n",
       "      <td>Relatively New Property</td>\n",
       "      <td>Semi-furnished</td>\n",
       "      <td>High</td>\n",
       "      <td>High Floor</td>\n",
       "    </tr>\n",
       "    <tr>\n",
       "      <th>4006</th>\n",
       "      <td>Rash Behari</td>\n",
       "      <td>2.0</td>\n",
       "      <td>1.0</td>\n",
       "      <td>1294</td>\n",
       "      <td>Relatively New Property</td>\n",
       "      <td>Fully furnished</td>\n",
       "      <td>Low</td>\n",
       "      <td>Mid Floor</td>\n",
       "    </tr>\n",
       "    <tr>\n",
       "      <th>3940</th>\n",
       "      <td>Madhyamgram</td>\n",
       "      <td>2.0</td>\n",
       "      <td>1.0</td>\n",
       "      <td>882</td>\n",
       "      <td>Relatively New Property</td>\n",
       "      <td>Fully furnished</td>\n",
       "      <td>High</td>\n",
       "      <td>Low Floor</td>\n",
       "    </tr>\n",
       "    <tr>\n",
       "      <th>1612</th>\n",
       "      <td>Diamond Park</td>\n",
       "      <td>1.0</td>\n",
       "      <td>1.0</td>\n",
       "      <td>447</td>\n",
       "      <td>Old Property</td>\n",
       "      <td>Fully furnished</td>\n",
       "      <td>Low</td>\n",
       "      <td>Low Floor</td>\n",
       "    </tr>\n",
       "    <tr>\n",
       "      <th>3193</th>\n",
       "      <td>Nayabad</td>\n",
       "      <td>3.0</td>\n",
       "      <td>1.0</td>\n",
       "      <td>1079</td>\n",
       "      <td>Old Property</td>\n",
       "      <td>Fully furnished</td>\n",
       "      <td>High</td>\n",
       "      <td>Low Floor</td>\n",
       "    </tr>\n",
       "    <tr>\n",
       "      <th>472</th>\n",
       "      <td>Rajarhat</td>\n",
       "      <td>1.0</td>\n",
       "      <td>1.0</td>\n",
       "      <td>630</td>\n",
       "      <td>Old Property</td>\n",
       "      <td>Unfurnished</td>\n",
       "      <td>Medium</td>\n",
       "      <td>Low Floor</td>\n",
       "    </tr>\n",
       "    <tr>\n",
       "      <th>4775</th>\n",
       "      <td>Action Area 2</td>\n",
       "      <td>3.0</td>\n",
       "      <td>2.0</td>\n",
       "      <td>1250</td>\n",
       "      <td>Old Property</td>\n",
       "      <td>Fully furnished</td>\n",
       "      <td>Low</td>\n",
       "      <td>Mid Floor</td>\n",
       "    </tr>\n",
       "    <tr>\n",
       "      <th>1580</th>\n",
       "      <td>Em Bypass</td>\n",
       "      <td>2.0</td>\n",
       "      <td>1.0</td>\n",
       "      <td>1152</td>\n",
       "      <td>Old Property</td>\n",
       "      <td>Fully furnished</td>\n",
       "      <td>Low</td>\n",
       "      <td>High Floor</td>\n",
       "    </tr>\n",
       "    <tr>\n",
       "      <th>969</th>\n",
       "      <td>Baruipur</td>\n",
       "      <td>2.0</td>\n",
       "      <td>1.0</td>\n",
       "      <td>650</td>\n",
       "      <td>New Property</td>\n",
       "      <td>Fully furnished</td>\n",
       "      <td>Low</td>\n",
       "      <td>Low Floor</td>\n",
       "    </tr>\n",
       "    <tr>\n",
       "      <th>2224</th>\n",
       "      <td>Chinar Park</td>\n",
       "      <td>2.0</td>\n",
       "      <td>1.0</td>\n",
       "      <td>911</td>\n",
       "      <td>Relatively New Property</td>\n",
       "      <td>Fully furnished</td>\n",
       "      <td>Medium</td>\n",
       "      <td>Low Floor</td>\n",
       "    </tr>\n",
       "    <tr>\n",
       "      <th>3877</th>\n",
       "      <td>New Town</td>\n",
       "      <td>3.0</td>\n",
       "      <td>1.0</td>\n",
       "      <td>1260</td>\n",
       "      <td>Old Property</td>\n",
       "      <td>Fully furnished</td>\n",
       "      <td>Low</td>\n",
       "      <td>Low Floor</td>\n",
       "    </tr>\n",
       "    <tr>\n",
       "      <th>4966</th>\n",
       "      <td>Em Bypass</td>\n",
       "      <td>2.0</td>\n",
       "      <td>1.0</td>\n",
       "      <td>792</td>\n",
       "      <td>Old Property</td>\n",
       "      <td>Fully furnished</td>\n",
       "      <td>High</td>\n",
       "      <td>Mid Floor</td>\n",
       "    </tr>\n",
       "    <tr>\n",
       "      <th>751</th>\n",
       "      <td>Lake Town</td>\n",
       "      <td>2.0</td>\n",
       "      <td>1.0</td>\n",
       "      <td>900</td>\n",
       "      <td>Moderately Old</td>\n",
       "      <td>Luxury furnished</td>\n",
       "      <td>Medium</td>\n",
       "      <td>Mid Floor</td>\n",
       "    </tr>\n",
       "    <tr>\n",
       "      <th>4409</th>\n",
       "      <td>New Town</td>\n",
       "      <td>4.0</td>\n",
       "      <td>4.0</td>\n",
       "      <td>3114</td>\n",
       "      <td>Relatively New Property</td>\n",
       "      <td>Fully furnished</td>\n",
       "      <td>High</td>\n",
       "      <td>High Floor</td>\n",
       "    </tr>\n",
       "    <tr>\n",
       "      <th>734</th>\n",
       "      <td>New Town</td>\n",
       "      <td>2.0</td>\n",
       "      <td>1.0</td>\n",
       "      <td>957</td>\n",
       "      <td>Old Property</td>\n",
       "      <td>Unfurnished</td>\n",
       "      <td>Medium</td>\n",
       "      <td>Low Floor</td>\n",
       "    </tr>\n",
       "    <tr>\n",
       "      <th>763</th>\n",
       "      <td>Narendrapur</td>\n",
       "      <td>5.0</td>\n",
       "      <td>2.0</td>\n",
       "      <td>2848</td>\n",
       "      <td>Old Property</td>\n",
       "      <td>Unfurnished</td>\n",
       "      <td>Medium</td>\n",
       "      <td>Low Floor</td>\n",
       "    </tr>\n",
       "    <tr>\n",
       "      <th>3931</th>\n",
       "      <td>Ballygunge</td>\n",
       "      <td>4.0</td>\n",
       "      <td>1.0</td>\n",
       "      <td>3160</td>\n",
       "      <td>Old Property</td>\n",
       "      <td>Fully furnished</td>\n",
       "      <td>Medium</td>\n",
       "      <td>Mid Floor</td>\n",
       "    </tr>\n",
       "    <tr>\n",
       "      <th>4945</th>\n",
       "      <td>New Alipore</td>\n",
       "      <td>4.0</td>\n",
       "      <td>1.0</td>\n",
       "      <td>1974</td>\n",
       "      <td>Old Property</td>\n",
       "      <td>Fully furnished</td>\n",
       "      <td>Medium</td>\n",
       "      <td>Mid Floor</td>\n",
       "    </tr>\n",
       "    <tr>\n",
       "      <th>1126</th>\n",
       "      <td>Khardah</td>\n",
       "      <td>2.0</td>\n",
       "      <td>1.0</td>\n",
       "      <td>870</td>\n",
       "      <td>Relatively New Property</td>\n",
       "      <td>Fully furnished</td>\n",
       "      <td>Medium</td>\n",
       "      <td>Mid Floor</td>\n",
       "    </tr>\n",
       "    <tr>\n",
       "      <th>4129</th>\n",
       "      <td>Rabindra Sarova Metro</td>\n",
       "      <td>2.0</td>\n",
       "      <td>1.0</td>\n",
       "      <td>960</td>\n",
       "      <td>New Property</td>\n",
       "      <td>Fully furnished</td>\n",
       "      <td>Low</td>\n",
       "      <td>Low Floor</td>\n",
       "    </tr>\n",
       "    <tr>\n",
       "      <th>3976</th>\n",
       "      <td>Baguiati</td>\n",
       "      <td>2.0</td>\n",
       "      <td>1.0</td>\n",
       "      <td>851</td>\n",
       "      <td>Old Property</td>\n",
       "      <td>Fully furnished</td>\n",
       "      <td>Low</td>\n",
       "      <td>Mid Floor</td>\n",
       "    </tr>\n",
       "    <tr>\n",
       "      <th>3484</th>\n",
       "      <td>Baguiati</td>\n",
       "      <td>2.0</td>\n",
       "      <td>1.0</td>\n",
       "      <td>800</td>\n",
       "      <td>Relatively New Property</td>\n",
       "      <td>Fully furnished</td>\n",
       "      <td>Low</td>\n",
       "      <td>Low Floor</td>\n",
       "    </tr>\n",
       "    <tr>\n",
       "      <th>3285</th>\n",
       "      <td>New Town</td>\n",
       "      <td>3.0</td>\n",
       "      <td>1.0</td>\n",
       "      <td>996</td>\n",
       "      <td>Old Property</td>\n",
       "      <td>Fully furnished</td>\n",
       "      <td>High</td>\n",
       "      <td>High Floor</td>\n",
       "    </tr>\n",
       "    <tr>\n",
       "      <th>944</th>\n",
       "      <td>Thakurpukur Bazar</td>\n",
       "      <td>5.0</td>\n",
       "      <td>2.0</td>\n",
       "      <td>1800</td>\n",
       "      <td>Moderately Old</td>\n",
       "      <td>Fully furnished</td>\n",
       "      <td>Medium</td>\n",
       "      <td>Low Floor</td>\n",
       "    </tr>\n",
       "    <tr>\n",
       "      <th>4196</th>\n",
       "      <td>Rajpur</td>\n",
       "      <td>2.0</td>\n",
       "      <td>1.0</td>\n",
       "      <td>764</td>\n",
       "      <td>Relatively New Property</td>\n",
       "      <td>Fully furnished</td>\n",
       "      <td>Low</td>\n",
       "      <td>Mid Floor</td>\n",
       "    </tr>\n",
       "    <tr>\n",
       "      <th>2406</th>\n",
       "      <td>Garia</td>\n",
       "      <td>2.0</td>\n",
       "      <td>1.0</td>\n",
       "      <td>725</td>\n",
       "      <td>Relatively New Property</td>\n",
       "      <td>Fully furnished</td>\n",
       "      <td>Medium</td>\n",
       "      <td>Low Floor</td>\n",
       "    </tr>\n",
       "    <tr>\n",
       "      <th>2718</th>\n",
       "      <td>Rajarhat</td>\n",
       "      <td>3.0</td>\n",
       "      <td>1.0</td>\n",
       "      <td>1285</td>\n",
       "      <td>Old Property</td>\n",
       "      <td>Fully furnished</td>\n",
       "      <td>High</td>\n",
       "      <td>Mid Floor</td>\n",
       "    </tr>\n",
       "    <tr>\n",
       "      <th>4347</th>\n",
       "      <td>Action Area 3</td>\n",
       "      <td>1.0</td>\n",
       "      <td>1.0</td>\n",
       "      <td>437</td>\n",
       "      <td>Relatively New Property</td>\n",
       "      <td>Fully furnished</td>\n",
       "      <td>Medium</td>\n",
       "      <td>Low Floor</td>\n",
       "    </tr>\n",
       "    <tr>\n",
       "      <th>346</th>\n",
       "      <td>Rajarhat</td>\n",
       "      <td>3.0</td>\n",
       "      <td>1.0</td>\n",
       "      <td>1030</td>\n",
       "      <td>Old Property</td>\n",
       "      <td>Unfurnished</td>\n",
       "      <td>Medium</td>\n",
       "      <td>Low Floor</td>\n",
       "    </tr>\n",
       "    <tr>\n",
       "      <th>1420</th>\n",
       "      <td>Lake Gardens</td>\n",
       "      <td>2.0</td>\n",
       "      <td>1.0</td>\n",
       "      <td>770</td>\n",
       "      <td>Relatively New Property</td>\n",
       "      <td>Fully furnished</td>\n",
       "      <td>High</td>\n",
       "      <td>Low Floor</td>\n",
       "    </tr>\n",
       "    <tr>\n",
       "      <th>471</th>\n",
       "      <td>Rajarhat</td>\n",
       "      <td>2.0</td>\n",
       "      <td>1.0</td>\n",
       "      <td>910</td>\n",
       "      <td>Old Property</td>\n",
       "      <td>Unfurnished</td>\n",
       "      <td>Medium</td>\n",
       "      <td>Low Floor</td>\n",
       "    </tr>\n",
       "    <tr>\n",
       "      <th>1261</th>\n",
       "      <td>Em Bypass</td>\n",
       "      <td>3.0</td>\n",
       "      <td>2.0</td>\n",
       "      <td>1350</td>\n",
       "      <td>Moderately Old</td>\n",
       "      <td>Fully furnished</td>\n",
       "      <td>Medium</td>\n",
       "      <td>Low Floor</td>\n",
       "    </tr>\n",
       "    <tr>\n",
       "      <th>3805</th>\n",
       "      <td>Airport</td>\n",
       "      <td>3.0</td>\n",
       "      <td>1.0</td>\n",
       "      <td>1052</td>\n",
       "      <td>Relatively New Property</td>\n",
       "      <td>Fully furnished</td>\n",
       "      <td>Low</td>\n",
       "      <td>Mid Floor</td>\n",
       "    </tr>\n",
       "    <tr>\n",
       "      <th>3878</th>\n",
       "      <td>New Town</td>\n",
       "      <td>3.0</td>\n",
       "      <td>2.0</td>\n",
       "      <td>1250</td>\n",
       "      <td>Relatively New Property</td>\n",
       "      <td>Fully furnished</td>\n",
       "      <td>Low</td>\n",
       "      <td>Low Floor</td>\n",
       "    </tr>\n",
       "    <tr>\n",
       "      <th>2346</th>\n",
       "      <td>Action Area 1</td>\n",
       "      <td>3.0</td>\n",
       "      <td>1.0</td>\n",
       "      <td>1100</td>\n",
       "      <td>Relatively New Property</td>\n",
       "      <td>Fully furnished</td>\n",
       "      <td>Low</td>\n",
       "      <td>Low Floor</td>\n",
       "    </tr>\n",
       "    <tr>\n",
       "      <th>2002</th>\n",
       "      <td>Durganagar</td>\n",
       "      <td>3.0</td>\n",
       "      <td>1.0</td>\n",
       "      <td>1079</td>\n",
       "      <td>Relatively New Property</td>\n",
       "      <td>Fully furnished</td>\n",
       "      <td>Medium</td>\n",
       "      <td>Mid Floor</td>\n",
       "    </tr>\n",
       "    <tr>\n",
       "      <th>4829</th>\n",
       "      <td>Rajarhat</td>\n",
       "      <td>3.0</td>\n",
       "      <td>1.0</td>\n",
       "      <td>1227</td>\n",
       "      <td>Relatively New Property</td>\n",
       "      <td>Fully furnished</td>\n",
       "      <td>Medium</td>\n",
       "      <td>Mid Floor</td>\n",
       "    </tr>\n",
       "    <tr>\n",
       "      <th>4005</th>\n",
       "      <td>Dover Terrace</td>\n",
       "      <td>2.0</td>\n",
       "      <td>1.0</td>\n",
       "      <td>1356</td>\n",
       "      <td>Relatively New Property</td>\n",
       "      <td>Fully furnished</td>\n",
       "      <td>Low</td>\n",
       "      <td>Mid Floor</td>\n",
       "    </tr>\n",
       "    <tr>\n",
       "      <th>4894</th>\n",
       "      <td>New Town Action Area 2B</td>\n",
       "      <td>3.0</td>\n",
       "      <td>2.0</td>\n",
       "      <td>1480</td>\n",
       "      <td>Old Property</td>\n",
       "      <td>Fully furnished</td>\n",
       "      <td>Medium</td>\n",
       "      <td>Low Floor</td>\n",
       "    </tr>\n",
       "    <tr>\n",
       "      <th>1049</th>\n",
       "      <td>Narendrapur</td>\n",
       "      <td>3.0</td>\n",
       "      <td>1.0</td>\n",
       "      <td>1100</td>\n",
       "      <td>Moderately Old</td>\n",
       "      <td>Luxury furnished</td>\n",
       "      <td>Medium</td>\n",
       "      <td>Low Floor</td>\n",
       "    </tr>\n",
       "  </tbody>\n",
       "</table>\n",
       "</div>"
      ],
      "text/plain": [
       "                     location  BEDROOM_NUM  BALCONY_NUM  AREA  \\\n",
       "1176                Bansdroni          3.0          1.0  1162   \n",
       "3362                 Kestopur          2.0          1.0   711   \n",
       "1090                 New Town          4.0          4.0  1925   \n",
       "4815                    Garia          2.0          2.0   881   \n",
       "4373                     Joka          3.0          3.0  1129   \n",
       "279                 Lake Town          2.0          1.0   765   \n",
       "996               Madhyamgram          4.0          2.0  1588   \n",
       "584                 Majarhati          3.0          1.0   814   \n",
       "1485                Kamalgazi          3.0          1.0  1530   \n",
       "3922               Minto Park          3.0          0.0  2329   \n",
       "2771               Tollygunge          3.0          1.0  1326   \n",
       "3647            Mahish Bathan          2.0          1.0   780   \n",
       "4414                Salt Lake          3.0          1.0  1657   \n",
       "4006              Rash Behari          2.0          1.0  1294   \n",
       "3940              Madhyamgram          2.0          1.0   882   \n",
       "1612             Diamond Park          1.0          1.0   447   \n",
       "3193                  Nayabad          3.0          1.0  1079   \n",
       "472                  Rajarhat          1.0          1.0   630   \n",
       "4775            Action Area 2          3.0          2.0  1250   \n",
       "1580                Em Bypass          2.0          1.0  1152   \n",
       "969                  Baruipur          2.0          1.0   650   \n",
       "2224              Chinar Park          2.0          1.0   911   \n",
       "3877                 New Town          3.0          1.0  1260   \n",
       "4966                Em Bypass          2.0          1.0   792   \n",
       "751                 Lake Town          2.0          1.0   900   \n",
       "4409                 New Town          4.0          4.0  3114   \n",
       "734                  New Town          2.0          1.0   957   \n",
       "763               Narendrapur          5.0          2.0  2848   \n",
       "3931               Ballygunge          4.0          1.0  3160   \n",
       "4945              New Alipore          4.0          1.0  1974   \n",
       "1126                  Khardah          2.0          1.0   870   \n",
       "4129    Rabindra Sarova Metro          2.0          1.0   960   \n",
       "3976                 Baguiati          2.0          1.0   851   \n",
       "3484                 Baguiati          2.0          1.0   800   \n",
       "3285                 New Town          3.0          1.0   996   \n",
       "944         Thakurpukur Bazar          5.0          2.0  1800   \n",
       "4196                   Rajpur          2.0          1.0   764   \n",
       "2406                    Garia          2.0          1.0   725   \n",
       "2718                 Rajarhat          3.0          1.0  1285   \n",
       "4347            Action Area 3          1.0          1.0   437   \n",
       "346                  Rajarhat          3.0          1.0  1030   \n",
       "1420             Lake Gardens          2.0          1.0   770   \n",
       "471                  Rajarhat          2.0          1.0   910   \n",
       "1261                Em Bypass          3.0          2.0  1350   \n",
       "3805                  Airport          3.0          1.0  1052   \n",
       "3878                 New Town          3.0          2.0  1250   \n",
       "2346            Action Area 1          3.0          1.0  1100   \n",
       "2002               Durganagar          3.0          1.0  1079   \n",
       "4829                 Rajarhat          3.0          1.0  1227   \n",
       "4005            Dover Terrace          2.0          1.0  1356   \n",
       "4894  New Town Action Area 2B          3.0          2.0  1480   \n",
       "1049              Narendrapur          3.0          1.0  1100   \n",
       "\n",
       "                          AGE           FURNISH amenity_luxury   FLOOR_NUM  \n",
       "1176  Relatively New Property   Fully furnished         Medium   Mid Floor  \n",
       "3362             New Property   Fully furnished            Low   Low Floor  \n",
       "1090             Old Property   Fully furnished           High  High Floor  \n",
       "4815             Old Property   Fully furnished            Low   Mid Floor  \n",
       "4373  Relatively New Property   Fully furnished           High   Mid Floor  \n",
       "279   Relatively New Property    Semi-furnished           High   Low Floor  \n",
       "996              Old Property       Unfurnished         Medium   Low Floor  \n",
       "584              Old Property   Fully furnished         Medium   Mid Floor  \n",
       "1485  Relatively New Property  Luxury furnished         Medium   Mid Floor  \n",
       "3922             Old Property   Fully furnished         Medium   Mid Floor  \n",
       "2771             Old Property   Fully furnished            Low  High Floor  \n",
       "3647             Old Property   Fully furnished         Medium   Mid Floor  \n",
       "4414  Relatively New Property    Semi-furnished           High  High Floor  \n",
       "4006  Relatively New Property   Fully furnished            Low   Mid Floor  \n",
       "3940  Relatively New Property   Fully furnished           High   Low Floor  \n",
       "1612             Old Property   Fully furnished            Low   Low Floor  \n",
       "3193             Old Property   Fully furnished           High   Low Floor  \n",
       "472              Old Property       Unfurnished         Medium   Low Floor  \n",
       "4775             Old Property   Fully furnished            Low   Mid Floor  \n",
       "1580             Old Property   Fully furnished            Low  High Floor  \n",
       "969              New Property   Fully furnished            Low   Low Floor  \n",
       "2224  Relatively New Property   Fully furnished         Medium   Low Floor  \n",
       "3877             Old Property   Fully furnished            Low   Low Floor  \n",
       "4966             Old Property   Fully furnished           High   Mid Floor  \n",
       "751            Moderately Old  Luxury furnished         Medium   Mid Floor  \n",
       "4409  Relatively New Property   Fully furnished           High  High Floor  \n",
       "734              Old Property       Unfurnished         Medium   Low Floor  \n",
       "763              Old Property       Unfurnished         Medium   Low Floor  \n",
       "3931             Old Property   Fully furnished         Medium   Mid Floor  \n",
       "4945             Old Property   Fully furnished         Medium   Mid Floor  \n",
       "1126  Relatively New Property   Fully furnished         Medium   Mid Floor  \n",
       "4129             New Property   Fully furnished            Low   Low Floor  \n",
       "3976             Old Property   Fully furnished            Low   Mid Floor  \n",
       "3484  Relatively New Property   Fully furnished            Low   Low Floor  \n",
       "3285             Old Property   Fully furnished           High  High Floor  \n",
       "944            Moderately Old   Fully furnished         Medium   Low Floor  \n",
       "4196  Relatively New Property   Fully furnished            Low   Mid Floor  \n",
       "2406  Relatively New Property   Fully furnished         Medium   Low Floor  \n",
       "2718             Old Property   Fully furnished           High   Mid Floor  \n",
       "4347  Relatively New Property   Fully furnished         Medium   Low Floor  \n",
       "346              Old Property       Unfurnished         Medium   Low Floor  \n",
       "1420  Relatively New Property   Fully furnished           High   Low Floor  \n",
       "471              Old Property       Unfurnished         Medium   Low Floor  \n",
       "1261           Moderately Old   Fully furnished         Medium   Low Floor  \n",
       "3805  Relatively New Property   Fully furnished            Low   Mid Floor  \n",
       "3878  Relatively New Property   Fully furnished            Low   Low Floor  \n",
       "2346  Relatively New Property   Fully furnished            Low   Low Floor  \n",
       "2002  Relatively New Property   Fully furnished         Medium   Mid Floor  \n",
       "4829  Relatively New Property   Fully furnished         Medium   Mid Floor  \n",
       "4005  Relatively New Property   Fully furnished            Low   Mid Floor  \n",
       "4894             Old Property   Fully furnished         Medium   Low Floor  \n",
       "1049           Moderately Old  Luxury furnished         Medium   Low Floor  "
      ]
     },
     "execution_count": 23,
     "metadata": {},
     "output_type": "execute_result"
    }
   ],
   "source": [
    "x_test"
   ]
  },
  {
   "cell_type": "code",
   "execution_count": 9,
   "id": "d8b12159-a89b-41b2-b68d-5b133c89dffc",
   "metadata": {},
   "outputs": [
    {
     "data": {
      "text/html": [
       "<div>\n",
       "<style scoped>\n",
       "    .dataframe tbody tr th:only-of-type {\n",
       "        vertical-align: middle;\n",
       "    }\n",
       "\n",
       "    .dataframe tbody tr th {\n",
       "        vertical-align: top;\n",
       "    }\n",
       "\n",
       "    .dataframe thead th {\n",
       "        text-align: right;\n",
       "    }\n",
       "</style>\n",
       "<table border=\"1\" class=\"dataframe\">\n",
       "  <thead>\n",
       "    <tr style=\"text-align: right;\">\n",
       "      <th></th>\n",
       "      <th>location</th>\n",
       "      <th>BEDROOM_NUM</th>\n",
       "      <th>BALCONY_NUM</th>\n",
       "      <th>AREA</th>\n",
       "      <th>PRICE</th>\n",
       "      <th>AGE</th>\n",
       "      <th>FURNISH</th>\n",
       "      <th>amenity_luxury</th>\n",
       "      <th>FLOOR_NUM</th>\n",
       "    </tr>\n",
       "  </thead>\n",
       "  <tbody>\n",
       "    <tr>\n",
       "      <th>0</th>\n",
       "      <td>Madhyamgram</td>\n",
       "      <td>2.0</td>\n",
       "      <td>1.0</td>\n",
       "      <td>920</td>\n",
       "      <td>0.39</td>\n",
       "      <td>Old Property</td>\n",
       "      <td>Unfurnished</td>\n",
       "      <td>Medium</td>\n",
       "      <td>Low Floor</td>\n",
       "    </tr>\n",
       "    <tr>\n",
       "      <th>1</th>\n",
       "      <td>Garia</td>\n",
       "      <td>1.0</td>\n",
       "      <td>1.0</td>\n",
       "      <td>535</td>\n",
       "      <td>0.27</td>\n",
       "      <td>Old Property</td>\n",
       "      <td>Unfurnished</td>\n",
       "      <td>Medium</td>\n",
       "      <td>Low Floor</td>\n",
       "    </tr>\n",
       "    <tr>\n",
       "      <th>2</th>\n",
       "      <td>Rajarhat</td>\n",
       "      <td>4.0</td>\n",
       "      <td>2.0</td>\n",
       "      <td>1940</td>\n",
       "      <td>0.92</td>\n",
       "      <td>Old Property</td>\n",
       "      <td>Unfurnished</td>\n",
       "      <td>Medium</td>\n",
       "      <td>Low Floor</td>\n",
       "    </tr>\n",
       "    <tr>\n",
       "      <th>3</th>\n",
       "      <td>Rajarhat</td>\n",
       "      <td>2.0</td>\n",
       "      <td>1.0</td>\n",
       "      <td>910</td>\n",
       "      <td>0.42</td>\n",
       "      <td>Old Property</td>\n",
       "      <td>Unfurnished</td>\n",
       "      <td>Medium</td>\n",
       "      <td>Low Floor</td>\n",
       "    </tr>\n",
       "    <tr>\n",
       "      <th>4</th>\n",
       "      <td>New Town</td>\n",
       "      <td>3.0</td>\n",
       "      <td>1.0</td>\n",
       "      <td>1163</td>\n",
       "      <td>0.55</td>\n",
       "      <td>Old Property</td>\n",
       "      <td>Unfurnished</td>\n",
       "      <td>Medium</td>\n",
       "      <td>Low Floor</td>\n",
       "    </tr>\n",
       "    <tr>\n",
       "      <th>...</th>\n",
       "      <td>...</td>\n",
       "      <td>...</td>\n",
       "      <td>...</td>\n",
       "      <td>...</td>\n",
       "      <td>...</td>\n",
       "      <td>...</td>\n",
       "      <td>...</td>\n",
       "      <td>...</td>\n",
       "      <td>...</td>\n",
       "    </tr>\n",
       "    <tr>\n",
       "      <th>5143</th>\n",
       "      <td>Behala</td>\n",
       "      <td>2.0</td>\n",
       "      <td>1.0</td>\n",
       "      <td>730</td>\n",
       "      <td>0.33</td>\n",
       "      <td>Relatively New Property</td>\n",
       "      <td>Fully furnished</td>\n",
       "      <td>Medium</td>\n",
       "      <td>Low Floor</td>\n",
       "    </tr>\n",
       "    <tr>\n",
       "      <th>5144</th>\n",
       "      <td>New Alipore</td>\n",
       "      <td>3.0</td>\n",
       "      <td>1.0</td>\n",
       "      <td>2000</td>\n",
       "      <td>1.80</td>\n",
       "      <td>Moderately Old</td>\n",
       "      <td>Luxury furnished</td>\n",
       "      <td>Low</td>\n",
       "      <td>Low Floor</td>\n",
       "    </tr>\n",
       "    <tr>\n",
       "      <th>5145</th>\n",
       "      <td>Chak Garia</td>\n",
       "      <td>3.0</td>\n",
       "      <td>2.0</td>\n",
       "      <td>1843</td>\n",
       "      <td>1.55</td>\n",
       "      <td>New Property</td>\n",
       "      <td>Luxury furnished</td>\n",
       "      <td>Low</td>\n",
       "      <td>High Floor</td>\n",
       "    </tr>\n",
       "    <tr>\n",
       "      <th>5146</th>\n",
       "      <td>Chak Garia</td>\n",
       "      <td>3.0</td>\n",
       "      <td>2.0</td>\n",
       "      <td>2079</td>\n",
       "      <td>1.75</td>\n",
       "      <td>New Property</td>\n",
       "      <td>Luxury furnished</td>\n",
       "      <td>Low</td>\n",
       "      <td>Mid Floor</td>\n",
       "    </tr>\n",
       "    <tr>\n",
       "      <th>5147</th>\n",
       "      <td>New Town</td>\n",
       "      <td>2.0</td>\n",
       "      <td>1.0</td>\n",
       "      <td>1257</td>\n",
       "      <td>0.74</td>\n",
       "      <td>New Property</td>\n",
       "      <td>Fully furnished</td>\n",
       "      <td>High</td>\n",
       "      <td>Mid Floor</td>\n",
       "    </tr>\n",
       "  </tbody>\n",
       "</table>\n",
       "<p>5148 rows × 9 columns</p>\n",
       "</div>"
      ],
      "text/plain": [
       "         location  BEDROOM_NUM  BALCONY_NUM  AREA  PRICE  \\\n",
       "0     Madhyamgram          2.0          1.0   920   0.39   \n",
       "1           Garia          1.0          1.0   535   0.27   \n",
       "2        Rajarhat          4.0          2.0  1940   0.92   \n",
       "3        Rajarhat          2.0          1.0   910   0.42   \n",
       "4        New Town          3.0          1.0  1163   0.55   \n",
       "...           ...          ...          ...   ...    ...   \n",
       "5143       Behala          2.0          1.0   730   0.33   \n",
       "5144  New Alipore          3.0          1.0  2000   1.80   \n",
       "5145   Chak Garia          3.0          2.0  1843   1.55   \n",
       "5146   Chak Garia          3.0          2.0  2079   1.75   \n",
       "5147     New Town          2.0          1.0  1257   0.74   \n",
       "\n",
       "                          AGE           FURNISH amenity_luxury   FLOOR_NUM  \n",
       "0                Old Property       Unfurnished         Medium   Low Floor  \n",
       "1                Old Property       Unfurnished         Medium   Low Floor  \n",
       "2                Old Property       Unfurnished         Medium   Low Floor  \n",
       "3                Old Property       Unfurnished         Medium   Low Floor  \n",
       "4                Old Property       Unfurnished         Medium   Low Floor  \n",
       "...                       ...               ...            ...         ...  \n",
       "5143  Relatively New Property   Fully furnished         Medium   Low Floor  \n",
       "5144           Moderately Old  Luxury furnished            Low   Low Floor  \n",
       "5145             New Property  Luxury furnished            Low  High Floor  \n",
       "5146             New Property  Luxury furnished            Low   Mid Floor  \n",
       "5147             New Property   Fully furnished           High   Mid Floor  \n",
       "\n",
       "[5148 rows x 9 columns]"
      ]
     },
     "execution_count": 9,
     "metadata": {},
     "output_type": "execute_result"
    }
   ],
   "source": [
    "df"
   ]
  },
  {
   "cell_type": "code",
   "execution_count": 13,
   "id": "8c8e1ec0-b940-495b-a74a-de01b4012bd2",
   "metadata": {},
   "outputs": [],
   "source": [
    "import pickle\n",
    "\n",
    "pickle.dump(df,open('df.pkl','wb'))"
   ]
  },
  {
   "cell_type": "code",
   "execution_count": 11,
   "id": "a546f2a7-2cfc-4642-8215-25b60c454703",
   "metadata": {},
   "outputs": [
    {
     "data": {
      "application/vnd.plotly.v1+json": {
       "config": {
        "plotlyServerURL": "https://plot.ly"
       },
       "data": [
        {
         "alignmentgroup": "True",
         "hovertemplate": "Residuals=%{y}<extra></extra>",
         "legendgroup": "",
         "marker": {
          "color": "#636efa"
         },
         "name": "",
         "notched": false,
         "offsetgroup": "",
         "orientation": "v",
         "showlegend": false,
         "type": "box",
         "x0": " ",
         "xaxis": "x",
         "y": [
          0.27,
          -0.02,
          -0.11,
          0.13,
          -0.01,
          -0.08,
          -0.05,
          0.08,
          0.16,
          -0.16,
          0.08,
          0,
          0.63,
          0.38,
          -0.03,
          -0.03,
          0,
          0,
          -0.06,
          0.12,
          -0.12,
          -0.18,
          -0.21,
          -0.14,
          -0.09,
          0.2,
          0.07,
          -0.61,
          -0.64,
          -0.05,
          0.15,
          -0.02,
          0,
          0.28,
          -0.22,
          0.05,
          -0.05,
          0.12,
          0,
          0.01,
          0.13,
          0,
          -0.04,
          -0.03,
          0.23,
          0,
          -0.1,
          -0.32,
          0.25,
          0.03,
          0.07
         ],
         "y0": " ",
         "yaxis": "y"
        }
       ],
       "layout": {
        "autosize": true,
        "boxmode": "group",
        "legend": {
         "tracegroupgap": 0
        },
        "template": {
         "data": {
          "bar": [
           {
            "error_x": {
             "color": "#2a3f5f"
            },
            "error_y": {
             "color": "#2a3f5f"
            },
            "marker": {
             "line": {
              "color": "#E5ECF6",
              "width": 0.5
             },
             "pattern": {
              "fillmode": "overlay",
              "size": 10,
              "solidity": 0.2
             }
            },
            "type": "bar"
           }
          ],
          "barpolar": [
           {
            "marker": {
             "line": {
              "color": "#E5ECF6",
              "width": 0.5
             },
             "pattern": {
              "fillmode": "overlay",
              "size": 10,
              "solidity": 0.2
             }
            },
            "type": "barpolar"
           }
          ],
          "carpet": [
           {
            "aaxis": {
             "endlinecolor": "#2a3f5f",
             "gridcolor": "white",
             "linecolor": "white",
             "minorgridcolor": "white",
             "startlinecolor": "#2a3f5f"
            },
            "baxis": {
             "endlinecolor": "#2a3f5f",
             "gridcolor": "white",
             "linecolor": "white",
             "minorgridcolor": "white",
             "startlinecolor": "#2a3f5f"
            },
            "type": "carpet"
           }
          ],
          "choropleth": [
           {
            "colorbar": {
             "outlinewidth": 0,
             "ticks": ""
            },
            "type": "choropleth"
           }
          ],
          "contour": [
           {
            "colorbar": {
             "outlinewidth": 0,
             "ticks": ""
            },
            "colorscale": [
             [
              0,
              "#0d0887"
             ],
             [
              0.1111111111111111,
              "#46039f"
             ],
             [
              0.2222222222222222,
              "#7201a8"
             ],
             [
              0.3333333333333333,
              "#9c179e"
             ],
             [
              0.4444444444444444,
              "#bd3786"
             ],
             [
              0.5555555555555556,
              "#d8576b"
             ],
             [
              0.6666666666666666,
              "#ed7953"
             ],
             [
              0.7777777777777778,
              "#fb9f3a"
             ],
             [
              0.8888888888888888,
              "#fdca26"
             ],
             [
              1,
              "#f0f921"
             ]
            ],
            "type": "contour"
           }
          ],
          "contourcarpet": [
           {
            "colorbar": {
             "outlinewidth": 0,
             "ticks": ""
            },
            "type": "contourcarpet"
           }
          ],
          "heatmap": [
           {
            "colorbar": {
             "outlinewidth": 0,
             "ticks": ""
            },
            "colorscale": [
             [
              0,
              "#0d0887"
             ],
             [
              0.1111111111111111,
              "#46039f"
             ],
             [
              0.2222222222222222,
              "#7201a8"
             ],
             [
              0.3333333333333333,
              "#9c179e"
             ],
             [
              0.4444444444444444,
              "#bd3786"
             ],
             [
              0.5555555555555556,
              "#d8576b"
             ],
             [
              0.6666666666666666,
              "#ed7953"
             ],
             [
              0.7777777777777778,
              "#fb9f3a"
             ],
             [
              0.8888888888888888,
              "#fdca26"
             ],
             [
              1,
              "#f0f921"
             ]
            ],
            "type": "heatmap"
           }
          ],
          "heatmapgl": [
           {
            "colorbar": {
             "outlinewidth": 0,
             "ticks": ""
            },
            "colorscale": [
             [
              0,
              "#0d0887"
             ],
             [
              0.1111111111111111,
              "#46039f"
             ],
             [
              0.2222222222222222,
              "#7201a8"
             ],
             [
              0.3333333333333333,
              "#9c179e"
             ],
             [
              0.4444444444444444,
              "#bd3786"
             ],
             [
              0.5555555555555556,
              "#d8576b"
             ],
             [
              0.6666666666666666,
              "#ed7953"
             ],
             [
              0.7777777777777778,
              "#fb9f3a"
             ],
             [
              0.8888888888888888,
              "#fdca26"
             ],
             [
              1,
              "#f0f921"
             ]
            ],
            "type": "heatmapgl"
           }
          ],
          "histogram": [
           {
            "marker": {
             "pattern": {
              "fillmode": "overlay",
              "size": 10,
              "solidity": 0.2
             }
            },
            "type": "histogram"
           }
          ],
          "histogram2d": [
           {
            "colorbar": {
             "outlinewidth": 0,
             "ticks": ""
            },
            "colorscale": [
             [
              0,
              "#0d0887"
             ],
             [
              0.1111111111111111,
              "#46039f"
             ],
             [
              0.2222222222222222,
              "#7201a8"
             ],
             [
              0.3333333333333333,
              "#9c179e"
             ],
             [
              0.4444444444444444,
              "#bd3786"
             ],
             [
              0.5555555555555556,
              "#d8576b"
             ],
             [
              0.6666666666666666,
              "#ed7953"
             ],
             [
              0.7777777777777778,
              "#fb9f3a"
             ],
             [
              0.8888888888888888,
              "#fdca26"
             ],
             [
              1,
              "#f0f921"
             ]
            ],
            "type": "histogram2d"
           }
          ],
          "histogram2dcontour": [
           {
            "colorbar": {
             "outlinewidth": 0,
             "ticks": ""
            },
            "colorscale": [
             [
              0,
              "#0d0887"
             ],
             [
              0.1111111111111111,
              "#46039f"
             ],
             [
              0.2222222222222222,
              "#7201a8"
             ],
             [
              0.3333333333333333,
              "#9c179e"
             ],
             [
              0.4444444444444444,
              "#bd3786"
             ],
             [
              0.5555555555555556,
              "#d8576b"
             ],
             [
              0.6666666666666666,
              "#ed7953"
             ],
             [
              0.7777777777777778,
              "#fb9f3a"
             ],
             [
              0.8888888888888888,
              "#fdca26"
             ],
             [
              1,
              "#f0f921"
             ]
            ],
            "type": "histogram2dcontour"
           }
          ],
          "mesh3d": [
           {
            "colorbar": {
             "outlinewidth": 0,
             "ticks": ""
            },
            "type": "mesh3d"
           }
          ],
          "parcoords": [
           {
            "line": {
             "colorbar": {
              "outlinewidth": 0,
              "ticks": ""
             }
            },
            "type": "parcoords"
           }
          ],
          "pie": [
           {
            "automargin": true,
            "type": "pie"
           }
          ],
          "scatter": [
           {
            "fillpattern": {
             "fillmode": "overlay",
             "size": 10,
             "solidity": 0.2
            },
            "type": "scatter"
           }
          ],
          "scatter3d": [
           {
            "line": {
             "colorbar": {
              "outlinewidth": 0,
              "ticks": ""
             }
            },
            "marker": {
             "colorbar": {
              "outlinewidth": 0,
              "ticks": ""
             }
            },
            "type": "scatter3d"
           }
          ],
          "scattercarpet": [
           {
            "marker": {
             "colorbar": {
              "outlinewidth": 0,
              "ticks": ""
             }
            },
            "type": "scattercarpet"
           }
          ],
          "scattergeo": [
           {
            "marker": {
             "colorbar": {
              "outlinewidth": 0,
              "ticks": ""
             }
            },
            "type": "scattergeo"
           }
          ],
          "scattergl": [
           {
            "marker": {
             "colorbar": {
              "outlinewidth": 0,
              "ticks": ""
             }
            },
            "type": "scattergl"
           }
          ],
          "scattermapbox": [
           {
            "marker": {
             "colorbar": {
              "outlinewidth": 0,
              "ticks": ""
             }
            },
            "type": "scattermapbox"
           }
          ],
          "scatterpolar": [
           {
            "marker": {
             "colorbar": {
              "outlinewidth": 0,
              "ticks": ""
             }
            },
            "type": "scatterpolar"
           }
          ],
          "scatterpolargl": [
           {
            "marker": {
             "colorbar": {
              "outlinewidth": 0,
              "ticks": ""
             }
            },
            "type": "scatterpolargl"
           }
          ],
          "scatterternary": [
           {
            "marker": {
             "colorbar": {
              "outlinewidth": 0,
              "ticks": ""
             }
            },
            "type": "scatterternary"
           }
          ],
          "surface": [
           {
            "colorbar": {
             "outlinewidth": 0,
             "ticks": ""
            },
            "colorscale": [
             [
              0,
              "#0d0887"
             ],
             [
              0.1111111111111111,
              "#46039f"
             ],
             [
              0.2222222222222222,
              "#7201a8"
             ],
             [
              0.3333333333333333,
              "#9c179e"
             ],
             [
              0.4444444444444444,
              "#bd3786"
             ],
             [
              0.5555555555555556,
              "#d8576b"
             ],
             [
              0.6666666666666666,
              "#ed7953"
             ],
             [
              0.7777777777777778,
              "#fb9f3a"
             ],
             [
              0.8888888888888888,
              "#fdca26"
             ],
             [
              1,
              "#f0f921"
             ]
            ],
            "type": "surface"
           }
          ],
          "table": [
           {
            "cells": {
             "fill": {
              "color": "#EBF0F8"
             },
             "line": {
              "color": "white"
             }
            },
            "header": {
             "fill": {
              "color": "#C8D4E3"
             },
             "line": {
              "color": "white"
             }
            },
            "type": "table"
           }
          ]
         },
         "layout": {
          "annotationdefaults": {
           "arrowcolor": "#2a3f5f",
           "arrowhead": 0,
           "arrowwidth": 1
          },
          "autotypenumbers": "strict",
          "coloraxis": {
           "colorbar": {
            "outlinewidth": 0,
            "ticks": ""
           }
          },
          "colorscale": {
           "diverging": [
            [
             0,
             "#8e0152"
            ],
            [
             0.1,
             "#c51b7d"
            ],
            [
             0.2,
             "#de77ae"
            ],
            [
             0.3,
             "#f1b6da"
            ],
            [
             0.4,
             "#fde0ef"
            ],
            [
             0.5,
             "#f7f7f7"
            ],
            [
             0.6,
             "#e6f5d0"
            ],
            [
             0.7,
             "#b8e186"
            ],
            [
             0.8,
             "#7fbc41"
            ],
            [
             0.9,
             "#4d9221"
            ],
            [
             1,
             "#276419"
            ]
           ],
           "sequential": [
            [
             0,
             "#0d0887"
            ],
            [
             0.1111111111111111,
             "#46039f"
            ],
            [
             0.2222222222222222,
             "#7201a8"
            ],
            [
             0.3333333333333333,
             "#9c179e"
            ],
            [
             0.4444444444444444,
             "#bd3786"
            ],
            [
             0.5555555555555556,
             "#d8576b"
            ],
            [
             0.6666666666666666,
             "#ed7953"
            ],
            [
             0.7777777777777778,
             "#fb9f3a"
            ],
            [
             0.8888888888888888,
             "#fdca26"
            ],
            [
             1,
             "#f0f921"
            ]
           ],
           "sequentialminus": [
            [
             0,
             "#0d0887"
            ],
            [
             0.1111111111111111,
             "#46039f"
            ],
            [
             0.2222222222222222,
             "#7201a8"
            ],
            [
             0.3333333333333333,
             "#9c179e"
            ],
            [
             0.4444444444444444,
             "#bd3786"
            ],
            [
             0.5555555555555556,
             "#d8576b"
            ],
            [
             0.6666666666666666,
             "#ed7953"
            ],
            [
             0.7777777777777778,
             "#fb9f3a"
            ],
            [
             0.8888888888888888,
             "#fdca26"
            ],
            [
             1,
             "#f0f921"
            ]
           ]
          },
          "colorway": [
           "#636efa",
           "#EF553B",
           "#00cc96",
           "#ab63fa",
           "#FFA15A",
           "#19d3f3",
           "#FF6692",
           "#B6E880",
           "#FF97FF",
           "#FECB52"
          ],
          "font": {
           "color": "#2a3f5f"
          },
          "geo": {
           "bgcolor": "white",
           "lakecolor": "white",
           "landcolor": "#E5ECF6",
           "showlakes": true,
           "showland": true,
           "subunitcolor": "white"
          },
          "hoverlabel": {
           "align": "left"
          },
          "hovermode": "closest",
          "mapbox": {
           "style": "light"
          },
          "paper_bgcolor": "white",
          "plot_bgcolor": "#E5ECF6",
          "polar": {
           "angularaxis": {
            "gridcolor": "white",
            "linecolor": "white",
            "ticks": ""
           },
           "bgcolor": "#E5ECF6",
           "radialaxis": {
            "gridcolor": "white",
            "linecolor": "white",
            "ticks": ""
           }
          },
          "scene": {
           "xaxis": {
            "backgroundcolor": "#E5ECF6",
            "gridcolor": "white",
            "gridwidth": 2,
            "linecolor": "white",
            "showbackground": true,
            "ticks": "",
            "zerolinecolor": "white"
           },
           "yaxis": {
            "backgroundcolor": "#E5ECF6",
            "gridcolor": "white",
            "gridwidth": 2,
            "linecolor": "white",
            "showbackground": true,
            "ticks": "",
            "zerolinecolor": "white"
           },
           "zaxis": {
            "backgroundcolor": "#E5ECF6",
            "gridcolor": "white",
            "gridwidth": 2,
            "linecolor": "white",
            "showbackground": true,
            "ticks": "",
            "zerolinecolor": "white"
           }
          },
          "shapedefaults": {
           "line": {
            "color": "#2a3f5f"
           }
          },
          "ternary": {
           "aaxis": {
            "gridcolor": "white",
            "linecolor": "white",
            "ticks": ""
           },
           "baxis": {
            "gridcolor": "white",
            "linecolor": "white",
            "ticks": ""
           },
           "bgcolor": "#E5ECF6",
           "caxis": {
            "gridcolor": "white",
            "linecolor": "white",
            "ticks": ""
           }
          },
          "title": {
           "x": 0.05
          },
          "xaxis": {
           "automargin": true,
           "gridcolor": "white",
           "linecolor": "white",
           "ticks": "",
           "title": {
            "standoff": 15
           },
           "zerolinecolor": "white",
           "zerolinewidth": 2
          },
          "yaxis": {
           "automargin": true,
           "gridcolor": "white",
           "linecolor": "white",
           "ticks": "",
           "title": {
            "standoff": 15
           },
           "zerolinecolor": "white",
           "zerolinewidth": 2
          }
         }
        },
        "title": {
         "text": "Box Plot of Residuals"
        },
        "xaxis": {
         "anchor": "y",
         "autorange": true,
         "domain": [
          0,
          1
         ],
         "range": [
          -0.5,
          0.5
         ],
         "type": "category"
        },
        "yaxis": {
         "anchor": "x",
         "autorange": true,
         "domain": [
          0,
          1
         ],
         "range": [
          -0.7105555555555556,
          0.7005555555555556
         ],
         "title": {
          "text": "Residuals"
         },
         "type": "linear"
        }
       }
      },
      "image/png": "[encoded data removed]",
      "text/html": [
       "<div>                            <div id=\"5d779baa-254f-4cba-aa61-88630ce76d6d\" class=\"plotly-graph-div\" style=\"height:525px; width:100%;\"></div>            <script type=\"text/javascript\">                require([\"plotly\"], function(Plotly) {                    window.PLOTLYENV=window.PLOTLYENV || {};                                    if (document.getElementById(\"5d779baa-254f-4cba-aa61-88630ce76d6d\")) {                    Plotly.newPlot(                        \"5d779baa-254f-4cba-aa61-88630ce76d6d\",                        [{\"alignmentgroup\":\"True\",\"hovertemplate\":\"Residuals=%{y}\\u003cextra\\u003e\\u003c\\u002fextra\\u003e\",\"legendgroup\":\"\",\"marker\":{\"color\":\"#636efa\"},\"name\":\"\",\"notched\":false,\"offsetgroup\":\"\",\"orientation\":\"v\",\"showlegend\":false,\"x0\":\" \",\"xaxis\":\"x\",\"y\":[0.27,-0.02,-0.11,0.13,-0.01,-0.08,-0.05,0.08,0.16,-0.16,0.08,0.0,0.63,0.38,-0.03,-0.03,-0.0,0.0,-0.06,0.12,-0.12,-0.18,-0.21,-0.14,-0.09,0.2,0.07,-0.61,-0.64,-0.05,0.15,-0.02,-0.0,0.28,-0.22,0.05,-0.05,0.12,-0.0,0.01,0.13,0.0,-0.04,-0.03,0.23,-0.0,-0.1,-0.32,0.25,0.03,0.07],\"y0\":\" \",\"yaxis\":\"y\",\"type\":\"box\"}],                        {\"template\":{\"data\":{\"histogram2dcontour\":[{\"type\":\"histogram2dcontour\",\"colorbar\":{\"outlinewidth\":0,\"ticks\":\"\"},\"colorscale\":[[0.0,\"#0d0887\"],[0.1111111111111111,\"#46039f\"],[0.2222222222222222,\"#7201a8\"],[0.3333333333333333,\"#9c179e\"],[0.4444444444444444,\"#bd3786\"],[0.5555555555555556,\"#d8576b\"],[0.6666666666666666,\"#ed7953\"],[0.7777777777777778,\"#fb9f3a\"],[0.8888888888888888,\"#fdca26\"],[1.0,\"#f0f921\"]]}],\"choropleth\":[{\"type\":\"choropleth\",\"colorbar\":{\"outlinewidth\":0,\"ticks\":\"\"}}],\"histogram2d\":[{\"type\":\"histogram2d\",\"colorbar\":{\"outlinewidth\":0,\"ticks\":\"\"},\"colorscale\":[[0.0,\"#0d0887\"],[0.1111111111111111,\"#46039f\"],[0.2222222222222222,\"#7201a8\"],[0.3333333333333333,\"#9c179e\"],[0.4444444444444444,\"#bd3786\"],[0.5555555555555556,\"#d8576b\"],[0.6666666666666666,\"#ed7953\"],[0.7777777777777778,\"#fb9f3a\"],[0.8888888888888888,\"#fdca26\"],[1.0,\"#f0f921\"]]}],\"heatmap\":[{\"type\":\"heatmap\",\"colorbar\":{\"outlinewidth\":0,\"ticks\":\"\"},\"colorscale\":[[0.0,\"#0d0887\"],[0.1111111111111111,\"#46039f\"],[0.2222222222222222,\"#7201a8\"],[0.3333333333333333,\"#9c179e\"],[0.4444444444444444,\"#bd3786\"],[0.5555555555555556,\"#d8576b\"],[0.6666666666666666,\"#ed7953\"],[0.7777777777777778,\"#fb9f3a\"],[0.8888888888888888,\"#fdca26\"],[1.0,\"#f0f921\"]]}],\"heatmapgl\":[{\"type\":\"heatmapgl\",\"colorbar\":{\"outlinewidth\":0,\"ticks\":\"\"},\"colorscale\":[[0.0,\"#0d0887\"],[0.1111111111111111,\"#46039f\"],[0.2222222222222222,\"#7201a8\"],[0.3333333333333333,\"#9c179e\"],[0.4444444444444444,\"#bd3786\"],[0.5555555555555556,\"#d8576b\"],[0.6666666666666666,\"#ed7953\"],[0.7777777777777778,\"#fb9f3a\"],[0.8888888888888888,\"#fdca26\"],[1.0,\"#f0f921\"]]}],\"contourcarpet\":[{\"type\":\"contourcarpet\",\"colorbar\":{\"outlinewidth\":0,\"ticks\":\"\"}}],\"contour\":[{\"type\":\"contour\",\"colorbar\":{\"outlinewidth\":0,\"ticks\":\"\"},\"colorscale\":[[0.0,\"#0d0887\"],[0.1111111111111111,\"#46039f\"],[0.2222222222222222,\"#7201a8\"],[0.3333333333333333,\"#9c179e\"],[0.4444444444444444,\"#bd3786\"],[0.5555555555555556,\"#d8576b\"],[0.6666666666666666,\"#ed7953\"],[0.7777777777777778,\"#fb9f3a\"],[0.8888888888888888,\"#fdca26\"],[1.0,\"#f0f921\"]]}],\"surface\":[{\"type\":\"surface\",\"colorbar\":{\"outlinewidth\":0,\"ticks\":\"\"},\"colorscale\":[[0.0,\"#0d0887\"],[0.1111111111111111,\"#46039f\"],[0.2222222222222222,\"#7201a8\"],[0.3333333333333333,\"#9c179e\"],[0.4444444444444444,\"#bd3786\"],[0.5555555555555556,\"#d8576b\"],[0.6666666666666666,\"#ed7953\"],[0.7777777777777778,\"#fb9f3a\"],[0.8888888888888888,\"#fdca26\"],[1.0,\"#f0f921\"]]}],\"mesh3d\":[{\"type\":\"mesh3d\",\"colorbar\":{\"outlinewidth\":0,\"ticks\":\"\"}}],\"scatter\":[{\"fillpattern\":{\"fillmode\":\"overlay\",\"size\":10,\"solidity\":0.2},\"type\":\"scatter\"}],\"parcoords\":[{\"type\":\"parcoords\",\"line\":{\"colorbar\":{\"outlinewidth\":0,\"ticks\":\"\"}}}],\"scatterpolargl\":[{\"type\":\"scatterpolargl\",\"marker\":{\"colorbar\":{\"outlinewidth\":0,\"ticks\":\"\"}}}],\"bar\":[{\"error_x\":{\"color\":\"#2a3f5f\"},\"error_y\":{\"color\":\"#2a3f5f\"},\"marker\":{\"line\":{\"color\":\"#E5ECF6\",\"width\":0.5},\"pattern\":{\"fillmode\":\"overlay\",\"size\":10,\"solidity\":0.2}},\"type\":\"bar\"}],\"scattergeo\":[{\"type\":\"scattergeo\",\"marker\":{\"colorbar\":{\"outlinewidth\":0,\"ticks\":\"\"}}}],\"scatterpolar\":[{\"type\":\"scatterpolar\",\"marker\":{\"colorbar\":{\"outlinewidth\":0,\"ticks\":\"\"}}}],\"histogram\":[{\"marker\":{\"pattern\":{\"fillmode\":\"overlay\",\"size\":10,\"solidity\":0.2}},\"type\":\"histogram\"}],\"scattergl\":[{\"type\":\"scattergl\",\"marker\":{\"colorbar\":{\"outlinewidth\":0,\"ticks\":\"\"}}}],\"scatter3d\":[{\"type\":\"scatter3d\",\"line\":{\"colorbar\":{\"outlinewidth\":0,\"ticks\":\"\"}},\"marker\":{\"colorbar\":{\"outlinewidth\":0,\"ticks\":\"\"}}}],\"scattermapbox\":[{\"type\":\"scattermapbox\",\"marker\":{\"colorbar\":{\"outlinewidth\":0,\"ticks\":\"\"}}}],\"scatterternary\":[{\"type\":\"scatterternary\",\"marker\":{\"colorbar\":{\"outlinewidth\":0,\"ticks\":\"\"}}}],\"scattercarpet\":[{\"type\":\"scattercarpet\",\"marker\":{\"colorbar\":{\"outlinewidth\":0,\"ticks\":\"\"}}}],\"carpet\":[{\"aaxis\":{\"endlinecolor\":\"#2a3f5f\",\"gridcolor\":\"white\",\"linecolor\":\"white\",\"minorgridcolor\":\"white\",\"startlinecolor\":\"#2a3f5f\"},\"baxis\":{\"endlinecolor\":\"#2a3f5f\",\"gridcolor\":\"white\",\"linecolor\":\"white\",\"minorgridcolor\":\"white\",\"startlinecolor\":\"#2a3f5f\"},\"type\":\"carpet\"}],\"table\":[{\"cells\":{\"fill\":{\"color\":\"#EBF0F8\"},\"line\":{\"color\":\"white\"}},\"header\":{\"fill\":{\"color\":\"#C8D4E3\"},\"line\":{\"color\":\"white\"}},\"type\":\"table\"}],\"barpolar\":[{\"marker\":{\"line\":{\"color\":\"#E5ECF6\",\"width\":0.5},\"pattern\":{\"fillmode\":\"overlay\",\"size\":10,\"solidity\":0.2}},\"type\":\"barpolar\"}],\"pie\":[{\"automargin\":true,\"type\":\"pie\"}]},\"layout\":{\"autotypenumbers\":\"strict\",\"colorway\":[\"#636efa\",\"#EF553B\",\"#00cc96\",\"#ab63fa\",\"#FFA15A\",\"#19d3f3\",\"#FF6692\",\"#B6E880\",\"#FF97FF\",\"#FECB52\"],\"font\":{\"color\":\"#2a3f5f\"},\"hovermode\":\"closest\",\"hoverlabel\":{\"align\":\"left\"},\"paper_bgcolor\":\"white\",\"plot_bgcolor\":\"#E5ECF6\",\"polar\":{\"bgcolor\":\"#E5ECF6\",\"angularaxis\":{\"gridcolor\":\"white\",\"linecolor\":\"white\",\"ticks\":\"\"},\"radialaxis\":{\"gridcolor\":\"white\",\"linecolor\":\"white\",\"ticks\":\"\"}},\"ternary\":{\"bgcolor\":\"#E5ECF6\",\"aaxis\":{\"gridcolor\":\"white\",\"linecolor\":\"white\",\"ticks\":\"\"},\"baxis\":{\"gridcolor\":\"white\",\"linecolor\":\"white\",\"ticks\":\"\"},\"caxis\":{\"gridcolor\":\"white\",\"linecolor\":\"white\",\"ticks\":\"\"}},\"coloraxis\":{\"colorbar\":{\"outlinewidth\":0,\"ticks\":\"\"}},\"colorscale\":{\"sequential\":[[0.0,\"#0d0887\"],[0.1111111111111111,\"#46039f\"],[0.2222222222222222,\"#7201a8\"],[0.3333333333333333,\"#9c179e\"],[0.4444444444444444,\"#bd3786\"],[0.5555555555555556,\"#d8576b\"],[0.6666666666666666,\"#ed7953\"],[0.7777777777777778,\"#fb9f3a\"],[0.8888888888888888,\"#fdca26\"],[1.0,\"#f0f921\"]],\"sequentialminus\":[[0.0,\"#0d0887\"],[0.1111111111111111,\"#46039f\"],[0.2222222222222222,\"#7201a8\"],[0.3333333333333333,\"#9c179e\"],[0.4444444444444444,\"#bd3786\"],[0.5555555555555556,\"#d8576b\"],[0.6666666666666666,\"#ed7953\"],[0.7777777777777778,\"#fb9f3a\"],[0.8888888888888888,\"#fdca26\"],[1.0,\"#f0f921\"]],\"diverging\":[[0,\"#8e0152\"],[0.1,\"#c51b7d\"],[0.2,\"#de77ae\"],[0.3,\"#f1b6da\"],[0.4,\"#fde0ef\"],[0.5,\"#f7f7f7\"],[0.6,\"#e6f5d0\"],[0.7,\"#b8e186\"],[0.8,\"#7fbc41\"],[0.9,\"#4d9221\"],[1,\"#276419\"]]},\"xaxis\":{\"gridcolor\":\"white\",\"linecolor\":\"white\",\"ticks\":\"\",\"title\":{\"standoff\":15},\"zerolinecolor\":\"white\",\"automargin\":true,\"zerolinewidth\":2},\"yaxis\":{\"gridcolor\":\"white\",\"linecolor\":\"white\",\"ticks\":\"\",\"title\":{\"standoff\":15},\"zerolinecolor\":\"white\",\"automargin\":true,\"zerolinewidth\":2},\"scene\":{\"xaxis\":{\"backgroundcolor\":\"#E5ECF6\",\"gridcolor\":\"white\",\"linecolor\":\"white\",\"showbackground\":true,\"ticks\":\"\",\"zerolinecolor\":\"white\",\"gridwidth\":2},\"yaxis\":{\"backgroundcolor\":\"#E5ECF6\",\"gridcolor\":\"white\",\"linecolor\":\"white\",\"showbackground\":true,\"ticks\":\"\",\"zerolinecolor\":\"white\",\"gridwidth\":2},\"zaxis\":{\"backgroundcolor\":\"#E5ECF6\",\"gridcolor\":\"white\",\"linecolor\":\"white\",\"showbackground\":true,\"ticks\":\"\",\"zerolinecolor\":\"white\",\"gridwidth\":2}},\"shapedefaults\":{\"line\":{\"color\":\"#2a3f5f\"}},\"annotationdefaults\":{\"arrowcolor\":\"#2a3f5f\",\"arrowhead\":0,\"arrowwidth\":1},\"geo\":{\"bgcolor\":\"white\",\"landcolor\":\"#E5ECF6\",\"subunitcolor\":\"white\",\"showland\":true,\"showlakes\":true,\"lakecolor\":\"white\"},\"title\":{\"x\":0.05},\"mapbox\":{\"style\":\"light\"}}},\"xaxis\":{\"anchor\":\"y\",\"domain\":[0.0,1.0]},\"yaxis\":{\"anchor\":\"x\",\"domain\":[0.0,1.0],\"title\":{\"text\":\"Residuals\"}},\"legend\":{\"tracegroupgap\":0},\"title\":{\"text\":\"Box Plot of Residuals\"},\"boxmode\":\"group\"},                        {\"responsive\": true}                    ).then(function(){\n",
       "                            \n",
       "var gd = document.getElementById('5d779baa-254f-4cba-aa61-88630ce76d6d');\n",
       "var x = new MutationObserver(function (mutations, observer) {{\n",
       "        var display = window.getComputedStyle(gd).display;\n",
       "        if (!display || display === 'none') {{\n",
       "            console.log([gd, 'removed!']);\n",
       "            Plotly.purge(gd);\n",
       "            observer.disconnect();\n",
       "        }}\n",
       "}});\n",
       "\n",
       "// Listen for the removal of the full notebook cells\n",
       "var notebookContainer = gd.closest('#notebook-container');\n",
       "if (notebookContainer) {{\n",
       "    x.observe(notebookContainer, {childList: true});\n",
       "}}\n",
       "\n",
       "// Listen for the clearing of the current output cell\n",
       "var outputEl = gd.closest('.output');\n",
       "if (outputEl) {{\n",
       "    x.observe(outputEl, {childList: true});\n",
       "}}\n",
       "\n",
       "                        })                };                });            </script>        </div>"
      ]
     },
     "metadata": {},
     "output_type": "display_data"
    }
   ],
   "source": [
    "import plotly.express as px\n",
    "\n",
    "\n",
    "# Your data\n",
    "data = [0.27, -0.02, -0.11, 0.13, -0.01, -0.08, -0.05, 0.08, 0.16, -0.16, 0.08, 0.00, \n",
    "        0.63, 0.38, -0.03, -0.03, -0.00, 0.00, -0.06, 0.12, -0.12, -0.18, -0.21, -0.14, \n",
    "        -0.09, 0.20, 0.07, -0.61, -0.64, -0.05, 0.15, -0.02, -0.00, 0.28, -0.22, \n",
    "        0.05, -0.05, 0.12, -0.00, 0.01, 0.13, 0.00, -0.04, -0.03, 0.23, -0.00, -0.10, \n",
    "        -0.32, 0.25, 0.03, 0.07]\n",
    "\n",
    "# Create a DataFrame for better visualization and labeling\n",
    "df = pd.DataFrame(data, columns=['Residuals'])\n",
    "\n",
    "# Plot the box plot using Plotly\n",
    "fig = px.box(df, y='Residuals', title=\"Box Plot of Residuals\")\n",
    "\n",
    "# Show the plot\n",
    "fig.show()\n"
   ]
  },
  {
   "cell_type": "code",
   "execution_count": 15,
   "id": "c5b6efe6-1d27-4096-bf50-73f276bd6cdb",
   "metadata": {},
   "outputs": [
    {
     "name": "stdout",
     "output_type": "stream",
     "text": [
      "{'Lower Bound': -0.26625000000000004, 'Upper Bound': 0.30375, 'Mean': 0.014375000000000004, 'Standard Deviation': 0.13827668895491146}\n"
     ]
    }
   ],
   "source": [
    "\n",
    "def calculate_statistics(data):\n",
    "   \n",
    "    data = np.array(data)\n",
    "    \n",
    "    Q1 = np.percentile(data, 25)\n",
    "    Q3 = np.percentile(data, 75)\n",
    "    \n",
    "    # Calculate IQR\n",
    "    IQR = Q3 - Q1\n",
    "\n",
    "    lower_bound = Q1 - 1.5 * IQR\n",
    "    upper_bound = Q3 + 1.5 * IQR\n",
    "\n",
    "    mean = np.mean(data)\n",
    "    std = np.std(data)\n",
    "    \n",
    "    return {\n",
    "        'Lower Bound': lower_bound,\n",
    "        'Upper Bound': upper_bound,\n",
    "        'Mean': mean,\n",
    "        'Standard Deviation': std\n",
    "    }\n",
    "\n",
    "# Example usage:\n",
    "data = [0.27, -0.02, -0.11, 0.13, -0.01, -0.08, -0.05, 0.08, 0.16, -0.16, 0.08, 0.00, \n",
    "         0.38, -0.03, -0.03, -0.00, 0.00, -0.06, 0.12, -0.12, -0.18, -0.21, -0.14, \n",
    "        -0.09, 0.20, 0.07,   -0.05, 0.15, -0.02, -0.00, 0.28, -0.22, \n",
    "        0.05, -0.05, 0.12, -0.00, 0.01, 0.13, 0.00, -0.04, -0.03, 0.23, -0.00, -0.10, \n",
    "        -0.32, 0.25, 0.03, 0.07]\n",
    "\n",
    "# Calculate statistics\n",
    "stats = calculate_statistics(data)\n",
    "print(stats)\n"
   ]
  },
  {
   "cell_type": "code",
   "execution_count": null,
   "id": "5d514443-74ac-4ccc-b156-15149fef57bb",
   "metadata": {},
   "outputs": [],
   "source": [
    "[0.27, -0.02, -0.11, 0.13, -0.01, -0.08, -0.05, 0.08, 0.16, -0.16, 0.08, 0.00, \n",
    "         0.38, -0.03, -0.03, -0.00, 0.00, -0.06, 0.12, -0.12, -0.18, -0.21, -0.14, \n",
    "        -0.09, 0.20, 0.07,   -0.05, 0.15, -0.02, -0.00, 0.28, -0.22, \n",
    "        0.05, -0.05, 0.12, -0.00, 0.01, 0.13, 0.00, -0.04, -0.03, 0.23, -0.00, -0.10, \n",
    "        -0.32, 0.25, 0.03, 0.07]"
   ]
  }
 ],
 "metadata": {
  "colab": {
   "provenance": []
  },
  "kernelspec": {
   "display_name": "Python 3 (ipykernel)",
   "language": "python",
   "name": "python3"
  },
  "language_info": {
   "codemirror_mode": {
    "name": "ipython",
    "version": 3
   },
   "file_extension": ".py",
   "mimetype": "text/x-python",
   "name": "python",
   "nbconvert_exporter": "python",
   "pygments_lexer": "ipython3",
   "version": "3.11.9"
  }
 },
 "nbformat": 4,
 "nbformat_minor": 5
}
